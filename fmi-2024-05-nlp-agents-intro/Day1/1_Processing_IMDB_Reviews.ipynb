{
 "nbformat": 4,
 "nbformat_minor": 0,
 "metadata": {
  "colab": {
   "provenance": [],
   "authorship_tag": "ABX9TyMGCxuTtkgGrW/9WOsOQAIY",
   "include_colab_link": true
  },
  "kernelspec": {
   "name": "python3",
   "display_name": "Python 3 (ipykernel)",
   "language": "python"
  },
  "language_info": {
   "name": "python"
  }
 },
 "cells": [
  {
   "cell_type": "markdown",
   "metadata": {
    "id": "view-in-github",
    "colab_type": "text"
   },
   "source": [
    "<a href=\"https://colab.research.google.com/github/angelaaaateng/AIR_AI_Engineering_Course_2024/blob/main/Day1/1_Processing_IMDB_Reviews.ipynb\" target=\"_parent\"><img src=\"https://colab.research.google.com/assets/colab-badge.svg\" alt=\"Open In Colab\"/></a>"
   ]
  },
  {
   "cell_type": "markdown",
   "source": [
    "# Text Processing Short Activity\n",
    "\n",
    "**Instructions:**\n",
    "1. Download the IMDB Dataset from here or directly from our Github [here](https://github.com/angelaaaateng/AIR_AI_Engineering_Course_2024/raw/refs/heads/main/Datasets/IMDB_Dataset.csv)\n",
    "2. Tokenization with NLTK and SpaCy\n",
    "3. Stopword Removal\n",
    "4. Stemming & Lemmatization\n",
    "5. Compare Results. Once you're done, look at the differences between NLTK and spaCy. Which approach do you think is more suitable for this dataset? What are some differences that you saw in these 2 packages?\n",
    "\n"
   ],
   "metadata": {
    "id": "9BqHvDVEb6wd"
   }
  },
  {
   "cell_type": "code",
   "source": [
    "# Import necessary libraries\n",
    "import pandas as pd\n",
    "import nltk\n",
    "import spacy\n",
    "from nltk.tokenize import word_tokenize\n",
    "from nltk.corpus import stopwords\n",
    "from nltk.stem import PorterStemmer, WordNetLemmatizer\n",
    "from spacy.lang.en.stop_words import STOP_WORDS as spacy_stopwords\n",
    "import matplotlib.pyplot as plt\n",
    "\n",
    "# Download NLTK resources\n",
    "nltk.download('punkt')\n",
    "nltk.download('stopwords')\n",
    "nltk.download('wordnet')"
   ],
   "metadata": {
    "id": "7LH2qsg8Qsk5",
    "colab": {
     "base_uri": "https://localhost:8080/"
    },
    "outputId": "4804707a-a5aa-4555-b31c-bbd0c81efb86",
    "ExecuteTime": {
     "end_time": "2025-04-02T17:32:12.622850Z",
     "start_time": "2025-04-02T17:31:32.326781Z"
    }
   },
   "outputs": [
    {
     "name": "stderr",
     "output_type": "stream",
     "text": [
      "[nltk_data] Downloading package punkt to\n",
      "[nltk_data]     C:\\Users\\office27\\AppData\\Roaming\\nltk_data...\n",
      "[nltk_data]   Package punkt is already up-to-date!\n",
      "[nltk_data] Downloading package stopwords to\n",
      "[nltk_data]     C:\\Users\\office27\\AppData\\Roaming\\nltk_data...\n",
      "[nltk_data]   Unzipping corpora\\stopwords.zip.\n",
      "[nltk_data] Downloading package wordnet to\n",
      "[nltk_data]     C:\\Users\\office27\\AppData\\Roaming\\nltk_data...\n",
      "[nltk_data]   Package wordnet is already up-to-date!\n"
     ]
    },
    {
     "data": {
      "text/plain": [
       "True"
      ]
     },
     "execution_count": 1,
     "metadata": {},
     "output_type": "execute_result"
    }
   ],
   "execution_count": 1
  },
  {
   "cell_type": "code",
   "source": [
    "# Load the IMDB dataset from Github\n",
    "url = \"https://github.com/angelaaaateng/AIR_AI_Engineering_Course_2024/raw/refs/heads/main/Datasets/IMDB_Dataset.csv\"\n",
    "data = pd.read_csv(url)\n",
    "\n",
    "# Display the first few rows to understand the structure of the dataset\n",
    "data.head()"
   ],
   "metadata": {
    "colab": {
     "base_uri": "https://localhost:8080/",
     "height": 206
    },
    "id": "s9yrsmL9cSUP",
    "outputId": "e67c7f77-bcf4-41af-dfe7-bc68c44c3fe9",
    "ExecuteTime": {
     "end_time": "2025-04-02T17:32:20.604852Z",
     "start_time": "2025-04-02T17:32:12.622850Z"
    }
   },
   "outputs": [
    {
     "data": {
      "text/plain": [
       "                                              review sentiment\n",
       "0  One of the other reviewers has mentioned that ...  positive\n",
       "1  A wonderful little production. <br /><br />The...  positive\n",
       "2  I thought this was a wonderful way to spend ti...  positive\n",
       "3  Basically there's a family where a little boy ...  negative\n",
       "4  Petter Mattei's \"Love in the Time of Money\" is...  positive"
      ],
      "text/html": [
       "<div>\n",
       "<style scoped>\n",
       "    .dataframe tbody tr th:only-of-type {\n",
       "        vertical-align: middle;\n",
       "    }\n",
       "\n",
       "    .dataframe tbody tr th {\n",
       "        vertical-align: top;\n",
       "    }\n",
       "\n",
       "    .dataframe thead th {\n",
       "        text-align: right;\n",
       "    }\n",
       "</style>\n",
       "<table border=\"1\" class=\"dataframe\">\n",
       "  <thead>\n",
       "    <tr style=\"text-align: right;\">\n",
       "      <th></th>\n",
       "      <th>review</th>\n",
       "      <th>sentiment</th>\n",
       "    </tr>\n",
       "  </thead>\n",
       "  <tbody>\n",
       "    <tr>\n",
       "      <th>0</th>\n",
       "      <td>One of the other reviewers has mentioned that ...</td>\n",
       "      <td>positive</td>\n",
       "    </tr>\n",
       "    <tr>\n",
       "      <th>1</th>\n",
       "      <td>A wonderful little production. &lt;br /&gt;&lt;br /&gt;The...</td>\n",
       "      <td>positive</td>\n",
       "    </tr>\n",
       "    <tr>\n",
       "      <th>2</th>\n",
       "      <td>I thought this was a wonderful way to spend ti...</td>\n",
       "      <td>positive</td>\n",
       "    </tr>\n",
       "    <tr>\n",
       "      <th>3</th>\n",
       "      <td>Basically there's a family where a little boy ...</td>\n",
       "      <td>negative</td>\n",
       "    </tr>\n",
       "    <tr>\n",
       "      <th>4</th>\n",
       "      <td>Petter Mattei's \"Love in the Time of Money\" is...</td>\n",
       "      <td>positive</td>\n",
       "    </tr>\n",
       "  </tbody>\n",
       "</table>\n",
       "</div>"
      ]
     },
     "execution_count": 2,
     "metadata": {},
     "output_type": "execute_result"
    }
   ],
   "execution_count": 2
  },
  {
   "cell_type": "code",
   "source": [
    "# Define functions for text preprocessing using NLTK\n",
    "def preprocess_nltk(text):\n",
    "    # Tokenization using NLTK\n",
    "    tokens = word_tokenize(text)\n",
    "\n",
    "    # Remove stopwords using NLTK's English stopword list\n",
    "    stop_words = set(stopwords.words('english'))\n",
    "    filtered_tokens = [word for word in tokens if word.lower() not in stop_words]\n",
    "\n",
    "    # Stemming using PorterStemmer\n",
    "    stemmer = PorterStemmer()\n",
    "    stemmed_tokens = [stemmer.stem(word) for word in filtered_tokens]\n",
    "\n",
    "    # Lemmatization using WordNetLemmatizer\n",
    "    lemmatizer = WordNetLemmatizer()\n",
    "    lemmatized_tokens = [lemmatizer.lemmatize(word) for word in filtered_tokens]\n",
    "\n",
    "    return {'tokens': tokens, 'filtered_tokens': filtered_tokens, 'stemmed_tokens': stemmed_tokens, 'lemmatized_tokens': lemmatized_tokens}"
   ],
   "metadata": {
    "id": "m394DkPTbAHT",
    "ExecuteTime": {
     "end_time": "2025-04-02T17:32:21.245617Z",
     "start_time": "2025-04-02T17:32:21.239292Z"
    }
   },
   "outputs": [],
   "execution_count": 3
  },
  {
   "cell_type": "code",
   "source": [
    "# Define functions for text preprocessing using SpaCy\n",
    "def preprocess_spacy(text, nlp):\n",
    "    # Tokenization using SpaCy's language model\n",
    "    doc = nlp(text)\n",
    "    tokens = [token.text for token in doc]\n",
    "\n",
    "    # Remove stopwords using SpaCy's built-in stopword list\n",
    "    filtered_tokens = [token.text for token in doc if token.text.lower() not in spacy_stopwords]\n",
    "\n",
    "    # Lemmatization using SpaCy\n",
    "    lemmatized_tokens = [token.lemma_ for token in doc]\n",
    "\n",
    "    return {'tokens': tokens, 'filtered_tokens': filtered_tokens, 'lemmatized_tokens': lemmatized_tokens}"
   ],
   "metadata": {
    "id": "OPVfKzAbccNs",
    "ExecuteTime": {
     "end_time": "2025-04-02T17:32:21.274647Z",
     "start_time": "2025-04-02T17:32:21.268516Z"
    }
   },
   "outputs": [],
   "execution_count": 4
  },
  {
   "cell_type": "code",
   "source": [
    "# Load SpaCy's small English model\n",
    "nlp = spacy.load('en_core_web_sm')\n",
    "\n",
    "# Preprocess the first review using NLTK\n",
    "nltk_preprocessed = preprocess_nltk(data['review'][0])\n",
    "print(\"NLTK Preprocessed Output:\\n\", nltk_preprocessed)\n",
    "\n",
    "# Preprocess the first review using SpaCy\n",
    "spacy_preprocessed = preprocess_spacy(data['review'][0], nlp)\n",
    "print(\"\\nSpaCy Preprocessed Output:\\n\", spacy_preprocessed)\n"
   ],
   "metadata": {
    "colab": {
     "base_uri": "https://localhost:8080/"
    },
    "id": "sX82gyNccfhz",
    "outputId": "884141ff-e55c-4e81-da8b-6fcca11be3c8",
    "ExecuteTime": {
     "end_time": "2025-04-02T17:32:25.633796Z",
     "start_time": "2025-04-02T17:32:21.284153Z"
    }
   },
   "outputs": [
    {
     "name": "stdout",
     "output_type": "stream",
     "text": [
      "NLTK Preprocessed Output:\n",
      " {'tokens': ['One', 'of', 'the', 'other', 'reviewers', 'has', 'mentioned', 'that', 'after', 'watching', 'just', '1', 'Oz', 'episode', 'you', \"'ll\", 'be', 'hooked', '.', 'They', 'are', 'right', ',', 'as', 'this', 'is', 'exactly', 'what', 'happened', 'with', 'me.', '<', 'br', '/', '>', '<', 'br', '/', '>', 'The', 'first', 'thing', 'that', 'struck', 'me', 'about', 'Oz', 'was', 'its', 'brutality', 'and', 'unflinching', 'scenes', 'of', 'violence', ',', 'which', 'set', 'in', 'right', 'from', 'the', 'word', 'GO', '.', 'Trust', 'me', ',', 'this', 'is', 'not', 'a', 'show', 'for', 'the', 'faint', 'hearted', 'or', 'timid', '.', 'This', 'show', 'pulls', 'no', 'punches', 'with', 'regards', 'to', 'drugs', ',', 'sex', 'or', 'violence', '.', 'Its', 'is', 'hardcore', ',', 'in', 'the', 'classic', 'use', 'of', 'the', 'word.', '<', 'br', '/', '>', '<', 'br', '/', '>', 'It', 'is', 'called', 'OZ', 'as', 'that', 'is', 'the', 'nickname', 'given', 'to', 'the', 'Oswald', 'Maximum', 'Security', 'State', 'Penitentary', '.', 'It', 'focuses', 'mainly', 'on', 'Emerald', 'City', ',', 'an', 'experimental', 'section', 'of', 'the', 'prison', 'where', 'all', 'the', 'cells', 'have', 'glass', 'fronts', 'and', 'face', 'inwards', ',', 'so', 'privacy', 'is', 'not', 'high', 'on', 'the', 'agenda', '.', 'Em', 'City', 'is', 'home', 'to', 'many', '..', 'Aryans', ',', 'Muslims', ',', 'gangstas', ',', 'Latinos', ',', 'Christians', ',', 'Italians', ',', 'Irish', 'and', 'more', '....', 'so', 'scuffles', ',', 'death', 'stares', ',', 'dodgy', 'dealings', 'and', 'shady', 'agreements', 'are', 'never', 'far', 'away.', '<', 'br', '/', '>', '<', 'br', '/', '>', 'I', 'would', 'say', 'the', 'main', 'appeal', 'of', 'the', 'show', 'is', 'due', 'to', 'the', 'fact', 'that', 'it', 'goes', 'where', 'other', 'shows', 'would', \"n't\", 'dare', '.', 'Forget', 'pretty', 'pictures', 'painted', 'for', 'mainstream', 'audiences', ',', 'forget', 'charm', ',', 'forget', 'romance', '...', 'OZ', 'does', \"n't\", 'mess', 'around', '.', 'The', 'first', 'episode', 'I', 'ever', 'saw', 'struck', 'me', 'as', 'so', 'nasty', 'it', 'was', 'surreal', ',', 'I', 'could', \"n't\", 'say', 'I', 'was', 'ready', 'for', 'it', ',', 'but', 'as', 'I', 'watched', 'more', ',', 'I', 'developed', 'a', 'taste', 'for', 'Oz', ',', 'and', 'got', 'accustomed', 'to', 'the', 'high', 'levels', 'of', 'graphic', 'violence', '.', 'Not', 'just', 'violence', ',', 'but', 'injustice', '(', 'crooked', 'guards', 'who', \"'ll\", 'be', 'sold', 'out', 'for', 'a', 'nickel', ',', 'inmates', 'who', \"'ll\", 'kill', 'on', 'order', 'and', 'get', 'away', 'with', 'it', ',', 'well', 'mannered', ',', 'middle', 'class', 'inmates', 'being', 'turned', 'into', 'prison', 'bitches', 'due', 'to', 'their', 'lack', 'of', 'street', 'skills', 'or', 'prison', 'experience', ')', 'Watching', 'Oz', ',', 'you', 'may', 'become', 'comfortable', 'with', 'what', 'is', 'uncomfortable', 'viewing', '....', 'thats', 'if', 'you', 'can', 'get', 'in', 'touch', 'with', 'your', 'darker', 'side', '.'], 'filtered_tokens': ['One', 'reviewers', 'mentioned', 'watching', '1', 'Oz', 'episode', \"'ll\", 'hooked', '.', 'right', ',', 'exactly', 'happened', 'me.', '<', 'br', '/', '>', '<', 'br', '/', '>', 'first', 'thing', 'struck', 'Oz', 'brutality', 'unflinching', 'scenes', 'violence', ',', 'set', 'right', 'word', 'GO', '.', 'Trust', ',', 'show', 'faint', 'hearted', 'timid', '.', 'show', 'pulls', 'punches', 'regards', 'drugs', ',', 'sex', 'violence', '.', 'hardcore', ',', 'classic', 'use', 'word.', '<', 'br', '/', '>', '<', 'br', '/', '>', 'called', 'OZ', 'nickname', 'given', 'Oswald', 'Maximum', 'Security', 'State', 'Penitentary', '.', 'focuses', 'mainly', 'Emerald', 'City', ',', 'experimental', 'section', 'prison', 'cells', 'glass', 'fronts', 'face', 'inwards', ',', 'privacy', 'high', 'agenda', '.', 'Em', 'City', 'home', 'many', '..', 'Aryans', ',', 'Muslims', ',', 'gangstas', ',', 'Latinos', ',', 'Christians', ',', 'Italians', ',', 'Irish', '....', 'scuffles', ',', 'death', 'stares', ',', 'dodgy', 'dealings', 'shady', 'agreements', 'never', 'far', 'away.', '<', 'br', '/', '>', '<', 'br', '/', '>', 'would', 'say', 'main', 'appeal', 'show', 'due', 'fact', 'goes', 'shows', 'would', \"n't\", 'dare', '.', 'Forget', 'pretty', 'pictures', 'painted', 'mainstream', 'audiences', ',', 'forget', 'charm', ',', 'forget', 'romance', '...', 'OZ', \"n't\", 'mess', 'around', '.', 'first', 'episode', 'ever', 'saw', 'struck', 'nasty', 'surreal', ',', 'could', \"n't\", 'say', 'ready', ',', 'watched', ',', 'developed', 'taste', 'Oz', ',', 'got', 'accustomed', 'high', 'levels', 'graphic', 'violence', '.', 'violence', ',', 'injustice', '(', 'crooked', 'guards', \"'ll\", 'sold', 'nickel', ',', 'inmates', \"'ll\", 'kill', 'order', 'get', 'away', ',', 'well', 'mannered', ',', 'middle', 'class', 'inmates', 'turned', 'prison', 'bitches', 'due', 'lack', 'street', 'skills', 'prison', 'experience', ')', 'Watching', 'Oz', ',', 'may', 'become', 'comfortable', 'uncomfortable', 'viewing', '....', 'thats', 'get', 'touch', 'darker', 'side', '.'], 'stemmed_tokens': ['one', 'review', 'mention', 'watch', '1', 'oz', 'episod', \"'ll\", 'hook', '.', 'right', ',', 'exactli', 'happen', 'me.', '<', 'br', '/', '>', '<', 'br', '/', '>', 'first', 'thing', 'struck', 'oz', 'brutal', 'unflinch', 'scene', 'violenc', ',', 'set', 'right', 'word', 'go', '.', 'trust', ',', 'show', 'faint', 'heart', 'timid', '.', 'show', 'pull', 'punch', 'regard', 'drug', ',', 'sex', 'violenc', '.', 'hardcor', ',', 'classic', 'use', 'word.', '<', 'br', '/', '>', '<', 'br', '/', '>', 'call', 'oz', 'nicknam', 'given', 'oswald', 'maximum', 'secur', 'state', 'penitentari', '.', 'focus', 'mainli', 'emerald', 'citi', ',', 'experiment', 'section', 'prison', 'cell', 'glass', 'front', 'face', 'inward', ',', 'privaci', 'high', 'agenda', '.', 'em', 'citi', 'home', 'mani', '..', 'aryan', ',', 'muslim', ',', 'gangsta', ',', 'latino', ',', 'christian', ',', 'italian', ',', 'irish', '....', 'scuffl', ',', 'death', 'stare', ',', 'dodgi', 'deal', 'shadi', 'agreement', 'never', 'far', 'away.', '<', 'br', '/', '>', '<', 'br', '/', '>', 'would', 'say', 'main', 'appeal', 'show', 'due', 'fact', 'goe', 'show', 'would', \"n't\", 'dare', '.', 'forget', 'pretti', 'pictur', 'paint', 'mainstream', 'audienc', ',', 'forget', 'charm', ',', 'forget', 'romanc', '...', 'oz', \"n't\", 'mess', 'around', '.', 'first', 'episod', 'ever', 'saw', 'struck', 'nasti', 'surreal', ',', 'could', \"n't\", 'say', 'readi', ',', 'watch', ',', 'develop', 'tast', 'oz', ',', 'got', 'accustom', 'high', 'level', 'graphic', 'violenc', '.', 'violenc', ',', 'injustic', '(', 'crook', 'guard', \"'ll\", 'sold', 'nickel', ',', 'inmat', \"'ll\", 'kill', 'order', 'get', 'away', ',', 'well', 'manner', ',', 'middl', 'class', 'inmat', 'turn', 'prison', 'bitch', 'due', 'lack', 'street', 'skill', 'prison', 'experi', ')', 'watch', 'oz', ',', 'may', 'becom', 'comfort', 'uncomfort', 'view', '....', 'that', 'get', 'touch', 'darker', 'side', '.'], 'lemmatized_tokens': ['One', 'reviewer', 'mentioned', 'watching', '1', 'Oz', 'episode', \"'ll\", 'hooked', '.', 'right', ',', 'exactly', 'happened', 'me.', '<', 'br', '/', '>', '<', 'br', '/', '>', 'first', 'thing', 'struck', 'Oz', 'brutality', 'unflinching', 'scene', 'violence', ',', 'set', 'right', 'word', 'GO', '.', 'Trust', ',', 'show', 'faint', 'hearted', 'timid', '.', 'show', 'pull', 'punch', 'regard', 'drug', ',', 'sex', 'violence', '.', 'hardcore', ',', 'classic', 'use', 'word.', '<', 'br', '/', '>', '<', 'br', '/', '>', 'called', 'OZ', 'nickname', 'given', 'Oswald', 'Maximum', 'Security', 'State', 'Penitentary', '.', 'focus', 'mainly', 'Emerald', 'City', ',', 'experimental', 'section', 'prison', 'cell', 'glass', 'front', 'face', 'inwards', ',', 'privacy', 'high', 'agenda', '.', 'Em', 'City', 'home', 'many', '..', 'Aryans', ',', 'Muslims', ',', 'gangsta', ',', 'Latinos', ',', 'Christians', ',', 'Italians', ',', 'Irish', '....', 'scuffle', ',', 'death', 'stare', ',', 'dodgy', 'dealing', 'shady', 'agreement', 'never', 'far', 'away.', '<', 'br', '/', '>', '<', 'br', '/', '>', 'would', 'say', 'main', 'appeal', 'show', 'due', 'fact', 'go', 'show', 'would', \"n't\", 'dare', '.', 'Forget', 'pretty', 'picture', 'painted', 'mainstream', 'audience', ',', 'forget', 'charm', ',', 'forget', 'romance', '...', 'OZ', \"n't\", 'mess', 'around', '.', 'first', 'episode', 'ever', 'saw', 'struck', 'nasty', 'surreal', ',', 'could', \"n't\", 'say', 'ready', ',', 'watched', ',', 'developed', 'taste', 'Oz', ',', 'got', 'accustomed', 'high', 'level', 'graphic', 'violence', '.', 'violence', ',', 'injustice', '(', 'crooked', 'guard', \"'ll\", 'sold', 'nickel', ',', 'inmate', \"'ll\", 'kill', 'order', 'get', 'away', ',', 'well', 'mannered', ',', 'middle', 'class', 'inmate', 'turned', 'prison', 'bitch', 'due', 'lack', 'street', 'skill', 'prison', 'experience', ')', 'Watching', 'Oz', ',', 'may', 'become', 'comfortable', 'uncomfortable', 'viewing', '....', 'thats', 'get', 'touch', 'darker', 'side', '.']}\n",
      "\n",
      "SpaCy Preprocessed Output:\n",
      " {'tokens': ['One', 'of', 'the', 'other', 'reviewers', 'has', 'mentioned', 'that', 'after', 'watching', 'just', '1', 'Oz', 'episode', 'you', \"'ll\", 'be', 'hooked', '.', 'They', 'are', 'right', ',', 'as', 'this', 'is', 'exactly', 'what', 'happened', 'with', 'me.<br', '/><br', '/>The', 'first', 'thing', 'that', 'struck', 'me', 'about', 'Oz', 'was', 'its', 'brutality', 'and', 'unflinching', 'scenes', 'of', 'violence', ',', 'which', 'set', 'in', 'right', 'from', 'the', 'word', 'GO', '.', 'Trust', 'me', ',', 'this', 'is', 'not', 'a', 'show', 'for', 'the', 'faint', 'hearted', 'or', 'timid', '.', 'This', 'show', 'pulls', 'no', 'punches', 'with', 'regards', 'to', 'drugs', ',', 'sex', 'or', 'violence', '.', 'Its', 'is', 'hardcore', ',', 'in', 'the', 'classic', 'use', 'of', 'the', 'word.<br', '/><br', '/>It', 'is', 'called', 'OZ', 'as', 'that', 'is', 'the', 'nickname', 'given', 'to', 'the', 'Oswald', 'Maximum', 'Security', 'State', 'Penitentary', '.', 'It', 'focuses', 'mainly', 'on', 'Emerald', 'City', ',', 'an', 'experimental', 'section', 'of', 'the', 'prison', 'where', 'all', 'the', 'cells', 'have', 'glass', 'fronts', 'and', 'face', 'inwards', ',', 'so', 'privacy', 'is', 'not', 'high', 'on', 'the', 'agenda', '.', 'Em', 'City', 'is', 'home', 'to', 'many', '..', 'Aryans', ',', 'Muslims', ',', 'gangstas', ',', 'Latinos', ',', 'Christians', ',', 'Italians', ',', 'Irish', 'and', 'more', '....', 'so', 'scuffles', ',', 'death', 'stares', ',', 'dodgy', 'dealings', 'and', 'shady', 'agreements', 'are', 'never', 'far', 'away.<br', '/><br', '/>I', 'would', 'say', 'the', 'main', 'appeal', 'of', 'the', 'show', 'is', 'due', 'to', 'the', 'fact', 'that', 'it', 'goes', 'where', 'other', 'shows', 'would', \"n't\", 'dare', '.', 'Forget', 'pretty', 'pictures', 'painted', 'for', 'mainstream', 'audiences', ',', 'forget', 'charm', ',', 'forget', 'romance', '...', 'OZ', 'does', \"n't\", 'mess', 'around', '.', 'The', 'first', 'episode', 'I', 'ever', 'saw', 'struck', 'me', 'as', 'so', 'nasty', 'it', 'was', 'surreal', ',', 'I', 'could', \"n't\", 'say', 'I', 'was', 'ready', 'for', 'it', ',', 'but', 'as', 'I', 'watched', 'more', ',', 'I', 'developed', 'a', 'taste', 'for', 'Oz', ',', 'and', 'got', 'accustomed', 'to', 'the', 'high', 'levels', 'of', 'graphic', 'violence', '.', 'Not', 'just', 'violence', ',', 'but', 'injustice', '(', 'crooked', 'guards', 'who', \"'ll\", 'be', 'sold', 'out', 'for', 'a', 'nickel', ',', 'inmates', 'who', \"'ll\", 'kill', 'on', 'order', 'and', 'get', 'away', 'with', 'it', ',', 'well', 'mannered', ',', 'middle', 'class', 'inmates', 'being', 'turned', 'into', 'prison', 'bitches', 'due', 'to', 'their', 'lack', 'of', 'street', 'skills', 'or', 'prison', 'experience', ')', 'Watching', 'Oz', ',', 'you', 'may', 'become', 'comfortable', 'with', 'what', 'is', 'uncomfortable', 'viewing', '....', 'thats', 'if', 'you', 'can', 'get', 'in', 'touch', 'with', 'your', 'darker', 'side', '.'], 'filtered_tokens': ['reviewers', 'mentioned', 'watching', '1', 'Oz', 'episode', 'hooked', '.', 'right', ',', 'exactly', 'happened', 'me.<br', '/><br', '/>The', 'thing', 'struck', 'Oz', 'brutality', 'unflinching', 'scenes', 'violence', ',', 'set', 'right', 'word', '.', 'Trust', ',', 'faint', 'hearted', 'timid', '.', 'pulls', 'punches', 'regards', 'drugs', ',', 'sex', 'violence', '.', 'hardcore', ',', 'classic', 'use', 'word.<br', '/><br', '/>It', 'called', 'OZ', 'nickname', 'given', 'Oswald', 'Maximum', 'Security', 'State', 'Penitentary', '.', 'focuses', 'mainly', 'Emerald', 'City', ',', 'experimental', 'section', 'prison', 'cells', 'glass', 'fronts', 'face', 'inwards', ',', 'privacy', 'high', 'agenda', '.', 'Em', 'City', 'home', '..', 'Aryans', ',', 'Muslims', ',', 'gangstas', ',', 'Latinos', ',', 'Christians', ',', 'Italians', ',', 'Irish', '....', 'scuffles', ',', 'death', 'stares', ',', 'dodgy', 'dealings', 'shady', 'agreements', 'far', 'away.<br', '/><br', '/>I', 'main', 'appeal', 'fact', 'goes', 'shows', 'dare', '.', 'Forget', 'pretty', 'pictures', 'painted', 'mainstream', 'audiences', ',', 'forget', 'charm', ',', 'forget', 'romance', '...', 'OZ', 'mess', '.', 'episode', 'saw', 'struck', 'nasty', 'surreal', ',', 'ready', ',', 'watched', ',', 'developed', 'taste', 'Oz', ',', 'got', 'accustomed', 'high', 'levels', 'graphic', 'violence', '.', 'violence', ',', 'injustice', '(', 'crooked', 'guards', 'sold', 'nickel', ',', 'inmates', 'kill', 'order', 'away', ',', 'mannered', ',', 'middle', 'class', 'inmates', 'turned', 'prison', 'bitches', 'lack', 'street', 'skills', 'prison', 'experience', ')', 'Watching', 'Oz', ',', 'comfortable', 'uncomfortable', 'viewing', '....', 'thats', 'touch', 'darker', '.'], 'lemmatized_tokens': ['one', 'of', 'the', 'other', 'reviewer', 'have', 'mention', 'that', 'after', 'watch', 'just', '1', 'Oz', 'episode', 'you', 'will', 'be', 'hook', '.', 'they', 'be', 'right', ',', 'as', 'this', 'be', 'exactly', 'what', 'happen', 'with', 'me.<br', '/><br', '/>the', 'first', 'thing', 'that', 'strike', 'I', 'about', 'Oz', 'be', 'its', 'brutality', 'and', 'unflinche', 'scene', 'of', 'violence', ',', 'which', 'set', 'in', 'right', 'from', 'the', 'word', 'GO', '.', 'trust', 'I', ',', 'this', 'be', 'not', 'a', 'show', 'for', 'the', 'faint', 'hearted', 'or', 'timid', '.', 'this', 'show', 'pull', 'no', 'punch', 'with', 'regard', 'to', 'drug', ',', 'sex', 'or', 'violence', '.', 'its', 'be', 'hardcore', ',', 'in', 'the', 'classic', 'use', 'of', 'the', 'word.<br', '/><br', '/>it', 'be', 'call', 'oz', 'as', 'that', 'be', 'the', 'nickname', 'give', 'to', 'the', 'Oswald', 'Maximum', 'Security', 'State', 'Penitentary', '.', 'it', 'focus', 'mainly', 'on', 'Emerald', 'City', ',', 'an', 'experimental', 'section', 'of', 'the', 'prison', 'where', 'all', 'the', 'cell', 'have', 'glass', 'front', 'and', 'face', 'inward', ',', 'so', 'privacy', 'be', 'not', 'high', 'on', 'the', 'agenda', '.', 'Em', 'City', 'be', 'home', 'to', 'many', '..', 'Aryans', ',', 'Muslims', ',', 'gangsta', ',', 'Latinos', ',', 'Christians', ',', 'Italians', ',', 'irish', 'and', 'more', '....', 'so', 'scuffle', ',', 'death', 'stare', ',', 'dodgy', 'dealing', 'and', 'shady', 'agreement', 'be', 'never', 'far', 'away.<br', '/><br', '/>I', 'would', 'say', 'the', 'main', 'appeal', 'of', 'the', 'show', 'be', 'due', 'to', 'the', 'fact', 'that', 'it', 'go', 'where', 'other', 'show', 'would', 'not', 'dare', '.', 'forget', 'pretty', 'picture', 'paint', 'for', 'mainstream', 'audience', ',', 'forget', 'charm', ',', 'forget', 'romance', '...', 'oz', 'do', 'not', 'mess', 'around', '.', 'the', 'first', 'episode', 'I', 'ever', 'see', 'strike', 'I', 'as', 'so', 'nasty', 'it', 'be', 'surreal', ',', 'I', 'could', 'not', 'say', 'I', 'be', 'ready', 'for', 'it', ',', 'but', 'as', 'I', 'watch', 'more', ',', 'I', 'develop', 'a', 'taste', 'for', 'Oz', ',', 'and', 'get', 'accustom', 'to', 'the', 'high', 'level', 'of', 'graphic', 'violence', '.', 'not', 'just', 'violence', ',', 'but', 'injustice', '(', 'crooked', 'guard', 'who', 'will', 'be', 'sell', 'out', 'for', 'a', 'nickel', ',', 'inmate', 'who', 'will', 'kill', 'on', 'order', 'and', 'get', 'away', 'with', 'it', ',', 'well', 'mannered', ',', 'middle', 'class', 'inmate', 'be', 'turn', 'into', 'prison', 'bitch', 'due', 'to', 'their', 'lack', 'of', 'street', 'skill', 'or', 'prison', 'experience', ')', 'watch', 'Oz', ',', 'you', 'may', 'become', 'comfortable', 'with', 'what', 'be', 'uncomfortable', 'view', '....', 'that', 'if', 'you', 'can', 'get', 'in', 'touch', 'with', 'your', 'dark', 'side', '.']}\n"
     ]
    }
   ],
   "execution_count": 5
  },
  {
   "cell_type": "code",
   "source": [
    "# Compare NLTK and SpaCy results\n",
    "print(\"\\nComparison of NLTK and SpaCy Tokenization:\")\n",
    "print(f\"NLTK Tokens: {nltk_preprocessed['filtered_tokens']}\")\n",
    "print(f\"SpaCy Tokens: {spacy_preprocessed['filtered_tokens']}\")\n",
    "# SpaCy’s tokenization might differ because it can handle contractions like \"isn't\" as \"is\" and \"n't\", while NLTK may treat them as a single token.\n"
   ],
   "metadata": {
    "colab": {
     "base_uri": "https://localhost:8080/"
    },
    "id": "9Kl9Is_AcpMZ",
    "outputId": "c0491813-ff2c-46c4-eb9a-e7908fa3437b",
    "ExecuteTime": {
     "end_time": "2025-04-02T17:32:25.667704Z",
     "start_time": "2025-04-02T17:32:25.662570Z"
    }
   },
   "outputs": [
    {
     "name": "stdout",
     "output_type": "stream",
     "text": [
      "\n",
      "Comparison of NLTK and SpaCy Tokenization:\n",
      "NLTK Tokens: ['One', 'reviewers', 'mentioned', 'watching', '1', 'Oz', 'episode', \"'ll\", 'hooked', '.', 'right', ',', 'exactly', 'happened', 'me.', '<', 'br', '/', '>', '<', 'br', '/', '>', 'first', 'thing', 'struck', 'Oz', 'brutality', 'unflinching', 'scenes', 'violence', ',', 'set', 'right', 'word', 'GO', '.', 'Trust', ',', 'show', 'faint', 'hearted', 'timid', '.', 'show', 'pulls', 'punches', 'regards', 'drugs', ',', 'sex', 'violence', '.', 'hardcore', ',', 'classic', 'use', 'word.', '<', 'br', '/', '>', '<', 'br', '/', '>', 'called', 'OZ', 'nickname', 'given', 'Oswald', 'Maximum', 'Security', 'State', 'Penitentary', '.', 'focuses', 'mainly', 'Emerald', 'City', ',', 'experimental', 'section', 'prison', 'cells', 'glass', 'fronts', 'face', 'inwards', ',', 'privacy', 'high', 'agenda', '.', 'Em', 'City', 'home', 'many', '..', 'Aryans', ',', 'Muslims', ',', 'gangstas', ',', 'Latinos', ',', 'Christians', ',', 'Italians', ',', 'Irish', '....', 'scuffles', ',', 'death', 'stares', ',', 'dodgy', 'dealings', 'shady', 'agreements', 'never', 'far', 'away.', '<', 'br', '/', '>', '<', 'br', '/', '>', 'would', 'say', 'main', 'appeal', 'show', 'due', 'fact', 'goes', 'shows', 'would', \"n't\", 'dare', '.', 'Forget', 'pretty', 'pictures', 'painted', 'mainstream', 'audiences', ',', 'forget', 'charm', ',', 'forget', 'romance', '...', 'OZ', \"n't\", 'mess', 'around', '.', 'first', 'episode', 'ever', 'saw', 'struck', 'nasty', 'surreal', ',', 'could', \"n't\", 'say', 'ready', ',', 'watched', ',', 'developed', 'taste', 'Oz', ',', 'got', 'accustomed', 'high', 'levels', 'graphic', 'violence', '.', 'violence', ',', 'injustice', '(', 'crooked', 'guards', \"'ll\", 'sold', 'nickel', ',', 'inmates', \"'ll\", 'kill', 'order', 'get', 'away', ',', 'well', 'mannered', ',', 'middle', 'class', 'inmates', 'turned', 'prison', 'bitches', 'due', 'lack', 'street', 'skills', 'prison', 'experience', ')', 'Watching', 'Oz', ',', 'may', 'become', 'comfortable', 'uncomfortable', 'viewing', '....', 'thats', 'get', 'touch', 'darker', 'side', '.']\n",
      "SpaCy Tokens: ['reviewers', 'mentioned', 'watching', '1', 'Oz', 'episode', 'hooked', '.', 'right', ',', 'exactly', 'happened', 'me.<br', '/><br', '/>The', 'thing', 'struck', 'Oz', 'brutality', 'unflinching', 'scenes', 'violence', ',', 'set', 'right', 'word', '.', 'Trust', ',', 'faint', 'hearted', 'timid', '.', 'pulls', 'punches', 'regards', 'drugs', ',', 'sex', 'violence', '.', 'hardcore', ',', 'classic', 'use', 'word.<br', '/><br', '/>It', 'called', 'OZ', 'nickname', 'given', 'Oswald', 'Maximum', 'Security', 'State', 'Penitentary', '.', 'focuses', 'mainly', 'Emerald', 'City', ',', 'experimental', 'section', 'prison', 'cells', 'glass', 'fronts', 'face', 'inwards', ',', 'privacy', 'high', 'agenda', '.', 'Em', 'City', 'home', '..', 'Aryans', ',', 'Muslims', ',', 'gangstas', ',', 'Latinos', ',', 'Christians', ',', 'Italians', ',', 'Irish', '....', 'scuffles', ',', 'death', 'stares', ',', 'dodgy', 'dealings', 'shady', 'agreements', 'far', 'away.<br', '/><br', '/>I', 'main', 'appeal', 'fact', 'goes', 'shows', 'dare', '.', 'Forget', 'pretty', 'pictures', 'painted', 'mainstream', 'audiences', ',', 'forget', 'charm', ',', 'forget', 'romance', '...', 'OZ', 'mess', '.', 'episode', 'saw', 'struck', 'nasty', 'surreal', ',', 'ready', ',', 'watched', ',', 'developed', 'taste', 'Oz', ',', 'got', 'accustomed', 'high', 'levels', 'graphic', 'violence', '.', 'violence', ',', 'injustice', '(', 'crooked', 'guards', 'sold', 'nickel', ',', 'inmates', 'kill', 'order', 'away', ',', 'mannered', ',', 'middle', 'class', 'inmates', 'turned', 'prison', 'bitches', 'lack', 'street', 'skills', 'prison', 'experience', ')', 'Watching', 'Oz', ',', 'comfortable', 'uncomfortable', 'viewing', '....', 'thats', 'touch', 'darker', '.']\n"
     ]
    }
   ],
   "execution_count": 6
  },
  {
   "cell_type": "code",
   "source": [
    "\n",
    "print(\"\\nComparison of NLTK and SpaCy Lemmatization:\")\n",
    "print(f\"NLTK Lemmatized Tokens: {nltk_preprocessed['lemmatized_tokens']}\")\n",
    "print(f\"SpaCy Lemmatized Tokens: {spacy_preprocessed['lemmatized_tokens']}\")\n",
    "# SpaCy’s lemmatization tends to be more accurate and context-aware because it uses a more comprehensive rule-based approach and vocabulary. NLTK’s WordNetLemmatizer, in contrast, sometimes only reduces words to their base form without considering context.\n"
   ],
   "metadata": {
    "colab": {
     "base_uri": "https://localhost:8080/"
    },
    "id": "r_-NSxQrczIK",
    "outputId": "44d14c86-e74d-4e22-8347-b4cdca974d27",
    "ExecuteTime": {
     "end_time": "2025-04-02T17:32:25.685470Z",
     "start_time": "2025-04-02T17:32:25.678215Z"
    }
   },
   "outputs": [
    {
     "name": "stdout",
     "output_type": "stream",
     "text": [
      "\n",
      "Comparison of NLTK and SpaCy Lemmatization:\n",
      "NLTK Lemmatized Tokens: ['One', 'reviewer', 'mentioned', 'watching', '1', 'Oz', 'episode', \"'ll\", 'hooked', '.', 'right', ',', 'exactly', 'happened', 'me.', '<', 'br', '/', '>', '<', 'br', '/', '>', 'first', 'thing', 'struck', 'Oz', 'brutality', 'unflinching', 'scene', 'violence', ',', 'set', 'right', 'word', 'GO', '.', 'Trust', ',', 'show', 'faint', 'hearted', 'timid', '.', 'show', 'pull', 'punch', 'regard', 'drug', ',', 'sex', 'violence', '.', 'hardcore', ',', 'classic', 'use', 'word.', '<', 'br', '/', '>', '<', 'br', '/', '>', 'called', 'OZ', 'nickname', 'given', 'Oswald', 'Maximum', 'Security', 'State', 'Penitentary', '.', 'focus', 'mainly', 'Emerald', 'City', ',', 'experimental', 'section', 'prison', 'cell', 'glass', 'front', 'face', 'inwards', ',', 'privacy', 'high', 'agenda', '.', 'Em', 'City', 'home', 'many', '..', 'Aryans', ',', 'Muslims', ',', 'gangsta', ',', 'Latinos', ',', 'Christians', ',', 'Italians', ',', 'Irish', '....', 'scuffle', ',', 'death', 'stare', ',', 'dodgy', 'dealing', 'shady', 'agreement', 'never', 'far', 'away.', '<', 'br', '/', '>', '<', 'br', '/', '>', 'would', 'say', 'main', 'appeal', 'show', 'due', 'fact', 'go', 'show', 'would', \"n't\", 'dare', '.', 'Forget', 'pretty', 'picture', 'painted', 'mainstream', 'audience', ',', 'forget', 'charm', ',', 'forget', 'romance', '...', 'OZ', \"n't\", 'mess', 'around', '.', 'first', 'episode', 'ever', 'saw', 'struck', 'nasty', 'surreal', ',', 'could', \"n't\", 'say', 'ready', ',', 'watched', ',', 'developed', 'taste', 'Oz', ',', 'got', 'accustomed', 'high', 'level', 'graphic', 'violence', '.', 'violence', ',', 'injustice', '(', 'crooked', 'guard', \"'ll\", 'sold', 'nickel', ',', 'inmate', \"'ll\", 'kill', 'order', 'get', 'away', ',', 'well', 'mannered', ',', 'middle', 'class', 'inmate', 'turned', 'prison', 'bitch', 'due', 'lack', 'street', 'skill', 'prison', 'experience', ')', 'Watching', 'Oz', ',', 'may', 'become', 'comfortable', 'uncomfortable', 'viewing', '....', 'thats', 'get', 'touch', 'darker', 'side', '.']\n",
      "SpaCy Lemmatized Tokens: ['one', 'of', 'the', 'other', 'reviewer', 'have', 'mention', 'that', 'after', 'watch', 'just', '1', 'Oz', 'episode', 'you', 'will', 'be', 'hook', '.', 'they', 'be', 'right', ',', 'as', 'this', 'be', 'exactly', 'what', 'happen', 'with', 'me.<br', '/><br', '/>the', 'first', 'thing', 'that', 'strike', 'I', 'about', 'Oz', 'be', 'its', 'brutality', 'and', 'unflinche', 'scene', 'of', 'violence', ',', 'which', 'set', 'in', 'right', 'from', 'the', 'word', 'GO', '.', 'trust', 'I', ',', 'this', 'be', 'not', 'a', 'show', 'for', 'the', 'faint', 'hearted', 'or', 'timid', '.', 'this', 'show', 'pull', 'no', 'punch', 'with', 'regard', 'to', 'drug', ',', 'sex', 'or', 'violence', '.', 'its', 'be', 'hardcore', ',', 'in', 'the', 'classic', 'use', 'of', 'the', 'word.<br', '/><br', '/>it', 'be', 'call', 'oz', 'as', 'that', 'be', 'the', 'nickname', 'give', 'to', 'the', 'Oswald', 'Maximum', 'Security', 'State', 'Penitentary', '.', 'it', 'focus', 'mainly', 'on', 'Emerald', 'City', ',', 'an', 'experimental', 'section', 'of', 'the', 'prison', 'where', 'all', 'the', 'cell', 'have', 'glass', 'front', 'and', 'face', 'inward', ',', 'so', 'privacy', 'be', 'not', 'high', 'on', 'the', 'agenda', '.', 'Em', 'City', 'be', 'home', 'to', 'many', '..', 'Aryans', ',', 'Muslims', ',', 'gangsta', ',', 'Latinos', ',', 'Christians', ',', 'Italians', ',', 'irish', 'and', 'more', '....', 'so', 'scuffle', ',', 'death', 'stare', ',', 'dodgy', 'dealing', 'and', 'shady', 'agreement', 'be', 'never', 'far', 'away.<br', '/><br', '/>I', 'would', 'say', 'the', 'main', 'appeal', 'of', 'the', 'show', 'be', 'due', 'to', 'the', 'fact', 'that', 'it', 'go', 'where', 'other', 'show', 'would', 'not', 'dare', '.', 'forget', 'pretty', 'picture', 'paint', 'for', 'mainstream', 'audience', ',', 'forget', 'charm', ',', 'forget', 'romance', '...', 'oz', 'do', 'not', 'mess', 'around', '.', 'the', 'first', 'episode', 'I', 'ever', 'see', 'strike', 'I', 'as', 'so', 'nasty', 'it', 'be', 'surreal', ',', 'I', 'could', 'not', 'say', 'I', 'be', 'ready', 'for', 'it', ',', 'but', 'as', 'I', 'watch', 'more', ',', 'I', 'develop', 'a', 'taste', 'for', 'Oz', ',', 'and', 'get', 'accustom', 'to', 'the', 'high', 'level', 'of', 'graphic', 'violence', '.', 'not', 'just', 'violence', ',', 'but', 'injustice', '(', 'crooked', 'guard', 'who', 'will', 'be', 'sell', 'out', 'for', 'a', 'nickel', ',', 'inmate', 'who', 'will', 'kill', 'on', 'order', 'and', 'get', 'away', 'with', 'it', ',', 'well', 'mannered', ',', 'middle', 'class', 'inmate', 'be', 'turn', 'into', 'prison', 'bitch', 'due', 'to', 'their', 'lack', 'of', 'street', 'skill', 'or', 'prison', 'experience', ')', 'watch', 'Oz', ',', 'you', 'may', 'become', 'comfortable', 'with', 'what', 'be', 'uncomfortable', 'view', '....', 'that', 'if', 'you', 'can', 'get', 'in', 'touch', 'with', 'your', 'dark', 'side', '.']\n"
     ]
    }
   ],
   "execution_count": 7
  },
  {
   "cell_type": "code",
   "source": [
    "\n",
    "# Visual comparison of tokenization differences\n",
    "nltk_tokens = nltk_preprocessed['filtered_tokens']\n",
    "spacy_tokens = spacy_preprocessed['filtered_tokens']\n",
    "\n",
    "# Plotting token frequency for comparison\n",
    "plt.figure(figsize=(14, 6))\n",
    "nltk_token_counts = pd.Series(nltk_tokens).value_counts().head(10)\n",
    "spacy_token_counts = pd.Series(spacy_tokens).value_counts().head(10)\n",
    "\n",
    "# Plot NLTK Token Frequencies\n",
    "plt.subplot(1, 2, 1)\n",
    "nltk_token_counts.plot(kind='bar', color='skyblue')\n",
    "plt.title('Top 10 NLTK Tokens')\n",
    "plt.ylabel('Frequency')\n",
    "\n",
    "# Plot SpaCy Token Frequencies\n",
    "plt.subplot(1, 2, 2)\n",
    "spacy_token_counts.plot(kind='bar', color='orange')\n",
    "plt.title('Top 10 SpaCy Tokens')\n",
    "plt.ylabel('Frequency')\n",
    "\n",
    "plt.suptitle('Comparison of NLTK vs SpaCy Tokenization')\n",
    "plt.show()\n"
   ],
   "metadata": {
    "colab": {
     "base_uri": "https://localhost:8080/",
     "height": 626
    },
    "id": "1YXjyZnec5co",
    "outputId": "f49d2b15-2206-4513-b567-cbebf7293db1",
    "ExecuteTime": {
     "end_time": "2025-04-02T17:32:26.511327Z",
     "start_time": "2025-04-02T17:32:25.726169Z"
    }
   },
   "outputs": [
    {
     "data": {
      "text/plain": [
       "<Figure size 1400x600 with 2 Axes>"
      ],
      "image/png": "[encoded data removed]"
     },
     "metadata": {},
     "output_type": "display_data"
    }
   ],
   "execution_count": 8
  },
  {
   "cell_type": "code",
   "source": [],
   "metadata": {
    "id": "TlR_6jg7dCC0",
    "ExecuteTime": {
     "end_time": "2025-04-02T17:32:26.523907Z",
     "start_time": "2025-04-02T17:32:26.519787Z"
    }
   },
   "outputs": [],
   "execution_count": null
  },
  {
   "cell_type": "markdown",
   "source": [
    "Differences Between NLTK and spaCy:\n",
    "1. **Ease of Use**:\n",
    "   - **NLTK**: Offers more control and is modular, but can be more complex and requires manual setup for many tasks.\n",
    "   - **spaCy**: Designed for fast, efficient NLP with pre-trained models, making it easier for practical applications.\n",
    "2. **Performance**:\n",
    "   - **NLTK**: Slower, especially for large datasets.\n",
    "   - **spaCy**: Optimized for performance, great for handling large text corpora quickly.\n",
    "3. **Applications**:\n",
    "   - **NLTK**: Ideal for research and experimentation, as it provides a wide range of tools and algorithms.\n",
    "   - **spaCy**: Better suited for production-level applications where speed and ease of deployment are critical.\n",
    "In short:\n",
    "- Use **NLTK** for flexibility and in-depth experimentation.\n",
    "- Use **spaCy** when you need speed and ready-to-use NLP pipelines for production systems.\n",
    "\n"
   ],
   "metadata": {
    "id": "zr0KjyPqiU6J"
   }
  },
  {
   "cell_type": "code",
   "source": [],
   "metadata": {
    "id": "X-KIgT3qiWaK",
    "ExecuteTime": {
     "end_time": "2025-04-02T17:32:26.535949Z",
     "start_time": "2025-04-02T17:32:26.532186Z"
    }
   },
   "outputs": [],
   "execution_count": null
  }
 ]
}
