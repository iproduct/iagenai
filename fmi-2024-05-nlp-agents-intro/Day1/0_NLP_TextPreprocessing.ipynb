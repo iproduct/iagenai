{
 "nbformat": 4,
 "nbformat_minor": 0,
 "metadata": {
  "colab": {
   "provenance": []
  },
  "kernelspec": {
   "name": "python3",
   "display_name": "Python 3 (ipykernel)",
   "language": "python"
  },
  "language_info": {
   "name": "python"
  },
  "widgets": {
   "application/vnd.jupyter.widget-state+json": {
    "92d6e069404146fe9d15dec36ccbade0": {
     "model_module": "@jupyter-widgets/controls",
     "model_name": "HBoxModel",
     "model_module_version": "1.5.0",
     "state": {
      "_dom_classes": [],
      "_model_module": "@jupyter-widgets/controls",
      "_model_module_version": "1.5.0",
      "_model_name": "HBoxModel",
      "_view_count": null,
      "_view_module": "@jupyter-widgets/controls",
      "_view_module_version": "1.5.0",
      "_view_name": "HBoxView",
      "box_style": "",
      "children": [
       "IPY_MODEL_7e21e23ebc0d40d0b6dcb0fc08aa9d21",
       "IPY_MODEL_771bd628fdbc4d16b146dd11e22ddd2d",
       "IPY_MODEL_b9254341867d49f09e9af7d4ccbc40bd"
      ],
      "layout": "IPY_MODEL_4815f3e2180f4949b23c23743068ab92"
     }
    },
    "7e21e23ebc0d40d0b6dcb0fc08aa9d21": {
     "model_module": "@jupyter-widgets/controls",
     "model_name": "HTMLModel",
     "model_module_version": "1.5.0",
     "state": {
      "_dom_classes": [],
      "_model_module": "@jupyter-widgets/controls",
      "_model_module_version": "1.5.0",
      "_model_name": "HTMLModel",
      "_view_count": null,
      "_view_module": "@jupyter-widgets/controls",
      "_view_module_version": "1.5.0",
      "_view_name": "HTMLView",
      "description": "",
      "description_tooltip": null,
      "layout": "IPY_MODEL_3020c35cb60e4b1bbff5951fb046c51f",
      "placeholder": "​",
      "style": "IPY_MODEL_d6e6114058d34a6aaf9c69944ff1955e",
      "value": "tokenizer_config.json: 100%"
     }
    },
    "771bd628fdbc4d16b146dd11e22ddd2d": {
     "model_module": "@jupyter-widgets/controls",
     "model_name": "FloatProgressModel",
     "model_module_version": "1.5.0",
     "state": {
      "_dom_classes": [],
      "_model_module": "@jupyter-widgets/controls",
      "_model_module_version": "1.5.0",
      "_model_name": "FloatProgressModel",
      "_view_count": null,
      "_view_module": "@jupyter-widgets/controls",
      "_view_module_version": "1.5.0",
      "_view_name": "ProgressView",
      "bar_style": "success",
      "description": "",
      "description_tooltip": null,
      "layout": "IPY_MODEL_42d47908f1fe48c0bac239c2e8077cce",
      "max": 48,
      "min": 0,
      "orientation": "horizontal",
      "style": "IPY_MODEL_ea6dfbf35c964581b046d2b7699fd48d",
      "value": 48
     }
    },
    "b9254341867d49f09e9af7d4ccbc40bd": {
     "model_module": "@jupyter-widgets/controls",
     "model_name": "HTMLModel",
     "model_module_version": "1.5.0",
     "state": {
      "_dom_classes": [],
      "_model_module": "@jupyter-widgets/controls",
      "_model_module_version": "1.5.0",
      "_model_name": "HTMLModel",
      "_view_count": null,
      "_view_module": "@jupyter-widgets/controls",
      "_view_module_version": "1.5.0",
      "_view_name": "HTMLView",
      "description": "",
      "description_tooltip": null,
      "layout": "IPY_MODEL_43569f7767664f8d9bde5a9ccce8d63c",
      "placeholder": "​",
      "style": "IPY_MODEL_899fb0496e144d69b12a67ea95882b62",
      "value": " 48.0/48.0 [00:00&lt;00:00, 479B/s]"
     }
    },
    "4815f3e2180f4949b23c23743068ab92": {
     "model_module": "@jupyter-widgets/base",
     "model_name": "LayoutModel",
     "model_module_version": "1.2.0",
     "state": {
      "_model_module": "@jupyter-widgets/base",
      "_model_module_version": "1.2.0",
      "_model_name": "LayoutModel",
      "_view_count": null,
      "_view_module": "@jupyter-widgets/base",
      "_view_module_version": "1.2.0",
      "_view_name": "LayoutView",
      "align_content": null,
      "align_items": null,
      "align_self": null,
      "border": null,
      "bottom": null,
      "display": null,
      "flex": null,
      "flex_flow": null,
      "grid_area": null,
      "grid_auto_columns": null,
      "grid_auto_flow": null,
      "grid_auto_rows": null,
      "grid_column": null,
      "grid_gap": null,
      "grid_row": null,
      "grid_template_areas": null,
      "grid_template_columns": null,
      "grid_template_rows": null,
      "height": null,
      "justify_content": null,
      "justify_items": null,
      "left": null,
      "margin": null,
      "max_height": null,
      "max_width": null,
      "min_height": null,
      "min_width": null,
      "object_fit": null,
      "object_position": null,
      "order": null,
      "overflow": null,
      "overflow_x": null,
      "overflow_y": null,
      "padding": null,
      "right": null,
      "top": null,
      "visibility": null,
      "width": null
     }
    },
    "3020c35cb60e4b1bbff5951fb046c51f": {
     "model_module": "@jupyter-widgets/base",
     "model_name": "LayoutModel",
     "model_module_version": "1.2.0",
     "state": {
      "_model_module": "@jupyter-widgets/base",
      "_model_module_version": "1.2.0",
      "_model_name": "LayoutModel",
      "_view_count": null,
      "_view_module": "@jupyter-widgets/base",
      "_view_module_version": "1.2.0",
      "_view_name": "LayoutView",
      "align_content": null,
      "align_items": null,
      "align_self": null,
      "border": null,
      "bottom": null,
      "display": null,
      "flex": null,
      "flex_flow": null,
      "grid_area": null,
      "grid_auto_columns": null,
      "grid_auto_flow": null,
      "grid_auto_rows": null,
      "grid_column": null,
      "grid_gap": null,
      "grid_row": null,
      "grid_template_areas": null,
      "grid_template_columns": null,
      "grid_template_rows": null,
      "height": null,
      "justify_content": null,
      "justify_items": null,
      "left": null,
      "margin": null,
      "max_height": null,
      "max_width": null,
      "min_height": null,
      "min_width": null,
      "object_fit": null,
      "object_position": null,
      "order": null,
      "overflow": null,
      "overflow_x": null,
      "overflow_y": null,
      "padding": null,
      "right": null,
      "top": null,
      "visibility": null,
      "width": null
     }
    },
    "d6e6114058d34a6aaf9c69944ff1955e": {
     "model_module": "@jupyter-widgets/controls",
     "model_name": "DescriptionStyleModel",
     "model_module_version": "1.5.0",
     "state": {
      "_model_module": "@jupyter-widgets/controls",
      "_model_module_version": "1.5.0",
      "_model_name": "DescriptionStyleModel",
      "_view_count": null,
      "_view_module": "@jupyter-widgets/base",
      "_view_module_version": "1.2.0",
      "_view_name": "StyleView",
      "description_width": ""
     }
    },
    "42d47908f1fe48c0bac239c2e8077cce": {
     "model_module": "@jupyter-widgets/base",
     "model_name": "LayoutModel",
     "model_module_version": "1.2.0",
     "state": {
      "_model_module": "@jupyter-widgets/base",
      "_model_module_version": "1.2.0",
      "_model_name": "LayoutModel",
      "_view_count": null,
      "_view_module": "@jupyter-widgets/base",
      "_view_module_version": "1.2.0",
      "_view_name": "LayoutView",
      "align_content": null,
      "align_items": null,
      "align_self": null,
      "border": null,
      "bottom": null,
      "display": null,
      "flex": null,
      "flex_flow": null,
      "grid_area": null,
      "grid_auto_columns": null,
      "grid_auto_flow": null,
      "grid_auto_rows": null,
      "grid_column": null,
      "grid_gap": null,
      "grid_row": null,
      "grid_template_areas": null,
      "grid_template_columns": null,
      "grid_template_rows": null,
      "height": null,
      "justify_content": null,
      "justify_items": null,
      "left": null,
      "margin": null,
      "max_height": null,
      "max_width": null,
      "min_height": null,
      "min_width": null,
      "object_fit": null,
      "object_position": null,
      "order": null,
      "overflow": null,
      "overflow_x": null,
      "overflow_y": null,
      "padding": null,
      "right": null,
      "top": null,
      "visibility": null,
      "width": null
     }
    },
    "ea6dfbf35c964581b046d2b7699fd48d": {
     "model_module": "@jupyter-widgets/controls",
     "model_name": "ProgressStyleModel",
     "model_module_version": "1.5.0",
     "state": {
      "_model_module": "@jupyter-widgets/controls",
      "_model_module_version": "1.5.0",
      "_model_name": "ProgressStyleModel",
      "_view_count": null,
      "_view_module": "@jupyter-widgets/base",
      "_view_module_version": "1.2.0",
      "_view_name": "StyleView",
      "bar_color": null,
      "description_width": ""
     }
    },
    "43569f7767664f8d9bde5a9ccce8d63c": {
     "model_module": "@jupyter-widgets/base",
     "model_name": "LayoutModel",
     "model_module_version": "1.2.0",
     "state": {
      "_model_module": "@jupyter-widgets/base",
      "_model_module_version": "1.2.0",
      "_model_name": "LayoutModel",
      "_view_count": null,
      "_view_module": "@jupyter-widgets/base",
      "_view_module_version": "1.2.0",
      "_view_name": "LayoutView",
      "align_content": null,
      "align_items": null,
      "align_self": null,
      "border": null,
      "bottom": null,
      "display": null,
      "flex": null,
      "flex_flow": null,
      "grid_area": null,
      "grid_auto_columns": null,
      "grid_auto_flow": null,
      "grid_auto_rows": null,
      "grid_column": null,
      "grid_gap": null,
      "grid_row": null,
      "grid_template_areas": null,
      "grid_template_columns": null,
      "grid_template_rows": null,
      "height": null,
      "justify_content": null,
      "justify_items": null,
      "left": null,
      "margin": null,
      "max_height": null,
      "max_width": null,
      "min_height": null,
      "min_width": null,
      "object_fit": null,
      "object_position": null,
      "order": null,
      "overflow": null,
      "overflow_x": null,
      "overflow_y": null,
      "padding": null,
      "right": null,
      "top": null,
      "visibility": null,
      "width": null
     }
    },
    "899fb0496e144d69b12a67ea95882b62": {
     "model_module": "@jupyter-widgets/controls",
     "model_name": "DescriptionStyleModel",
     "model_module_version": "1.5.0",
     "state": {
      "_model_module": "@jupyter-widgets/controls",
      "_model_module_version": "1.5.0",
      "_model_name": "DescriptionStyleModel",
      "_view_count": null,
      "_view_module": "@jupyter-widgets/base",
      "_view_module_version": "1.2.0",
      "_view_name": "StyleView",
      "description_width": ""
     }
    },
    "718688f9319f49e1a90be78f8464ab7a": {
     "model_module": "@jupyter-widgets/controls",
     "model_name": "HBoxModel",
     "model_module_version": "1.5.0",
     "state": {
      "_dom_classes": [],
      "_model_module": "@jupyter-widgets/controls",
      "_model_module_version": "1.5.0",
      "_model_name": "HBoxModel",
      "_view_count": null,
      "_view_module": "@jupyter-widgets/controls",
      "_view_module_version": "1.5.0",
      "_view_name": "HBoxView",
      "box_style": "",
      "children": [
       "IPY_MODEL_fc020f37248e4025abfa62bc54d7e0ab",
       "IPY_MODEL_aab93c462b3d4d6fa0cc8b6993774f13",
       "IPY_MODEL_93dc1c09db9642ceb2f6ff5e0bd93e5b"
      ],
      "layout": "IPY_MODEL_bc8599a257b843468850abb5b5730b6b"
     }
    },
    "fc020f37248e4025abfa62bc54d7e0ab": {
     "model_module": "@jupyter-widgets/controls",
     "model_name": "HTMLModel",
     "model_module_version": "1.5.0",
     "state": {
      "_dom_classes": [],
      "_model_module": "@jupyter-widgets/controls",
      "_model_module_version": "1.5.0",
      "_model_name": "HTMLModel",
      "_view_count": null,
      "_view_module": "@jupyter-widgets/controls",
      "_view_module_version": "1.5.0",
      "_view_name": "HTMLView",
      "description": "",
      "description_tooltip": null,
      "layout": "IPY_MODEL_36a65e31da364a95a10e2157179e3fa4",
      "placeholder": "​",
      "style": "IPY_MODEL_f3942b1899c14854ae50f80497d99e52",
      "value": "config.json: 100%"
     }
    },
    "aab93c462b3d4d6fa0cc8b6993774f13": {
     "model_module": "@jupyter-widgets/controls",
     "model_name": "FloatProgressModel",
     "model_module_version": "1.5.0",
     "state": {
      "_dom_classes": [],
      "_model_module": "@jupyter-widgets/controls",
      "_model_module_version": "1.5.0",
      "_model_name": "FloatProgressModel",
      "_view_count": null,
      "_view_module": "@jupyter-widgets/controls",
      "_view_module_version": "1.5.0",
      "_view_name": "ProgressView",
      "bar_style": "success",
      "description": "",
      "description_tooltip": null,
      "layout": "IPY_MODEL_c3ed3d7cc5cd477ab1b871e553ce91ec",
      "max": 629,
      "min": 0,
      "orientation": "horizontal",
      "style": "IPY_MODEL_908321d7afca48149460051f9cf7edb5",
      "value": 629
     }
    },
    "93dc1c09db9642ceb2f6ff5e0bd93e5b": {
     "model_module": "@jupyter-widgets/controls",
     "model_name": "HTMLModel",
     "model_module_version": "1.5.0",
     "state": {
      "_dom_classes": [],
      "_model_module": "@jupyter-widgets/controls",
      "_model_module_version": "1.5.0",
      "_model_name": "HTMLModel",
      "_view_count": null,
      "_view_module": "@jupyter-widgets/controls",
      "_view_module_version": "1.5.0",
      "_view_name": "HTMLView",
      "description": "",
      "description_tooltip": null,
      "layout": "IPY_MODEL_5773a68cbbd1442fb0a5e56fe293e1e1",
      "placeholder": "​",
      "style": "IPY_MODEL_27b994f4f41943a98a1ce30e4216f093",
      "value": " 629/629 [00:00&lt;00:00, 10.5kB/s]"
     }
    },
    "bc8599a257b843468850abb5b5730b6b": {
     "model_module": "@jupyter-widgets/base",
     "model_name": "LayoutModel",
     "model_module_version": "1.2.0",
     "state": {
      "_model_module": "@jupyter-widgets/base",
      "_model_module_version": "1.2.0",
      "_model_name": "LayoutModel",
      "_view_count": null,
      "_view_module": "@jupyter-widgets/base",
      "_view_module_version": "1.2.0",
      "_view_name": "LayoutView",
      "align_content": null,
      "align_items": null,
      "align_self": null,
      "border": null,
      "bottom": null,
      "display": null,
      "flex": null,
      "flex_flow": null,
      "grid_area": null,
      "grid_auto_columns": null,
      "grid_auto_flow": null,
      "grid_auto_rows": null,
      "grid_column": null,
      "grid_gap": null,
      "grid_row": null,
      "grid_template_areas": null,
      "grid_template_columns": null,
      "grid_template_rows": null,
      "height": null,
      "justify_content": null,
      "justify_items": null,
      "left": null,
      "margin": null,
      "max_height": null,
      "max_width": null,
      "min_height": null,
      "min_width": null,
      "object_fit": null,
      "object_position": null,
      "order": null,
      "overflow": null,
      "overflow_x": null,
      "overflow_y": null,
      "padding": null,
      "right": null,
      "top": null,
      "visibility": null,
      "width": null
     }
    },
    "36a65e31da364a95a10e2157179e3fa4": {
     "model_module": "@jupyter-widgets/base",
     "model_name": "LayoutModel",
     "model_module_version": "1.2.0",
     "state": {
      "_model_module": "@jupyter-widgets/base",
      "_model_module_version": "1.2.0",
      "_model_name": "LayoutModel",
      "_view_count": null,
      "_view_module": "@jupyter-widgets/base",
      "_view_module_version": "1.2.0",
      "_view_name": "LayoutView",
      "align_content": null,
      "align_items": null,
      "align_self": null,
      "border": null,
      "bottom": null,
      "display": null,
      "flex": null,
      "flex_flow": null,
      "grid_area": null,
      "grid_auto_columns": null,
      "grid_auto_flow": null,
      "grid_auto_rows": null,
      "grid_column": null,
      "grid_gap": null,
      "grid_row": null,
      "grid_template_areas": null,
      "grid_template_columns": null,
      "grid_template_rows": null,
      "height": null,
      "justify_content": null,
      "justify_items": null,
      "left": null,
      "margin": null,
      "max_height": null,
      "max_width": null,
      "min_height": null,
      "min_width": null,
      "object_fit": null,
      "object_position": null,
      "order": null,
      "overflow": null,
      "overflow_x": null,
      "overflow_y": null,
      "padding": null,
      "right": null,
      "top": null,
      "visibility": null,
      "width": null
     }
    },
    "f3942b1899c14854ae50f80497d99e52": {
     "model_module": "@jupyter-widgets/controls",
     "model_name": "DescriptionStyleModel",
     "model_module_version": "1.5.0",
     "state": {
      "_model_module": "@jupyter-widgets/controls",
      "_model_module_version": "1.5.0",
      "_model_name": "DescriptionStyleModel",
      "_view_count": null,
      "_view_module": "@jupyter-widgets/base",
      "_view_module_version": "1.2.0",
      "_view_name": "StyleView",
      "description_width": ""
     }
    },
    "c3ed3d7cc5cd477ab1b871e553ce91ec": {
     "model_module": "@jupyter-widgets/base",
     "model_name": "LayoutModel",
     "model_module_version": "1.2.0",
     "state": {
      "_model_module": "@jupyter-widgets/base",
      "_model_module_version": "1.2.0",
      "_model_name": "LayoutModel",
      "_view_count": null,
      "_view_module": "@jupyter-widgets/base",
      "_view_module_version": "1.2.0",
      "_view_name": "LayoutView",
      "align_content": null,
      "align_items": null,
      "align_self": null,
      "border": null,
      "bottom": null,
      "display": null,
      "flex": null,
      "flex_flow": null,
      "grid_area": null,
      "grid_auto_columns": null,
      "grid_auto_flow": null,
      "grid_auto_rows": null,
      "grid_column": null,
      "grid_gap": null,
      "grid_row": null,
      "grid_template_areas": null,
      "grid_template_columns": null,
      "grid_template_rows": null,
      "height": null,
      "justify_content": null,
      "justify_items": null,
      "left": null,
      "margin": null,
      "max_height": null,
      "max_width": null,
      "min_height": null,
      "min_width": null,
      "object_fit": null,
      "object_position": null,
      "order": null,
      "overflow": null,
      "overflow_x": null,
      "overflow_y": null,
      "padding": null,
      "right": null,
      "top": null,
      "visibility": null,
      "width": null
     }
    },
    "908321d7afca48149460051f9cf7edb5": {
     "model_module": "@jupyter-widgets/controls",
     "model_name": "ProgressStyleModel",
     "model_module_version": "1.5.0",
     "state": {
      "_model_module": "@jupyter-widgets/controls",
      "_model_module_version": "1.5.0",
      "_model_name": "ProgressStyleModel",
      "_view_count": null,
      "_view_module": "@jupyter-widgets/base",
      "_view_module_version": "1.2.0",
      "_view_name": "StyleView",
      "bar_color": null,
      "description_width": ""
     }
    },
    "5773a68cbbd1442fb0a5e56fe293e1e1": {
     "model_module": "@jupyter-widgets/base",
     "model_name": "LayoutModel",
     "model_module_version": "1.2.0",
     "state": {
      "_model_module": "@jupyter-widgets/base",
      "_model_module_version": "1.2.0",
      "_model_name": "LayoutModel",
      "_view_count": null,
      "_view_module": "@jupyter-widgets/base",
      "_view_module_version": "1.2.0",
      "_view_name": "LayoutView",
      "align_content": null,
      "align_items": null,
      "align_self": null,
      "border": null,
      "bottom": null,
      "display": null,
      "flex": null,
      "flex_flow": null,
      "grid_area": null,
      "grid_auto_columns": null,
      "grid_auto_flow": null,
      "grid_auto_rows": null,
      "grid_column": null,
      "grid_gap": null,
      "grid_row": null,
      "grid_template_areas": null,
      "grid_template_columns": null,
      "grid_template_rows": null,
      "height": null,
      "justify_content": null,
      "justify_items": null,
      "left": null,
      "margin": null,
      "max_height": null,
      "max_width": null,
      "min_height": null,
      "min_width": null,
      "object_fit": null,
      "object_position": null,
      "order": null,
      "overflow": null,
      "overflow_x": null,
      "overflow_y": null,
      "padding": null,
      "right": null,
      "top": null,
      "visibility": null,
      "width": null
     }
    },
    "27b994f4f41943a98a1ce30e4216f093": {
     "model_module": "@jupyter-widgets/controls",
     "model_name": "DescriptionStyleModel",
     "model_module_version": "1.5.0",
     "state": {
      "_model_module": "@jupyter-widgets/controls",
      "_model_module_version": "1.5.0",
      "_model_name": "DescriptionStyleModel",
      "_view_count": null,
      "_view_module": "@jupyter-widgets/base",
      "_view_module_version": "1.2.0",
      "_view_name": "StyleView",
      "description_width": ""
     }
    },
    "49fc5f569a534ef79c39fe18154e4018": {
     "model_module": "@jupyter-widgets/controls",
     "model_name": "HBoxModel",
     "model_module_version": "1.5.0",
     "state": {
      "_dom_classes": [],
      "_model_module": "@jupyter-widgets/controls",
      "_model_module_version": "1.5.0",
      "_model_name": "HBoxModel",
      "_view_count": null,
      "_view_module": "@jupyter-widgets/controls",
      "_view_module_version": "1.5.0",
      "_view_name": "HBoxView",
      "box_style": "",
      "children": [
       "IPY_MODEL_02be3d7a2f654d50a477b448b7220faa",
       "IPY_MODEL_37c071938dce4d2d8a11397c3ea0934f",
       "IPY_MODEL_0ed57573202c4307804c838f10aeeca7"
      ],
      "layout": "IPY_MODEL_20e8ec5b537e45e08711414e2a8de99e"
     }
    },
    "02be3d7a2f654d50a477b448b7220faa": {
     "model_module": "@jupyter-widgets/controls",
     "model_name": "HTMLModel",
     "model_module_version": "1.5.0",
     "state": {
      "_dom_classes": [],
      "_model_module": "@jupyter-widgets/controls",
      "_model_module_version": "1.5.0",
      "_model_name": "HTMLModel",
      "_view_count": null,
      "_view_module": "@jupyter-widgets/controls",
      "_view_module_version": "1.5.0",
      "_view_name": "HTMLView",
      "description": "",
      "description_tooltip": null,
      "layout": "IPY_MODEL_6a013413447c415c9fc9e3b20fbba609",
      "placeholder": "​",
      "style": "IPY_MODEL_7df79e6ce3c046b1b8a9d8d60a5592c7",
      "value": "vocab.txt: 100%"
     }
    },
    "37c071938dce4d2d8a11397c3ea0934f": {
     "model_module": "@jupyter-widgets/controls",
     "model_name": "FloatProgressModel",
     "model_module_version": "1.5.0",
     "state": {
      "_dom_classes": [],
      "_model_module": "@jupyter-widgets/controls",
      "_model_module_version": "1.5.0",
      "_model_name": "FloatProgressModel",
      "_view_count": null,
      "_view_module": "@jupyter-widgets/controls",
      "_view_module_version": "1.5.0",
      "_view_name": "ProgressView",
      "bar_style": "success",
      "description": "",
      "description_tooltip": null,
      "layout": "IPY_MODEL_4ed226dca42a454aabab355eb9997e63",
      "max": 231508,
      "min": 0,
      "orientation": "horizontal",
      "style": "IPY_MODEL_b5c86112b18c4eacaef28f2b37f573ab",
      "value": 231508
     }
    },
    "0ed57573202c4307804c838f10aeeca7": {
     "model_module": "@jupyter-widgets/controls",
     "model_name": "HTMLModel",
     "model_module_version": "1.5.0",
     "state": {
      "_dom_classes": [],
      "_model_module": "@jupyter-widgets/controls",
      "_model_module_version": "1.5.0",
      "_model_name": "HTMLModel",
      "_view_count": null,
      "_view_module": "@jupyter-widgets/controls",
      "_view_module_version": "1.5.0",
      "_view_name": "HTMLView",
      "description": "",
      "description_tooltip": null,
      "layout": "IPY_MODEL_692e8815253b46029b932aacbd71f867",
      "placeholder": "​",
      "style": "IPY_MODEL_c37f3c0ba3464045a3d60547a8686529",
      "value": " 232k/232k [00:00&lt;00:00, 2.65MB/s]"
     }
    },
    "20e8ec5b537e45e08711414e2a8de99e": {
     "model_module": "@jupyter-widgets/base",
     "model_name": "LayoutModel",
     "model_module_version": "1.2.0",
     "state": {
      "_model_module": "@jupyter-widgets/base",
      "_model_module_version": "1.2.0",
      "_model_name": "LayoutModel",
      "_view_count": null,
      "_view_module": "@jupyter-widgets/base",
      "_view_module_version": "1.2.0",
      "_view_name": "LayoutView",
      "align_content": null,
      "align_items": null,
      "align_self": null,
      "border": null,
      "bottom": null,
      "display": null,
      "flex": null,
      "flex_flow": null,
      "grid_area": null,
      "grid_auto_columns": null,
      "grid_auto_flow": null,
      "grid_auto_rows": null,
      "grid_column": null,
      "grid_gap": null,
      "grid_row": null,
      "grid_template_areas": null,
      "grid_template_columns": null,
      "grid_template_rows": null,
      "height": null,
      "justify_content": null,
      "justify_items": null,
      "left": null,
      "margin": null,
      "max_height": null,
      "max_width": null,
      "min_height": null,
      "min_width": null,
      "object_fit": null,
      "object_position": null,
      "order": null,
      "overflow": null,
      "overflow_x": null,
      "overflow_y": null,
      "padding": null,
      "right": null,
      "top": null,
      "visibility": null,
      "width": null
     }
    },
    "6a013413447c415c9fc9e3b20fbba609": {
     "model_module": "@jupyter-widgets/base",
     "model_name": "LayoutModel",
     "model_module_version": "1.2.0",
     "state": {
      "_model_module": "@jupyter-widgets/base",
      "_model_module_version": "1.2.0",
      "_model_name": "LayoutModel",
      "_view_count": null,
      "_view_module": "@jupyter-widgets/base",
      "_view_module_version": "1.2.0",
      "_view_name": "LayoutView",
      "align_content": null,
      "align_items": null,
      "align_self": null,
      "border": null,
      "bottom": null,
      "display": null,
      "flex": null,
      "flex_flow": null,
      "grid_area": null,
      "grid_auto_columns": null,
      "grid_auto_flow": null,
      "grid_auto_rows": null,
      "grid_column": null,
      "grid_gap": null,
      "grid_row": null,
      "grid_template_areas": null,
      "grid_template_columns": null,
      "grid_template_rows": null,
      "height": null,
      "justify_content": null,
      "justify_items": null,
      "left": null,
      "margin": null,
      "max_height": null,
      "max_width": null,
      "min_height": null,
      "min_width": null,
      "object_fit": null,
      "object_position": null,
      "order": null,
      "overflow": null,
      "overflow_x": null,
      "overflow_y": null,
      "padding": null,
      "right": null,
      "top": null,
      "visibility": null,
      "width": null
     }
    },
    "7df79e6ce3c046b1b8a9d8d60a5592c7": {
     "model_module": "@jupyter-widgets/controls",
     "model_name": "DescriptionStyleModel",
     "model_module_version": "1.5.0",
     "state": {
      "_model_module": "@jupyter-widgets/controls",
      "_model_module_version": "1.5.0",
      "_model_name": "DescriptionStyleModel",
      "_view_count": null,
      "_view_module": "@jupyter-widgets/base",
      "_view_module_version": "1.2.0",
      "_view_name": "StyleView",
      "description_width": ""
     }
    },
    "4ed226dca42a454aabab355eb9997e63": {
     "model_module": "@jupyter-widgets/base",
     "model_name": "LayoutModel",
     "model_module_version": "1.2.0",
     "state": {
      "_model_module": "@jupyter-widgets/base",
      "_model_module_version": "1.2.0",
      "_model_name": "LayoutModel",
      "_view_count": null,
      "_view_module": "@jupyter-widgets/base",
      "_view_module_version": "1.2.0",
      "_view_name": "LayoutView",
      "align_content": null,
      "align_items": null,
      "align_self": null,
      "border": null,
      "bottom": null,
      "display": null,
      "flex": null,
      "flex_flow": null,
      "grid_area": null,
      "grid_auto_columns": null,
      "grid_auto_flow": null,
      "grid_auto_rows": null,
      "grid_column": null,
      "grid_gap": null,
      "grid_row": null,
      "grid_template_areas": null,
      "grid_template_columns": null,
      "grid_template_rows": null,
      "height": null,
      "justify_content": null,
      "justify_items": null,
      "left": null,
      "margin": null,
      "max_height": null,
      "max_width": null,
      "min_height": null,
      "min_width": null,
      "object_fit": null,
      "object_position": null,
      "order": null,
      "overflow": null,
      "overflow_x": null,
      "overflow_y": null,
      "padding": null,
      "right": null,
      "top": null,
      "visibility": null,
      "width": null
     }
    },
    "b5c86112b18c4eacaef28f2b37f573ab": {
     "model_module": "@jupyter-widgets/controls",
     "model_name": "ProgressStyleModel",
     "model_module_version": "1.5.0",
     "state": {
      "_model_module": "@jupyter-widgets/controls",
      "_model_module_version": "1.5.0",
      "_model_name": "ProgressStyleModel",
      "_view_count": null,
      "_view_module": "@jupyter-widgets/base",
      "_view_module_version": "1.2.0",
      "_view_name": "StyleView",
      "bar_color": null,
      "description_width": ""
     }
    },
    "692e8815253b46029b932aacbd71f867": {
     "model_module": "@jupyter-widgets/base",
     "model_name": "LayoutModel",
     "model_module_version": "1.2.0",
     "state": {
      "_model_module": "@jupyter-widgets/base",
      "_model_module_version": "1.2.0",
      "_model_name": "LayoutModel",
      "_view_count": null,
      "_view_module": "@jupyter-widgets/base",
      "_view_module_version": "1.2.0",
      "_view_name": "LayoutView",
      "align_content": null,
      "align_items": null,
      "align_self": null,
      "border": null,
      "bottom": null,
      "display": null,
      "flex": null,
      "flex_flow": null,
      "grid_area": null,
      "grid_auto_columns": null,
      "grid_auto_flow": null,
      "grid_auto_rows": null,
      "grid_column": null,
      "grid_gap": null,
      "grid_row": null,
      "grid_template_areas": null,
      "grid_template_columns": null,
      "grid_template_rows": null,
      "height": null,
      "justify_content": null,
      "justify_items": null,
      "left": null,
      "margin": null,
      "max_height": null,
      "max_width": null,
      "min_height": null,
      "min_width": null,
      "object_fit": null,
      "object_position": null,
      "order": null,
      "overflow": null,
      "overflow_x": null,
      "overflow_y": null,
      "padding": null,
      "right": null,
      "top": null,
      "visibility": null,
      "width": null
     }
    },
    "c37f3c0ba3464045a3d60547a8686529": {
     "model_module": "@jupyter-widgets/controls",
     "model_name": "DescriptionStyleModel",
     "model_module_version": "1.5.0",
     "state": {
      "_model_module": "@jupyter-widgets/controls",
      "_model_module_version": "1.5.0",
      "_model_name": "DescriptionStyleModel",
      "_view_count": null,
      "_view_module": "@jupyter-widgets/base",
      "_view_module_version": "1.2.0",
      "_view_name": "StyleView",
      "description_width": ""
     }
    },
    "c22e8b20659e440386080d729136b5e2": {
     "model_module": "@jupyter-widgets/controls",
     "model_name": "HBoxModel",
     "model_module_version": "1.5.0",
     "state": {
      "_dom_classes": [],
      "_model_module": "@jupyter-widgets/controls",
      "_model_module_version": "1.5.0",
      "_model_name": "HBoxModel",
      "_view_count": null,
      "_view_module": "@jupyter-widgets/controls",
      "_view_module_version": "1.5.0",
      "_view_name": "HBoxView",
      "box_style": "",
      "children": [
       "IPY_MODEL_3607fba36509487d89bd896a7b6a4ccb",
       "IPY_MODEL_c9bbc020508e4b6881f66aafb715c345",
       "IPY_MODEL_0f936c995fd04660ac2a4e0f300e397d"
      ],
      "layout": "IPY_MODEL_d3a85ef06eb54f88a517bd656aa8cf78"
     }
    },
    "3607fba36509487d89bd896a7b6a4ccb": {
     "model_module": "@jupyter-widgets/controls",
     "model_name": "HTMLModel",
     "model_module_version": "1.5.0",
     "state": {
      "_dom_classes": [],
      "_model_module": "@jupyter-widgets/controls",
      "_model_module_version": "1.5.0",
      "_model_name": "HTMLModel",
      "_view_count": null,
      "_view_module": "@jupyter-widgets/controls",
      "_view_module_version": "1.5.0",
      "_view_name": "HTMLView",
      "description": "",
      "description_tooltip": null,
      "layout": "IPY_MODEL_cd656c4aa18347d4bf18581450565ef2",
      "placeholder": "​",
      "style": "IPY_MODEL_983ca36147ce4323aa07e7623ac5eded",
      "value": "model.safetensors: 100%"
     }
    },
    "c9bbc020508e4b6881f66aafb715c345": {
     "model_module": "@jupyter-widgets/controls",
     "model_name": "FloatProgressModel",
     "model_module_version": "1.5.0",
     "state": {
      "_dom_classes": [],
      "_model_module": "@jupyter-widgets/controls",
      "_model_module_version": "1.5.0",
      "_model_name": "FloatProgressModel",
      "_view_count": null,
      "_view_module": "@jupyter-widgets/controls",
      "_view_module_version": "1.5.0",
      "_view_name": "ProgressView",
      "bar_style": "success",
      "description": "",
      "description_tooltip": null,
      "layout": "IPY_MODEL_e0b73afcdbbf41d89c7095be41ad9a8f",
      "max": 267832558,
      "min": 0,
      "orientation": "horizontal",
      "style": "IPY_MODEL_ef044e741bd24f32a7ee853581634252",
      "value": 267832558
     }
    },
    "0f936c995fd04660ac2a4e0f300e397d": {
     "model_module": "@jupyter-widgets/controls",
     "model_name": "HTMLModel",
     "model_module_version": "1.5.0",
     "state": {
      "_dom_classes": [],
      "_model_module": "@jupyter-widgets/controls",
      "_model_module_version": "1.5.0",
      "_model_name": "HTMLModel",
      "_view_count": null,
      "_view_module": "@jupyter-widgets/controls",
      "_view_module_version": "1.5.0",
      "_view_name": "HTMLView",
      "description": "",
      "description_tooltip": null,
      "layout": "IPY_MODEL_426248b65786437eac5a852d94a32d44",
      "placeholder": "​",
      "style": "IPY_MODEL_6f5746dc94284f77bcfa42f8839ae5eb",
      "value": " 268M/268M [00:03&lt;00:00, 120MB/s]"
     }
    },
    "d3a85ef06eb54f88a517bd656aa8cf78": {
     "model_module": "@jupyter-widgets/base",
     "model_name": "LayoutModel",
     "model_module_version": "1.2.0",
     "state": {
      "_model_module": "@jupyter-widgets/base",
      "_model_module_version": "1.2.0",
      "_model_name": "LayoutModel",
      "_view_count": null,
      "_view_module": "@jupyter-widgets/base",
      "_view_module_version": "1.2.0",
      "_view_name": "LayoutView",
      "align_content": null,
      "align_items": null,
      "align_self": null,
      "border": null,
      "bottom": null,
      "display": null,
      "flex": null,
      "flex_flow": null,
      "grid_area": null,
      "grid_auto_columns": null,
      "grid_auto_flow": null,
      "grid_auto_rows": null,
      "grid_column": null,
      "grid_gap": null,
      "grid_row": null,
      "grid_template_areas": null,
      "grid_template_columns": null,
      "grid_template_rows": null,
      "height": null,
      "justify_content": null,
      "justify_items": null,
      "left": null,
      "margin": null,
      "max_height": null,
      "max_width": null,
      "min_height": null,
      "min_width": null,
      "object_fit": null,
      "object_position": null,
      "order": null,
      "overflow": null,
      "overflow_x": null,
      "overflow_y": null,
      "padding": null,
      "right": null,
      "top": null,
      "visibility": null,
      "width": null
     }
    },
    "cd656c4aa18347d4bf18581450565ef2": {
     "model_module": "@jupyter-widgets/base",
     "model_name": "LayoutModel",
     "model_module_version": "1.2.0",
     "state": {
      "_model_module": "@jupyter-widgets/base",
      "_model_module_version": "1.2.0",
      "_model_name": "LayoutModel",
      "_view_count": null,
      "_view_module": "@jupyter-widgets/base",
      "_view_module_version": "1.2.0",
      "_view_name": "LayoutView",
      "align_content": null,
      "align_items": null,
      "align_self": null,
      "border": null,
      "bottom": null,
      "display": null,
      "flex": null,
      "flex_flow": null,
      "grid_area": null,
      "grid_auto_columns": null,
      "grid_auto_flow": null,
      "grid_auto_rows": null,
      "grid_column": null,
      "grid_gap": null,
      "grid_row": null,
      "grid_template_areas": null,
      "grid_template_columns": null,
      "grid_template_rows": null,
      "height": null,
      "justify_content": null,
      "justify_items": null,
      "left": null,
      "margin": null,
      "max_height": null,
      "max_width": null,
      "min_height": null,
      "min_width": null,
      "object_fit": null,
      "object_position": null,
      "order": null,
      "overflow": null,
      "overflow_x": null,
      "overflow_y": null,
      "padding": null,
      "right": null,
      "top": null,
      "visibility": null,
      "width": null
     }
    },
    "983ca36147ce4323aa07e7623ac5eded": {
     "model_module": "@jupyter-widgets/controls",
     "model_name": "DescriptionStyleModel",
     "model_module_version": "1.5.0",
     "state": {
      "_model_module": "@jupyter-widgets/controls",
      "_model_module_version": "1.5.0",
      "_model_name": "DescriptionStyleModel",
      "_view_count": null,
      "_view_module": "@jupyter-widgets/base",
      "_view_module_version": "1.2.0",
      "_view_name": "StyleView",
      "description_width": ""
     }
    },
    "e0b73afcdbbf41d89c7095be41ad9a8f": {
     "model_module": "@jupyter-widgets/base",
     "model_name": "LayoutModel",
     "model_module_version": "1.2.0",
     "state": {
      "_model_module": "@jupyter-widgets/base",
      "_model_module_version": "1.2.0",
      "_model_name": "LayoutModel",
      "_view_count": null,
      "_view_module": "@jupyter-widgets/base",
      "_view_module_version": "1.2.0",
      "_view_name": "LayoutView",
      "align_content": null,
      "align_items": null,
      "align_self": null,
      "border": null,
      "bottom": null,
      "display": null,
      "flex": null,
      "flex_flow": null,
      "grid_area": null,
      "grid_auto_columns": null,
      "grid_auto_flow": null,
      "grid_auto_rows": null,
      "grid_column": null,
      "grid_gap": null,
      "grid_row": null,
      "grid_template_areas": null,
      "grid_template_columns": null,
      "grid_template_rows": null,
      "height": null,
      "justify_content": null,
      "justify_items": null,
      "left": null,
      "margin": null,
      "max_height": null,
      "max_width": null,
      "min_height": null,
      "min_width": null,
      "object_fit": null,
      "object_position": null,
      "order": null,
      "overflow": null,
      "overflow_x": null,
      "overflow_y": null,
      "padding": null,
      "right": null,
      "top": null,
      "visibility": null,
      "width": null
     }
    },
    "ef044e741bd24f32a7ee853581634252": {
     "model_module": "@jupyter-widgets/controls",
     "model_name": "ProgressStyleModel",
     "model_module_version": "1.5.0",
     "state": {
      "_model_module": "@jupyter-widgets/controls",
      "_model_module_version": "1.5.0",
      "_model_name": "ProgressStyleModel",
      "_view_count": null,
      "_view_module": "@jupyter-widgets/base",
      "_view_module_version": "1.2.0",
      "_view_name": "StyleView",
      "bar_color": null,
      "description_width": ""
     }
    },
    "426248b65786437eac5a852d94a32d44": {
     "model_module": "@jupyter-widgets/base",
     "model_name": "LayoutModel",
     "model_module_version": "1.2.0",
     "state": {
      "_model_module": "@jupyter-widgets/base",
      "_model_module_version": "1.2.0",
      "_model_name": "LayoutModel",
      "_view_count": null,
      "_view_module": "@jupyter-widgets/base",
      "_view_module_version": "1.2.0",
      "_view_name": "LayoutView",
      "align_content": null,
      "align_items": null,
      "align_self": null,
      "border": null,
      "bottom": null,
      "display": null,
      "flex": null,
      "flex_flow": null,
      "grid_area": null,
      "grid_auto_columns": null,
      "grid_auto_flow": null,
      "grid_auto_rows": null,
      "grid_column": null,
      "grid_gap": null,
      "grid_row": null,
      "grid_template_areas": null,
      "grid_template_columns": null,
      "grid_template_rows": null,
      "height": null,
      "justify_content": null,
      "justify_items": null,
      "left": null,
      "margin": null,
      "max_height": null,
      "max_width": null,
      "min_height": null,
      "min_width": null,
      "object_fit": null,
      "object_position": null,
      "order": null,
      "overflow": null,
      "overflow_x": null,
      "overflow_y": null,
      "padding": null,
      "right": null,
      "top": null,
      "visibility": null,
      "width": null
     }
    },
    "6f5746dc94284f77bcfa42f8839ae5eb": {
     "model_module": "@jupyter-widgets/controls",
     "model_name": "DescriptionStyleModel",
     "model_module_version": "1.5.0",
     "state": {
      "_model_module": "@jupyter-widgets/controls",
      "_model_module_version": "1.5.0",
      "_model_name": "DescriptionStyleModel",
      "_view_count": null,
      "_view_module": "@jupyter-widgets/base",
      "_view_module_version": "1.2.0",
      "_view_name": "StyleView",
      "description_width": ""
     }
    }
   }
  }
 },
 "cells": [
  {
   "cell_type": "markdown",
   "source": [
    "# Basic Data Cleaning in NLP"
   ],
   "metadata": {
    "id": "eqtcaa8_Ktur"
   }
  },
  {
   "cell_type": "code",
   "source": [
    "!pip install nltk"
   ],
   "metadata": {
    "id": "ZO47DixNPsv8"
   },
   "outputs": [],
   "execution_count": null
  },
  {
   "cell_type": "markdown",
   "source": [
    "## NLP Libraries Used:\n",
    "- re\n",
    "- string\n",
    "- nltk\n",
    "- spacy\n",
    "- sklearn\n",
    "- gensim\n",
    "- huggingface"
   ],
   "metadata": {
    "id": "0lcUvTXYK1hd"
   }
  },
  {
   "cell_type": "markdown",
   "source": [
    "## Lowercase and Remove Special Characters"
   ],
   "metadata": {
    "id": "Jo72avzxNFdb"
   }
  },
  {
   "cell_type": "code",
   "metadata": {
    "colab": {
     "base_uri": "https://localhost:8080/"
    },
    "id": "X-OYu3IYKniH",
    "outputId": "52e4fb7a-7530-46a2-d9ee-f9aa6d2f2456"
   },
   "source": [
    "import re\n",
    "\n",
    "text = \"Hello, World! Welcome to our AIR LLM ENGINEERING COURSE.\"\n",
    "print(\"Original text:\", text)\n",
    "cleaned_text = text.lower()  # Lowercasing\n",
    "cleaned_text = re.sub(r'[^a-z\\s]', '', cleaned_text)  # Remove special characters\n",
    "print(\"Cleaned Text:\", cleaned_text)\n"
   ],
   "outputs": [],
   "execution_count": null
  },
  {
   "cell_type": "markdown",
   "source": [
    "- Lowercasing: Converts all characters to lowercase to ensure case uniformity.\n",
    "- Remove Special Characters: Uses re.sub() to replace all non-alphabetic characters with empty strings."
   ],
   "metadata": {
    "id": "kC9EcsKSn6gG"
   }
  },
  {
   "cell_type": "markdown",
   "source": [
    "- re.sub(): This is a function from the re module (regular expressions) in Python. It's used for substituting parts of a string that match a given pattern.\n",
    "-r'': This denotes a raw string, which is often used for regular expressions to avoid issues with backslashes.\n",
    "- [^a-z\\s]: This is the core of the pattern.\n",
    "- []: This defines a character set.\n",
    "- ^: Inside a character set, this means \"not\".\n",
    "- a-z: This matches any lowercase letter.\n",
    "- \\s: This matches any whitespace character (spaces, tabs, newlines).\n",
    "- Therefore, [^a-z\\s] means \"match any character that is NOT a lowercase letter or whitespace\".\n",
    "- '': This is the replacement string. In this case, it's an empty string, which means any matched characters will be replaced with nothing (effectively removed).\n",
    "- cleaned_text: This is the input string where the substitution will be performed, and the result will be stored back into the same variable."
   ],
   "metadata": {
    "id": "_ukVJSDlFG_f"
   }
  },
  {
   "cell_type": "markdown",
   "source": [
    "Let's take a deeper dive into regex...\n",
    "\n",
    "#### Introduction to Regex\n",
    "\n",
    "**Regex (short for regular expressions)** is a sequence of characters used to define search patterns, typically for string-matching tasks. It’s a powerful tool in text processing that allows users to find, extract, and manipulate patterns in text.\n",
    "\n",
    "Regular expressions, or regex, are powerful tools for pattern matching and text manipulation. They provide a concise way to search, extract, and modify strings based on specific patterns.\n",
    "\n",
    "***Key components of regex:***\n",
    "- Character sets: Define a set of possible characters (e.g., [a-z] for all lowercase letters).\n",
    "- Special characters: Provide extra functionality (e.g., \\d for digits, \\s for whitespace).\n",
    "- Quantifiers: Control how many times a pattern is matched (e.g., * for 0 or more matches)."
   ],
   "metadata": {
    "id": "c0iqrtDBnN4g"
   }
  },
  {
   "cell_type": "code",
   "source": [
    "## Basic Regex Examples\n",
    "\n",
    "# Sample text\n",
    "text = \"The quick brown fox jumps over the lazy dog. The dog barks 3 times.\"\n",
    "print(\"Original text:\", text)\n",
    "\n",
    "# Basic pattern matching\n",
    "pattern = r\"fox\"\n",
    "match = re.search(pattern, text)\n",
    "print(f\"Found '{pattern}' at index: {match.start() if match else 'Not found'}\")\n",
    "\n",
    "# Using quantifiers and character classes\n",
    "pattern = r\"\\b\\w{5}\\b\"  # Find 5-letter words\n",
    "words = re.findall(pattern, text)\n",
    "print(f\"5-letter words: {words}\")\n",
    "\"\"\"\n",
    "- \\b: This is called a word boundary.\n",
    "It is a zero-width assertion that matches the position between a word character (\\w) and a non-word character.\n",
    "Word boundaries are useful when you want to match whole words and avoid partial matches.\n",
    "In this pattern, there are two word boundaries: one at the beginning and one at the end.\n",
    "\n",
    "- \\w: This matches any word character, which includes letters, digits, and the underscore character (_).\n",
    "Specifically, \\w is equivalent to the character set [a-zA-Z0-9_].\n",
    "\n",
    "- {5}: This is a quantifier specifying exactly five occurrences of the preceding token.\n",
    "In this pattern, it tells the regex engine to match exactly five word characters.\n",
    "\"\"\"\n",
    "\n",
    "# Capturing groups\n",
    "pattern = r\"(\\w+) (\\w+)\"\n",
    "matches = re.findall(pattern, text)\n",
    "print(f\"Word pairs: {matches}\")\n",
    "\n",
    "\"\"\"\n",
    "The pattern r\"(\\w+) (\\w+)\" matches two consecutive words separated by a single space, capturing each word separately:\n",
    "\n",
    "(\\w+): Captures one or more word characters (letters, digits, or underscores).\n",
    "(space): Matches a single space between the words.\n",
    "(\\w+): Captures the second word (again, one or more word characters).\n",
    "In essence, it captures pairs of words like \"Hello World\" or \"test string\".\n",
    "\"\"\"\n",
    "\n",
    "# Substitution\n",
    "pattern = r\"dog\"\n",
    "replacement = \"cat\"\n",
    "new_text = re.sub(pattern, replacement, text)\n",
    "print(f\"After substitution: {new_text}\")\n",
    "\n",
    "\"\"\"\n",
    "Pattern: r\"dog\"\n",
    "Replacement: \"cat\"\n",
    "Explanation: Replaces all occurrences of \"dog\" in text with \"cat\".\n",
    "\"\"\"\n",
    "\n",
    "# Splitting text\n",
    "pattern = r\"\\s+\"  # Split on whitespace\n",
    "words = re.split(pattern, text)\n",
    "print(f\"Words: {words}\")\n",
    "\n",
    "\n",
    "\"\"\"\n",
    "Pattern: r\"\\s+\" (one or more whitespace characters)\n",
    "Explanation: Splits text into a list of words based on spaces, tabs, or newlines.\n",
    "\"\"\"\n"
   ],
   "metadata": {
    "colab": {
     "base_uri": "https://localhost:8080/",
     "height": 177
    },
    "id": "dSOUJ2LAkpWG",
    "outputId": "1a78602b-1490-4bb4-fc63-d19dc6e505db"
   },
   "outputs": [],
   "execution_count": null
  },
  {
   "cell_type": "markdown",
   "source": [
    "- ^ Start of string, or start of line in multi-line pattern\n",
    "- \\A Start of string\n",
    "- $ End of string, or end of line in multi-line pattern\n",
    "- \\Z End of string\n",
    "- \\b Word boundary\n",
    "- \\B Not word boundary\n",
    "- \\< Start of word\n",
    "- \\> End of word\n",
    "\n",
    "[Regex Cheat Sheet](https://cheatography.com/davechild/cheat-sheets/regular-expressions/)\n",
    "\n",
    "- Substitution: re.sub() replaces all occurrences of 'dog' with 'cat'.\n",
    "- Splitting: re.split() splits the text into a list of words based on whitespace."
   ],
   "metadata": {
    "id": "RZk5ViOMlKsW"
   }
  },
  {
   "cell_type": "markdown",
   "source": [
    "## Remove Punctuation"
   ],
   "metadata": {
    "id": "nOXBOmVXNLKw"
   }
  },
  {
   "cell_type": "code",
   "source": [
    "import string\n",
    "\n",
    "text = \"Hello, World! Welcome to NLP.\"\n",
    "cleaned_text = text.translate(str.maketrans('', '', string.punctuation))  # Remove punctuation, although personally I think this is the least intuitive way to do this\n",
    "print(cleaned_text)\n"
   ],
   "metadata": {
    "colab": {
     "base_uri": "https://localhost:8080/"
    },
    "id": "2HHE957FK8si",
    "outputId": "ceb89518-7c9d-4581-b29b-9d6bbce24d95"
   },
   "outputs": [],
   "execution_count": null
  },
  {
   "cell_type": "markdown",
   "source": [
    "The string module in Python provides a collection of useful constants, classes, and functions for string manipulation. Common constants include:\n",
    "- string.ascii_letters: Contains all lowercase and uppercase letters ('abcdefghijklmnopqrstuvwxyzABCDEFGHIJKLMNOPQRSTUVWXYZ').\n",
    "- string.digits: Contains digit characters ('0123456789').\n",
    "- string.punctuation: Contains all standard punctuation characters.\n",
    "\n",
    "Use Case: It simplifies operations like removing punctuation, accessing common character sets, or creating customized string processing functions.\n",
    "\n",
    "The str.maketrans() function in Python is used to create a mapping table, which specifies how different characters in a string should be replaced or translated. The function returns a dictionary-like table where each character in the first argument is mapped to the corresponding character in the second argument.\n",
    "\n",
    "- string.punctuation: A predefined constant in the string module that includes all common punctuation characters (!\"#$%&'()*+,-./:;<=>?@[\\]^_{|}~`).\n",
    "- str.maketrans('', '', string.punctuation): Creates a translation table that maps each punctuation character to None, effectively removing them.\n",
    "- text.translate(...): Uses the translation table to remove all punctuation characters from text.\n",
    "\n",
    "1. string.punctuation: This is a built-in constant in Python's string module. It contains a string of all the standard punctuation characters: !\"#$%&'()*+,-./:;<=>?@[\\]^_{|}~\n",
    "2. str.maketrans('', '', string.punctuation): This part creates a translation table using the maketrans() method.\n",
    "The first two arguments are empty strings ('', '') because we're not replacing any characters with others.\n",
    "The third argument is string.punctuation. This tells the maketrans() method to map all the punctuation characters to None, effectively removing them during the translation process.\n",
    "3. text.translate(...): This is where the actual cleaning happens. The translate() method takes the translation table you created and applies it to the text string.\n",
    "It removes all the characters specified in the translation table (the punctuation marks)."
   ],
   "metadata": {
    "id": "MIRf33vaMG-J"
   }
  },
  {
   "cell_type": "markdown",
   "source": [
    "## Tokenization and Stopword Removal"
   ],
   "metadata": {
    "id": "9UilwsStNMgc"
   }
  },
  {
   "cell_type": "markdown",
   "source": [
    "Tokenization is the process of breaking down a text into smaller units called tokens. These tokens can be words, subwords, or sentences, depending on the type of tokenization used. In NLP, tokenization is essential because it allows machines to understand text by turning a long string of characters into individual components that can be processed for tasks like text analysis, machine learning, or translation.\n",
    "\n",
    "- Tokenization: Breaks down text into individual tokens (words).\n",
    "\n",
    "#### NLTK Library\n",
    "[NLTK (Natural Language Toolkit)](https://www.nltk.org/) is a powerful, open-source Python library used for natural language processing (NLP) and computational linguistics. It provides easy-to-use interfaces to over 50 corpora and lexical resources, such as WordNet, along with various tools for text processing, tokenization, stemming, lemmatization, and more.\n",
    "\n",
    "Key Features:\n",
    "- Tokenization: Breaking down text into words, sentences, or subwords.\n",
    "- Text Cleaning: Removing stopwords, punctuation, or special characters.\n",
    "- Stemming and Lemmatization: Reducing words to their root or base forms.\n",
    "- Part-of-Speech Tagging: Identifying the grammatical parts of speech (e.g., nouns, verbs).\n",
    "- Named Entity Recognition (NER): Identifying named entities like people, locations, and organizations in text.\n",
    "- Text Classification: Using machine learning models to classify text into categories.\n",
    "- Corpora and Lexical Resources: Access to large text corpora and lexical resources such as WordNet, Gutenberg, and Brown corpus.\n",
    "\n",
    "Advantages of NLTK:\n",
    "- Suitable for beginners and educational purposes due to its comprehensive documentation and ease of use.\n",
    "- Includes many corpora and pre-built datasets, allowing researchers and developers to experiment quickly.\n",
    "- Supports complex NLP tasks like parsing, chunking, and semantic analysis.\n",
    "\n",
    "Resources:\n",
    "- Official NLTK Documentation: [NLTK Documentation](https://www.nltk.org/)\n",
    "- NLTK Book: [NLTK Book](https://www.nltk.org/book/) - A comprehensive guide to using NLTK for various NLP tasks.\n",
    "- API Reference: [NLTK API Reference](https://www.nltk.org/api/nltk.html)"
   ],
   "metadata": {
    "id": "gFW_wVvUOUJf"
   }
  },
  {
   "cell_type": "code",
   "source": [
    "import nltk\n",
    "from nltk.corpus import stopwords\n",
    "from nltk.tokenize import word_tokenize\n",
    "\n",
    "nltk.download('punkt') # Download the 'punkt' tokenizer\n",
    "nltk.download('punkt_tab')\n",
    "nltk.download('stopwords') # Download the WordNet lexical database\n",
    "\n",
    "text = \"AIR's LLM Engineering Course is the best, and I am having a great time today!\"\n",
    "tokens = word_tokenize(text.lower())  # Tokenization and lowercasing\n",
    "stop_words = set(stopwords.words('english'))\n",
    "filtered_tokens = [word for word in tokens if word not in stop_words]  # Remove stopwords\n",
    "\n",
    "print(\"Original Text:\", text)\n",
    "print(\"Filtered tokens:\", filtered_tokens)\n"
   ],
   "metadata": {
    "colab": {
     "base_uri": "https://localhost:8080/"
    },
    "id": "nwi1XI-oL9S5",
    "outputId": "3678a53e-273a-40b3-d391-570733758bae"
   },
   "outputs": [],
   "execution_count": null
  },
  {
   "cell_type": "markdown",
   "source": [
    "Stopword removal is the process of eliminating common words (like \"the,\" \"is,\" \"and\") from a text. These words, called stopwords, often carry little meaning on their own and can clutter text analysis or model training.\n",
    "\n",
    "We need stopword removal because stopwords (common words like \"the,\" \"is,\" and \"and\") don’t provide significant meaning and can clutter text analysis or machine learning models. By removing these words, we can reduce noise, focus on more important features, and make models more efficient. This step helps in improving the performance of NLP tasks, as it simplifies the text and allows algorithms to focus on meaningful patterns or content, reducing dimensionality and computational complexity.\n",
    "\n",
    "- Stopword Removal: Eliminates common English words that don't add much semantic value (e.g., \"the\", \"is\")."
   ],
   "metadata": {
    "id": "SxQ_iVlPOXs-"
   }
  },
  {
   "cell_type": "markdown",
   "source": [
    "\n",
    "```\n",
    "nltk.download('punkt') # Download the 'punkt' tokenizer\n",
    "nltk.download('stopwords') # Download the WordNet lexical database\n",
    "```\n",
    "\n",
    "**Tokenizer:** Breaks text into smaller units (words, sentences, etc.) for analysis.\n",
    "\n",
    "**Lexical Database:** Provides structured information about words, their meanings, and relationships, aiding in semantic understanding.\n",
    "\n",
    "In more detail...\n",
    "\n",
    "A tokenizer is an essential component in Natural Language Processing (NLP) that divides a piece of text into smaller units called tokens. These tokens can represent different levels of text elements such as:\n",
    "\n",
    "- Words (word tokenization): Splits text into individual words. E.g., \"Hello, world!\" → ['Hello', ',', 'world', '!'].\n",
    "- Sentences (sentence tokenization): Splits text into sentences based on punctuation marks or language-specific rules.\n",
    "- Subwords (character tokenization): Splits words into smaller parts, often used for languages with complex morphology or for deep learning models (e.g., BPE, Byte Pair Encoding).\n",
    "\n",
    "Why is Tokenization Important?\n",
    "- Text Processing: Converts a long sequence of characters into meaningful elements for further processing.\n",
    "- Feature Extraction: Breaks text down into units that can be used for analysis, such as counting word frequencies or creating a vocabulary.\n",
    "- Preparation for NLP Models: Models like BERT or GPT require tokenized input to understand the text structure.\n",
    "\n",
    "\n",
    "A lexical database is a structured collection of lexical information about words, including their meanings, relationships, and usage. It provides a rich set of data that helps in understanding the language structure and semantics of words.\n",
    "\n",
    "What Does a Lexical Database Contain?\n",
    "- Word Definitions: Meaning of each word.\n",
    "- Synonyms: Words with similar meanings.\n",
    "- Antonyms: Words with opposite meanings.\n",
    "- Part-of-Speech Tags: Grammatical categories like noun, verb, adjective, etc.\n",
    "- Word Relationships: Hierarchical relationships like hypernyms (general category) and hyponyms (specific category).\n",
    "\n",
    "Common Examples of Lexical Databases:\n",
    "- WordNet:\n",
    "A large lexical database for English, where words are grouped into sets of synonyms (called synsets).\n",
    "Contains information on word meanings, relationships (e.g., hypernyms, hyponyms), and example sentences.\n",
    "Widely used in NLP for word similarity, word sense disambiguation, and semantic analysis.\n",
    "\n",
    "- FrameNet:\n",
    "A lexical database based on the theory of frame semantics. It groups words by their semantic roles in different scenarios (e.g., a commercial transaction involves buyer, seller, and goods).\n",
    "\n",
    "- VerbNet:\n",
    "A verb lexicon for English that classifies verbs based on their syntactic and semantic properties.\n",
    "\n",
    "Importance of Lexical Databases:\n",
    "- Semantic Analysis: Helps understand word meanings, relations, and context.\n",
    "- Word Sense Disambiguation: Distinguishes between different senses of a word (e.g., the word \"bank\" can mean a financial institution or the side of a river).\n",
    "Synonym and Hypernym Relations: Useful in tasks like question answering and text generation."
   ],
   "metadata": {
    "id": "jpIKiJviqNyC"
   }
  },
  {
   "cell_type": "markdown",
   "source": [
    "## Lemmatization"
   ],
   "metadata": {
    "id": "fv4UP5qXNi36"
   }
  },
  {
   "cell_type": "markdown",
   "source": [
    "Lemmatization is the process of reducing words to their base or root form, called a lemma, while considering the context and meaning of the word. Unlike stemming, which cuts off suffixes, lemmatization returns valid dictionary words (e.g., \"running\" becomes \"run,\" \"better\" becomes \"good\")"
   ],
   "metadata": {
    "id": "AFjiUHPJOxFe"
   }
  },
  {
   "cell_type": "code",
   "source": [
    "from nltk.stem import WordNetLemmatizer\n",
    "nltk.download('wordnet')\n",
    "\n",
    "lemmatizer = WordNetLemmatizer()\n",
    "tokens = ['studies', 'geese', 'wolves', 'children', 'cats']\n",
    "lemmatized_tokens = [lemmatizer.lemmatize(token) for token in tokens]\n",
    "\n",
    "print(\"Original tokens:\", tokens)\n",
    "print(\"Lemmatized tokens:\", lemmatized_tokens)\n"
   ],
   "metadata": {
    "colab": {
     "base_uri": "https://localhost:8080/"
    },
    "id": "BHrGCTwfNPqA",
    "outputId": "4d991620-92ed-4029-d4be-c5dc360c8fea"
   },
   "outputs": [],
   "execution_count": null
  },
  {
   "cell_type": "markdown",
   "source": [
    "## Stemming\n"
   ],
   "metadata": {
    "id": "FnUo5pvqN2ss"
   }
  },
  {
   "cell_type": "markdown",
   "source": [
    "Stemming is the process of reducing words to their root form by stripping affixes (e.g., \"running\" becomes \"run\"). It’s a fast and straightforward technique but may result in non-standard or incomplete words."
   ],
   "metadata": {
    "id": "qoYbmKoyOzD6"
   }
  },
  {
   "cell_type": "code",
   "source": [
    "import pandas as pd\n",
    "from nltk.stem import PorterStemmer\n",
    "\n",
    "# Initialize the stemmer\n",
    "stemmer = PorterStemmer()\n",
    "\n",
    "# Sample words that demonstrate the effect of stemming more clearly\n",
    "words = [\"running\", \"runs\", \"runner\", \"easily\", \"fairly\", \"fairness\", \"swimming\", \"swimmer\",\n",
    "         \"better\", \"best\", \"caring\", \"careful\", \"careless\"]\n",
    "\n",
    "# Apply stemming\n",
    "stemmed_words = [stemmer.stem(word) for word in words]\n",
    "\n",
    "# Create a DataFrame for comparison\n",
    "df = pd.DataFrame({'Original Word': words, 'Stemmed Word': stemmed_words})\n",
    "\n",
    "# Display the DataFrame\n",
    "df\n"
   ],
   "metadata": {
    "colab": {
     "base_uri": "https://localhost:8080/",
     "height": 457
    },
    "id": "7LmyGt_nucLf",
    "outputId": "19840a6e-6f72-4286-87e3-5fb7115ac2ca"
   },
   "outputs": [],
   "execution_count": null
  },
  {
   "cell_type": "markdown",
   "source": [
    "**Stemming Versus Lemmatization**\n",
    "\n",
    "Use lemmatization when:\n",
    "- Accuracy is more important than speed.\n",
    "- You need valid dictionary words (e.g., \"better\" → \"good\").\n",
    "- You require context-aware transformations (e.g., verb tense, plurals).\n",
    "- Applications like search engines or chatbots where semantic meaning matters.\n",
    "\n",
    "Use stemming when:\n",
    "- Speed is a priority over precision.\n",
    "- Non-standard word forms are acceptable (e.g., \"running\" → \"run\").\n",
    "- You are performing quick text classification or simple tasks where exact meaning is less critical.\n",
    "\n",
    "**lemma is an actual language word, whereas stem may not be an actual word**"
   ],
   "metadata": {
    "id": "mvxyv9DjO-uB"
   }
  },
  {
   "cell_type": "code",
   "source": [
    "import pandas as pd\n",
    "from nltk.stem import PorterStemmer\n",
    "from nltk.stem import WordNetLemmatizer\n",
    "import nltk\n",
    "\n",
    "# Download necessary NLTK data files for lemmatization\n",
    "nltk.download('wordnet')\n",
    "nltk.download('omw-1.4') #openmulti lingual word net\n",
    "\n",
    "# Initialize the stemmer and lemmatizer\n",
    "stemmer = PorterStemmer()\n",
    "lemmatizer = WordNetLemmatizer()\n",
    "\n",
    "# Sample words that demonstrate the differences between stemming and lemmatization\n",
    "words = [\"running\", \"better\", \"flying\", \"caring\", \"studies\", \"geese\", \"doing\", \"happier\", \"wolves\", \"believes\"]\n",
    "\n",
    "# Apply stemming and lemmatization\n",
    "stemmed_words = [stemmer.stem(word) for word in words]\n",
    "lemmatized_words = [lemmatizer.lemmatize(word, pos='v') for word in words]  # Using 'v' (verb) as the POS tag for demonstration\n",
    "\n",
    "# Create a DataFrame for comparison\n",
    "df_comparison = pd.DataFrame({\n",
    "    'Original Word': words,\n",
    "    'Stemmed Word': stemmed_words,\n",
    "    'Lemmatized Word': lemmatized_words\n",
    "})\n",
    "\n",
    "# Display the DataFrame\n",
    "df_comparison\n"
   ],
   "metadata": {
    "colab": {
     "base_uri": "https://localhost:8080/",
     "height": 415
    },
    "id": "rItlxHS4u9G5",
    "outputId": "d056ffb4-0cae-452d-f621-f8ec7b93656a"
   },
   "outputs": [],
   "execution_count": null
  },
  {
   "cell_type": "markdown",
   "source": [
    "- WordNet is a large lexical database of English. It's essentially a thesaurus that groups words into sets of synonyms called synsets. Each synset represents a distinct concept, and WordNet provides various relationships between these synsets"
   ],
   "metadata": {
    "id": "WfprXezbIT-L"
   }
  },
  {
   "cell_type": "markdown",
   "source": [
    "## Preprocessing with SpaCy\n",
    "\n",
    "[SpaCy](https://spacy.io/) is known for its efficiency and performance, especially in processing large volumes of text. It's a popular choice for both beginners and advanced NLP practitioners.\n",
    "\n",
    "spaCy is an advanced open-source Natural Language Processing (NLP) library designed specifically for efficient text processing and linguistic analysis in Python. It offers a robust suite of tools for tasks such as tokenization, part-of-speech (POS) tagging, named entity recognition (NER), and syntactic dependency parsing.\n",
    "\n",
    "Unlike some other NLP libraries, spaCy is built with a focus on speed, performance, and ease of use, making it suitable for both research and production environments. It is widely used for building information extraction systems, chatbots, and text classification models.\n",
    "\n",
    "Key Features of spaCy:\n",
    "- Pre-trained Models: spaCy provides pre-trained language models that support multiple languages. Models like en_core_web_sm are lightweight yet powerful for many NLP tasks.\n",
    "- Tokenization: Converts raw text into individual tokens (e.g., words, punctuation) with support for complex languages and multi-word expressions.\n",
    "- Lemmatization and POS Tagging: Provides lemmatization and POS tagging, helping identify the base form and grammatical role of words.\n",
    "- Named Entity Recognition (NER): Recognizes and categorizes entities like names, locations, organizations, and more.\n",
    "- Dependency Parsing: Analyzes the syntactic structure of sentences to understand the relationships between words.\n",
    "- Text Classification: Supports custom text classification and rule-based matching for specific applications.\n",
    "- Integration with Machine Learning Frameworks: Seamlessly integrates with frameworks like TensorFlow and PyTorch for training custom models."
   ],
   "metadata": {
    "id": "-2itwA_dPO6W"
   }
  },
  {
   "cell_type": "code",
   "source": [
    "!pip install -U spacy\n",
    "!python -m spacy download en"
   ],
   "metadata": {
    "colab": {
     "base_uri": "https://localhost:8080/"
    },
    "id": "Oj68za5ivTsa",
    "outputId": "622b80e6-27ff-4249-df4e-00275dcfeac8"
   },
   "outputs": [],
   "execution_count": null
  },
  {
   "cell_type": "code",
   "source": [
    "import spacy\n",
    "\n",
    "# Load spaCy's English language model\n",
    "nlp = spacy.load(\"en_core_web_sm\")\n",
    "\n",
    "text = \"The quick brown foxes are jumping over the lazy dogs.\"\n",
    "\n",
    "# Process the text\n",
    "doc = nlp(text)\n",
    "\n",
    "# extracting and cleaning the tokens\n",
    "# Tokenization, stop word removal, and lemmatization; personally this is my preferred library\n",
    "cleaned_tokens = [token.lemma_ for token in doc if not token.is_stop and not token.is_punct]\n",
    "print(\"Original text:\", text)\n",
    "print(\"Cleaned tokens:\", cleaned_tokens)\n"
   ],
   "metadata": {
    "colab": {
     "base_uri": "https://localhost:8080/"
    },
    "id": "R41Q2sgrN9Y_",
    "outputId": "9ef6162c-8a52-4909-e434-70af49eddfb8"
   },
   "outputs": [],
   "execution_count": null
  },
  {
   "cell_type": "markdown",
   "source": [
    "`nlp = spacy.load(\"en_core_web_sm\")`\n",
    "\n",
    "This command loads spaCy's small English language model (en_core_web_sm), which includes pre-trained word vectors, syntax parsing, named entity recognition, and more.\n",
    "SpaCy models come in different sizes (sm, md, lg), where sm is the smallest and fastest.\n",
    "\n",
    "`doc = nlp(text)`\n",
    "\n",
    "This command processes the input text \"The quick brown foxes are jumping over the lazy dogs.\" using the loaded spaCy model.\n",
    "The result, doc, is a container for the processed text. It stores various linguistic features such as tokens, part-of-speech tags, dependencies, and named entities.\n",
    "\n",
    "`cleaned_tokens = [token.lemma_ for token in doc if not token.is_stop and not token.is_punct]`\n",
    "\n",
    "- Lemmatization (token.lemma_): Converts words to their base form (lemma). For example, \"jumping\" becomes \"jump\".\n",
    "- Stop Word Removal (not token.is_stop): Filters out common words (e.g., \"the\", \"are\") that don't carry much meaning and are often removed in NLP tasks to reduce noise.\n",
    "- Punctuation Removal (not token.is_punct): Excludes punctuation marks like commas and periods from the list of tokens.\n",
    "\n",
    "**NLP Concept Review:**\n",
    "- Tokenization: Splitting the input text into individual tokens (words or punctuation marks).\n",
    "- Lemmatization: Converting each word to its base or root form.\n",
    "- Stop Word Removal: Filtering out common words that do not provide significant meaning.\n",
    "- Punctuation Removal: Excluding punctuation marks to focus only on the words.\n",
    "\n",
    "As we've shown above, there are many NLP libraries to achieve your data cleaning and preprocessing steps."
   ],
   "metadata": {
    "id": "4TUtVVmyrlz8"
   }
  },
  {
   "cell_type": "code",
   "source": [
    "# Process whole documents\n",
    "text = (\"When Sebastian Thrun started working on self-driving cars at \"\n",
    "        \"Google in 2007, few people outside of the company took him \"\n",
    "        \"seriously. “I can tell you very senior CEOs of major American \"\n",
    "        \"car companies would shake my hand and turn away because I wasn’t \"\n",
    "        \"worth talking to,” said Thrun, in an interview with Recode earlier \"\n",
    "        \"this week.\")\n",
    "doc = nlp(text)\n",
    "\n",
    "# Analyze syntax\n",
    "print(\"Noun phrases:\", [chunk.text for chunk in doc.noun_chunks])\n",
    "print(\"Verbs:\", [token.lemma_ for token in doc if token.pos_ == \"VERB\"])\n",
    "\n",
    "# Find named entities, phrases and concepts\n",
    "for entity in doc.ents:\n",
    "    print(entity.text, entity.label_)"
   ],
   "metadata": {
    "colab": {
     "base_uri": "https://localhost:8080/"
    },
    "id": "CD7Y80qhvYA6",
    "outputId": "bf6627c1-c94c-4868-e097-08f6923c1f93"
   },
   "outputs": [],
   "execution_count": null
  },
  {
   "cell_type": "markdown",
   "source": [
    "# Text Vectorization"
   ],
   "metadata": {
    "id": "P6r_FIyCPooj"
   }
  },
  {
   "cell_type": "markdown",
   "source": [
    "## Bag of Words Representation"
   ],
   "metadata": {
    "id": "Eq5OAsnfPrdP"
   }
  },
  {
   "cell_type": "code",
   "source": [
    "from sklearn.feature_extraction.text import CountVectorizer\n",
    "\n",
    "# Sample documents\n",
    "documents = [\"I love NLP so so much\", \"NLP is so fascinating\", \"I enjoy learning NLP\", \"AI is completely amazing\", \"Hi Carlo\"]\n",
    "\n",
    "# Initialize BoW Vectorizer\n",
    "vectorizer = CountVectorizer()\n",
    "\n",
    "# Fit and transform the documents\n",
    "X = vectorizer.fit_transform(documents)\n",
    "\n",
    "# Convert to array and display the vocabulary\n",
    "print(vectorizer.get_feature_names_out())\n",
    "print(X.toarray())\n"
   ],
   "metadata": {
    "colab": {
     "base_uri": "https://localhost:8080/"
    },
    "id": "3TgUy9pgPRay",
    "outputId": "9e6b91eb-8e65-4f8f-f557-f18419e407b8"
   },
   "outputs": [],
   "execution_count": null
  },
  {
   "cell_type": "markdown",
   "source": [
    "In Bag of Words (BoW), text is represented by a matrix where each row is a document and each column is a unique word from the entire corpus. The matrix contains counts of how often each word appears in a document, ignoring word order or meaning.\n",
    "\n",
    "The Bag-of-Words (BoW) representation is a way to transform text data into numerical data so that it can be used for machine learning and natural language processing tasks. The idea is to represent text as a \"bag\" of its words, ignoring grammar and word order, and focusing only on whether known words occur in the document.\n",
    "\n",
    "1. Word Counting:\n",
    "Imagine you have a collection of sentences, such as\n",
    "\n",
    "```\n",
    "Sentence 1: \"I love NLP\"\n",
    "Sentence 2: \"NLP is fascinating\"\n",
    "Sentence 3: \"I love learning NLP\"\n",
    "\n",
    "```\n",
    "BoW counts how many times each word appears in these sentences.\n",
    "\n",
    "2. Vocabulary Creation:\n",
    "Create a list of unique words (called the vocabulary) from all the sentences\n",
    "\n",
    "\n",
    "```\n",
    "Vocabulary: [I, love, NLP, is, fascinating, learning]\n",
    "```\n",
    "\n",
    "3. Vector Representation:\n",
    "\n",
    "Each sentence is then represented as a vector (a list of numbers), where each number corresponds to a word in the vocabulary and indicates how many times that word appears in the sentence.\n",
    "\n",
    "Using the above vocabulary, the sentences become\n",
    "\n",
    "\n",
    "\n",
    "```\n",
    "Sentence 1: [1, 1, 1, 0, 0, 0]  # \"I love NLP\"\n",
    "Sentence 2: [0, 0, 1, 1, 1, 0]  # \"NLP is fascinating\"\n",
    "Sentence 3: [1, 1, 1, 0, 0, 1]  # \"I love learning NLP\"\n",
    "\n",
    "```\n",
    "Each vector has a length equal to the number of unique words in the vocabulary. The value at each position is the count of the word in that position of the vocabulary.\n",
    "\n",
    "4. Using the Vectors:\n",
    "\n",
    "These numerical vectors can now be used as input for various machine learning models or algorithms, like clustering or classification, to perform tasks such as text classification, sentiment analysis, or topic modeling.\n",
    "\n",
    "\n",
    "\n",
    "\n"
   ],
   "metadata": {
    "id": "Lud7j9nGQIfX"
   }
  },
  {
   "cell_type": "markdown",
   "source": [
    "BoW Representation:\n",
    "- Ignores Grammar and Word Order: BoW only considers word occurrences, not their order or structure. For example, \"I love NLP\" and \"NLP I love\" are represented the same way.\n",
    "- Focuses on Word Frequency: The value in the BoW matrix shows how frequently each word appears in each sentence.\n",
    "- Simple but Effective: Despite its simplicity, BoW can be quite powerful for many text-based tasks, but it may not capture word meanings or context (e.g., \"good\" vs. \"not good\").\n",
    "\n",
    "Limitations:\n",
    "- Loss of Context: BoW does not capture the context or semantics of words. Words like \"good\" and \"not good\" would be treated similarly if they appear in similar frequencies.\n",
    "- High Dimensionality: For a large vocabulary, the vectors can become very long and sparse, making computations more expensive."
   ],
   "metadata": {
    "id": "LBzMT_k5wvff"
   }
  },
  {
   "cell_type": "markdown",
   "source": [
    "## TF-IDF Representation"
   ],
   "metadata": {
    "id": "I98Dcr3FPz1d"
   }
  },
  {
   "cell_type": "code",
   "source": [
    "from sklearn.feature_extraction.text import TfidfVectorizer\n",
    "\n",
    "# Sample documents\n",
    "documents = [\"I love NLP\", \"NLP is fascinating\", \"I enjoy learning NLP\", \"AI is completely amazing\", \"Hi Carlo\"]\n",
    "\n",
    "# Initialize TF-IDF Vectorizer\n",
    "tfidf_vectorizer = TfidfVectorizer()\n",
    "\n",
    "# Fit and transform the documents\n",
    "X_tfidf = tfidf_vectorizer.fit_transform(documents)\n",
    "\n",
    "# Convert to array and display the vocabulary\n",
    "print(tfidf_vectorizer.get_feature_names_out())\n",
    "print(X_tfidf.toarray())\n"
   ],
   "metadata": {
    "colab": {
     "base_uri": "https://localhost:8080/"
    },
    "id": "rZ2-gzo1Px1X",
    "outputId": "e46f5acf-b241-45fb-e8fe-6e67b17bf0c4"
   },
   "outputs": [],
   "execution_count": null
  },
  {
   "cell_type": "markdown",
   "source": [
    "TF-IDF (Term Frequency-Inverse Document Frequency) improves on BoW by weighing terms based on their frequency in a document compared to their rarity in the overall corpus, emphasizing important but uncommon words.\n",
    "\n",
    "TF-IDF (Term Frequency-Inverse Document Frequency) is a statistical measure used to evaluate the importance of a word in a document relative to a collection of documents (often called a corpus). It builds on the Bag-of-Words (BoW) approach but adjusts the weights of the words to reflect their significance more accurately, taking into account not just the frequency of words but also how unique or common they are across all documents.\n",
    "\n",
    "In the output above, each row in the matrix represents a document, and each column represents a word in the vocabulary. The values indicate the TF-IDF score for each word in each document. Words like \"love\" and \"NLP\" have higher scores in the documents where they are more important, while common words like \"is\" are downweighted."
   ],
   "metadata": {
    "id": "JqLnORhmQLgm"
   }
  },
  {
   "cell_type": "markdown",
   "source": [
    "<h3>How Does TF-IDF Work?</h3>\n",
    "<p>Imagine you’re reading multiple news articles, and you notice that words like “news” or “report” appear in almost every article, but a word like “climate” appears only in a few. TF-IDF helps you identify that \"climate\" is more relevant or specific to those articles where it appears, while \"news\" is too common and not as meaningful.</p>\n",
    "\n",
    "<ol>\n",
    "    <li><b>Understanding TF and IDF:</b>\n",
    "        <ul>\n",
    "            <li><b>Term Frequency (TF):</b> Measures how frequently a word appears in a single document.\n",
    "                <ul>\n",
    "                    <li>Formula:\n",
    "                        <br><code>TF = (Number of times the word appears in the document) / (Total number of words in the document)</code></li>\n",
    "                    <li>Example: In the sentence <i>\"I love learning NLP\"</i>, if the word \"learning\" appears once and the total number of words is 4, the TF for \"learning\" is <code>1/4 = 0.25</code>.</li>\n",
    "                </ul>\n",
    "            </li>\n",
    "            <li><b>Inverse Document Frequency (IDF):</b> Measures how common or rare a word is across multiple documents. It gives more importance to unique words that appear in fewer documents and penalizes common words like \"the\" or \"is\" that appear in many documents.\n",
    "                <ul>\n",
    "                    <li>Formula:\n",
    "                        <br><code>IDF = log(Total number of documents / Number of documents containing the word)</code></li>\n",
    "                    <li>Example: If a word appears in 2 out of 10 documents, its IDF value would be: <br><code>IDF = log(10 / 2) = log(5) ≈ 0.7</code>.</li>\n",
    "                </ul>\n",
    "            </li>\n",
    "        </ul>\n",
    "    </li>\n",
    "    <li><b>Combining TF and IDF:</b>\n",
    "        <p>The <b>TF-IDF score</b> for a word in a document is calculated by multiplying its TF and IDF values:</p>\n",
    "        <code>TF-IDF = TF × IDF</code>\n",
    "        <p>This means that words with high TF-IDF scores are either frequent in a particular document and rare across the corpus or carry unique meaning in that document.</p>\n",
    "    </li>\n",
    "    <li><b>Result:</b>\n",
    "        <p>Words that are common across many documents (e.g., \"the\", \"is\") will have lower TF-IDF scores, while words that are frequent in a single document but not in others will have higher scores. This helps to emphasize <i>unique</i> words that are more relevant to a specific document.</p>\n",
    "    </li>\n",
    "</ol>\n",
    "\n",
    "<h3>Key Benefits of TF-IDF:</h3>\n",
    "<ul>\n",
    "    <li><b>Emphasizes Unique Words:</b> Unlike BoW, TF-IDF values words that are unique or rare in the corpus, giving them higher importance.</li>\n",
    "    <li><b>Reduces the Impact of Common Words:</b> Words like \"the\", \"is\", and \"of\" are downweighted, helping to focus on more meaningful terms.</li>\n",
    "    <li><b>Better Text Representation:</b> TF-IDF helps capture the relevance of a word to a document more effectively than just counting its frequency.</li>\n",
    "</ul>\n",
    "\n",
    "<h3>Intuitive Example</h3>\n",
    "<p>Let’s say you have the following documents:</p>\n",
    "<ul>\n",
    "    <li><b>Document 1</b>: \"I love NLP\"</li>\n",
    "    <li><b>Document 2</b>: \"NLP is fascinating\"</li>\n",
    "    <li><b>Document 3</b>: \"I love learning NLP\"</li>\n",
    "</ul>\n",
    "\n",
    "<h3>Key Differences between BoW and TF-IDF</h3>\n",
    "<p>In BoW, all words are treated equally regardless of their frequency across documents. TF-IDF adjusts the weight of each word based on its importance within the document and the entire corpus.</p>\n",
    "\n",
    "<h3>Resources:</h3>\n",
    "<ul>\n",
    "    <li><a href=\"https://scikit-learn.org/stable/modules/generated/sklearn.feature_extraction.text.TfidfVectorizer.html\">TF-IDF in Scikit-Learn Documentation</a></li>\n",
    "    <li><a href=\"https://en.wikipedia.org/wiki/Tf%E2%80%93idf\">TF-IDF Explained on Wikipedia</a></li>\n",
    "</ul>\n",
    "\n",
    "<p>TF-IDF is a powerful method that provides a more nuanced view of word importance compared to BoW, making it a staple in many text analysis and information retrieval tasks.</p>\n"
   ],
   "metadata": {
    "id": "d2YwPwb9xkD9"
   }
  },
  {
   "cell_type": "markdown",
   "source": [
    "- Bag-of-Words: Represents text as a matrix of word counts, ignoring word order.\n",
    "- TF-IDF: Weighs terms based on their frequency in a document relative to their rarity in the corpus, emphasizing unique words."
   ],
   "metadata": {
    "id": "0jSPux-Tv8Zh"
   }
  },
  {
   "cell_type": "markdown",
   "source": [
    "## Word Embeddings with Word2Vec"
   ],
   "metadata": {
    "id": "q8gJNkrgP7mn"
   }
  },
  {
   "cell_type": "markdown",
   "source": [
    "[Word embeddings](https://www.ibm.com/topics/word-embeddings#:~:text=Word%20embeddings%20are%20a%20way,relationships%20among%20the%20corresponding%20words.) are a way of representing words as vectors in a multi-dimensional space, where the distance and direction between vectors reflect the similarity and relationships among the corresponding words.\n",
    "\n",
    "![The-classical-king-woman-man-queen-example-of-neural-word-embeddings-in-2D-It.png](data:image/png;base64,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)"
   ],
   "metadata": {
    "id": "wdx7O_QoJSyx"
   }
  },
  {
   "cell_type": "code",
   "source": [
    "import gensim\n",
    "from gensim.models import Word2Vec\n",
    "from nltk.tokenize import word_tokenize\n",
    "\n",
    "# Sample documents\n",
    "documents = [\"I love NLP\", \"NLP is fascinating\", \"I enjoy learning NLP\", \"AI is completely amazing\", \"Hi Carlo\"]\n",
    "\n",
    "\n",
    "# Sample documents and tokenization\n",
    "tokenized_docs = [word_tokenize(doc.lower()) for doc in documents]\n",
    "\n",
    "# Train Word2Vec model\n",
    "# vector_size defines the dimensionality of the word vectors.\n",
    "# window is the context window size, and min_count sets the minimum frequency for a word to be included.\n",
    "model = Word2Vec(sentences=tokenized_docs, vector_size=100, window=5, min_count=1, workers=4)\n",
    "\n",
    "# Get vector for a specific word\n",
    "vector = model.wv['nlp']\n",
    "print(vector)\n"
   ],
   "metadata": {
    "colab": {
     "base_uri": "https://localhost:8080/"
    },
    "id": "1NjbgJVTP6KP",
    "outputId": "581128ae-9f4e-43f0-dffb-f04ee8db1a08"
   },
   "outputs": [],
   "execution_count": null
  },
  {
   "cell_type": "code",
   "source": [
    "# Get vector for a specific word\n",
    "vector = model.wv['fascinating']\n",
    "print(vector)"
   ],
   "metadata": {
    "colab": {
     "base_uri": "https://localhost:8080/"
    },
    "id": "4FVDU0qz9ial",
    "outputId": "743a6d78-f8b0-4c78-d0ff-6a5a181cc192"
   },
   "outputs": [],
   "execution_count": null
  },
  {
   "cell_type": "markdown",
   "source": [
    "Word2Vec, a word embedding technique, captures semantic relationships by converting words into continuous vectors, grouping similar words closer in the vector space based on context.\n",
    "\n",
    "Above, we can see that the model learns a 100-dimensional vector representation for the word \"NLP\". This vector captures the word's semantic meaning and its relationships to other words in the training data\n",
    "\n",
    "Looking at the whole matrix, each row in the matrix represents a document, and each column represents a word in the vocabulary. The values indicate the TF-IDF score for each word in each document. Words like \"love\" and \"NLP\" have higher scores in the documents where they are more important, while common words like \"is\" are downweighted.\n",
    "\n"
   ],
   "metadata": {
    "id": "AkBsaLhmQNmh"
   }
  },
  {
   "cell_type": "markdown",
   "source": [
    "<p><b>Word2Vec</b> is a popular word embedding technique that converts words into continuous vectors in a high-dimensional space, capturing their semantic meanings and relationships. Unlike traditional Bag-of-Words or TF-IDF methods, Word2Vec learns the context and semantics of words, grouping similar words closer together in the vector space.</p>\n",
    "\n",
    "<p>Word2Vec was introduced by a team at Google led by Tomas Mikolov in 2013. It uses a shallow neural network model to learn word representations that are highly effective for capturing the context of words in a large corpus of text.</p>\n",
    "\n",
    "<h3>How Does Word2Vec Work?</h3>\n",
    "<p>Word2Vec comes in two main architectures:</p>\n",
    "<ol>\n",
    "    <li><b>Continuous Bag of Words (CBOW):</b> Predicts a target word based on its surrounding context words. It tries to guess the word in the middle given the words around it.</li>\n",
    "    <li><b>Skip-gram:</b> Does the opposite of CBOW by predicting surrounding context words given a target word. It tries to predict the neighboring words given a single word.</li>\n",
    "</ol>\n",
    "\n",
    "<h3>Why Use Word2Vec?</h3>\n",
    "<ul>\n",
    "    <li><b>Captures Semantic Similarity:</b> Words that are similar in meaning (e.g., \"king\" and \"queen\") are positioned close to each other in the vector space.</li>\n",
    "    <li><b>Mathematical Operations:</b> You can perform arithmetic operations with word vectors to find relationships. For example, <code>vector(\"king\") - vector(\"man\") + vector(\"woman\") ≈ vector(\"queen\")</code>.</li>\n",
    "    <li><b>Reduces Dimensionality:</b> Converts sparse one-hot encoded vectors (with dimensions equal to vocabulary size) into dense vectors with lower dimensionality.</li>\n",
    "</ul>\n",
    "\n",
    "<h3>Understanding Word Embeddings</h3>\n",
    "<p>In Word2Vec, each word is represented as a <b>dense vector</b> of fixed size (e.g., 100 or 300 dimensions) instead of a sparse, high-dimensional vector like in Bag-of-Words or TF-IDF.</p>\n",
    "\n",
    "\n",
    "<p>Let’s say you have the words <i>\"king\"</i>, <i>\"queen\"</i>, <i>\"man\"</i>, and <i>\"woman\"</i>. Word2Vec learns that the vector difference between <i>\"king\"</i> and <i>\"queen\"</i> is similar to the difference between <i>\"man\"</i> and <i>\"woman\"</i>. This captures the relationship between these words.</p>\n",
    "\n",
    "<p>We can also visually represent these vectors to show relationships between words. Imagine each word as a point in a high-dimensional space. Words like <i>\"dog\"</i> and <i>\"cat\"</i> are closer to each other, while words like <i>\"dog\"</i> and <i>\"car\"</i> are farther apart. The proximity of the points indicates semantic similarity.</p>\n",
    "\n",
    "<h3>Resources:</h3>\n",
    "<ul>\n",
    "    <li><a href=\"https://scikit-learn.org/stable/modules/generated/sklearn.feature_extraction.text.TfidfVectorizer.html\">TF-IDF in Scikit-Learn Documentation</a></li>\n",
    "    <li><a href=\"https://en.wikipedia.org/wiki/Tf%E2%80%93idf\">TF-IDF Explained on Wikipedia</a></li>\n",
    "</ul>\n",
    "\n"
   ],
   "metadata": {
    "id": "NYGPo_rO86NJ"
   }
  },
  {
   "cell_type": "code",
   "source": [
    "import gensim.downloader as api\n",
    "\n",
    "# Load a pre-trained GloVe model (trained on Wikipedia and Gigaword)\n",
    "# glove_model = api.load(\"glove-wiki-gigaword-300\")\n",
    "# use this if the above is taking too long to load\n",
    "glove_model = api.load(\"glove-wiki-gigaword-100\")  # 100D GloVe model\n",
    "\n",
    "\n",
    "# Check the similarity between words using GloVe\n",
    "print(\"Similarity between 'king' and 'queen':\", glove_model.similarity('king', 'queen'))\n",
    "print(\"Result of 'king - man + woman':\", glove_model.most_similar(positive=['king', 'woman'], negative=['man'], topn=3))\n"
   ],
   "metadata": {
    "colab": {
     "base_uri": "https://localhost:8080/"
    },
    "id": "097k5KOe_bUO",
    "outputId": "d2f3ee27-97d7-45ad-fefb-e48a28ddca10"
   },
   "outputs": [],
   "execution_count": null
  },
  {
   "cell_type": "markdown",
   "source": [
    "GloVe (Global Vectors for Word Representation) is a powerful word embedding technique designed to capture the semantic meaning of words in a high-dimensional space. Developed by researchers at Stanford University in 2014, GloVe represents words as dense vectors, allowing them to be mathematically manipulated and compared. These embeddings are trained on large text corpora like Wikipedia or Twitter, and they reflect patterns of word co-occurrence, capturing complex semantic relationships such as analogies, similarities, and hierarchies.\n",
    "\n",
    "The fundamental idea behind GloVe is to leverage the statistical properties of word co-occurrences in a given corpus. By analyzing how frequently words appear together, GloVe learns to place similar words—like king and queen—close to each other in the vector space, while keeping dissimilar words—like king and apple—further apart.\n",
    "\n",
    "Key Features of GloVe:\n",
    "- Captures Global Statistics: GloVe is based on a co-occurrence matrix that captures the global word-word co-occurrence statistics from a large corpus. This allows GloVe to build a more complete picture of word relationships.\n",
    "- Efficient and Scalable: GloVe is computationally efficient and scales well to large datasets, making it suitable for training on billions of words.\n",
    "- Semantic and Syntactic Relationships: GloVe captures both semantic and syntactic relationships between words.\n",
    "- Pre-trained Embeddings: GloVe offers a variety of pre-trained models with different dimensions (50D, 100D, 200D, 300D) and trained on diverse datasets like Wikipedia, Common Crawl, and Twitter. This makes it easy to use without having to train the model from scratch.\n",
    "\n",
    "GloVe is widely used in natural language processing tasks such as sentiment analysis, document classification, and word analogy solving. With its ability to transform words into meaningful numerical representations, GloVe has become a cornerstone in NLP and deep learning applications."
   ],
   "metadata": {
    "id": "P1fe6QzPEncO"
   }
  },
  {
   "cell_type": "code",
   "source": [
    "import gensim\n",
    "from gensim.models import Word2Vec\n",
    "from nltk.tokenize import word_tokenize\n",
    "\n",
    "documents = [\n",
    "    \"The king is the ruler of the kingdom.\",\n",
    "    \"The queen is the wife of the king and rules with him.\",\n",
    "    \"The prince is the son of the king and queen.\",\n",
    "    \"The princess is the daughter of the king and queen.\",\n",
    "    \"The man is the husband of the woman.\",\n",
    "    \"The woman is the wife of the man.\",\n",
    "    \"The father is the male parent.\",\n",
    "    \"The mother is the female parent.\",\n",
    "    \"The brother is a male sibling.\",\n",
    "    \"The sister is a female sibling.\",\n",
    "    \"A king and queen are part of the royal family.\",\n",
    "    \"The prince will become a king when he grows up.\",\n",
    "    \"The princess might become a queen someday.\",\n",
    "    \"The father takes care of his family.\",\n",
    "    \"The mother nurtures her children and the family.\",\n",
    "    \"The king leads the kingdom, and the queen supports him.\",\n",
    "    \"A man can be a father, a husband, or a brother.\",\n",
    "    \"A woman can be a mother, a wife, or a sister.\",\n",
    "    \"A brother and sister share the same parents.\",\n",
    "    \"A father and mother are the parents of a child.\",\n",
    "    \"A king and a queen have royal children called prince and princess.\",\n",
    "    \"A man and a woman can be part of a family.\",\n",
    "    \"The king has authority, while the queen has grace.\",\n",
    "    \"The prince has responsibilities, and the princess has charm.\",\n",
    "    \"The brother helps his siblings, and the sister cares for them.\"\n",
    "]\n",
    "\n",
    "# Tokenize the documents\n",
    "tokenized_docs = [word_tokenize(doc.lower()) for doc in documents]\n",
    "\n",
    "# Train a Word2Vec model with a custom dataset\n",
    "model = Word2Vec(sentences=tokenized_docs, vector_size=100, window=5, min_count=1, workers=4)\n",
    "\n",
    "# Get vector representation for the word 'king'\n",
    "vector_king = model.wv['king']\n",
    "print(f\"Vector representation for 'king': \\n{vector_king}\\n\")\n",
    "\n",
    "# Example of vector arithmetic: \"king - man + woman = queen\"\n",
    "result_analogy = model.wv.most_similar(positive=['king', 'woman'], negative=['man'], topn=3)\n",
    "print(f\"Result of 'king - man + woman': {result_analogy}\\n\")\n",
    "\n",
    "# Example of hierarchical relationship: \"prince - king + queen = princess\"\n",
    "result_prince_analogy = model.wv.most_similar(positive=['prince', 'queen'], negative=['king'], topn=3)\n",
    "print(f\"Result of 'prince - king + queen': {result_prince_analogy}\\n\")\n",
    "\n",
    "# Example of sibling relationship: \"brother - male + female = sister\"\n",
    "result_sibling_analogy = model.wv.most_similar(positive=['brother', 'female'], negative=['male'], topn=3)\n",
    "print(f\"Result of 'brother - male + female': {result_sibling_analogy}\\n\")\n"
   ],
   "metadata": {
    "colab": {
     "base_uri": "https://localhost:8080/"
    },
    "id": "-mdkctE89zgq",
    "outputId": "bc6cf7a5-3ffa-4a44-b52b-bb258c4ffd87"
   },
   "outputs": [],
   "execution_count": null
  },
  {
   "cell_type": "markdown",
   "source": [
    "# NLP Text Processing Pipeline with IMDB"
   ],
   "metadata": {
    "id": "p4mNR4-UROT7"
   }
  },
  {
   "cell_type": "code",
   "source": [
    "import pandas as pd\n",
    "import numpy as np"
   ],
   "metadata": {
    "id": "6jUnEpdyQApy"
   },
   "outputs": [],
   "execution_count": null
  },
  {
   "cell_type": "code",
   "source": [
    "# GitHub URL for the CSV file\n",
    "github_url = 'https://github.com/angelaaaateng/AIR_AI_Engineering_Course_2024/raw/refs/heads/main/Datasets/IMDB_Dataset.csv'\n",
    "\n",
    "df = pd.read_csv(github_url, sep=',', on_bad_lines='skip')\n",
    "df"
   ],
   "metadata": {
    "colab": {
     "base_uri": "https://localhost:8080/",
     "height": 423
    },
    "id": "ZhgVNDZ7RXru",
    "outputId": "85d3a6b1-ad8a-4c93-b51d-0e760a91b94d"
   },
   "outputs": [],
   "execution_count": null
  },
  {
   "cell_type": "code",
   "source": [
    "# Import necessary libraries\n",
    "\n",
    "import re\n",
    "from nltk.corpus import stopwords\n",
    "from nltk.stem import WordNetLemmatizer\n",
    "\n",
    "# Remove HTML tags and special characters\n",
    "def preprocess_text(text):\n",
    "  text = re.sub('<[^<]+?>', '', text) # Remove HTML tags\n",
    "  text = re.sub('[^a-zA-Z0-9\\s]', '', text) # Remove special characters\n",
    "  text = text.lower() # Convert to lowercase\n",
    "  return text\n",
    "\n",
    "# Apply preprocessing to the 'review' column\n",
    "df['review'] = df['review'].apply(preprocess_text)\n",
    "\n",
    "df"
   ],
   "metadata": {
    "colab": {
     "base_uri": "https://localhost:8080/",
     "height": 423
    },
    "id": "b6eRP1hyR_N6",
    "outputId": "c0381ea5-6128-4090-e767-3f548f479bd7"
   },
   "outputs": [],
   "execution_count": null
  },
  {
   "cell_type": "code",
   "source": [
    "# Tokenization and Stop Word Removal\n",
    "from nltk.tokenize import word_tokenize\n",
    "\n",
    "stop_words = set(stopwords.words('english'))\n",
    "def remove_stopwords_and_tokenize(text):\n",
    "    tokens = word_tokenize(text)\n",
    "    filtered_tokens = [word for word in tokens if word not in stop_words]\n",
    "    return filtered_tokens\n",
    "\n",
    "df['review'] = df['review'].apply(remove_stopwords_and_tokenize)\n",
    "df\n"
   ],
   "metadata": {
    "colab": {
     "base_uri": "https://localhost:8080/",
     "height": 423
    },
    "id": "3pkf0pZOSONR",
    "outputId": "64be6224-1249-47ee-f249-01ccdde3e94e"
   },
   "outputs": [],
   "execution_count": null
  },
  {
   "cell_type": "code",
   "source": [
    "# Lemmatization\n",
    "lemmatizer = WordNetLemmatizer()\n",
    "def lemmatize_tokens(tokens):\n",
    "    lemmatized_tokens = [lemmatizer.lemmatize(token) for token in tokens]\n",
    "    return lemmatized_tokens\n",
    "\n",
    "df['review'] = df['review'].apply(lemmatize_tokens)\n",
    "df\n"
   ],
   "metadata": {
    "colab": {
     "base_uri": "https://localhost:8080/",
     "height": 423
    },
    "id": "LBfZcsLuSaNh",
    "outputId": "b4cc625e-5837-4f8a-98b6-42e8982479bc"
   },
   "outputs": [],
   "execution_count": null
  },
  {
   "cell_type": "code",
   "source": [
    "df['review'][0]"
   ],
   "metadata": {
    "colab": {
     "base_uri": "https://localhost:8080/"
    },
    "id": "2u0sw2MWSnaz",
    "outputId": "f9d2d3d6-25f2-4e28-ac7b-0aac9203ba21"
   },
   "outputs": [],
   "execution_count": null
  },
  {
   "cell_type": "code",
   "source": [
    "from gensim.models import Word2Vec\n",
    "# Train Word2Vec model using the pre-tokenized words\n",
    "model = Word2Vec(sentences=df['review'], vector_size=100, window=5, min_count=1, workers=4)\n"
   ],
   "metadata": {
    "id": "SjYEO_h1SyK3"
   },
   "outputs": [],
   "execution_count": null
  },
  {
   "cell_type": "code",
   "source": [
    "model"
   ],
   "metadata": {
    "colab": {
     "base_uri": "https://localhost:8080/"
    },
    "id": "ffePcoxCTxSI",
    "outputId": "4efae8c5-26c7-4765-a617-c6c15943f49e"
   },
   "outputs": [],
   "execution_count": null
  },
  {
   "cell_type": "code",
   "source": [
    "\n",
    "# Function to get the average word vector for a review\n",
    "def get_review_vector(tokenized_review):\n",
    "    # Only include words that are in the Word2Vec model's vocabulary\n",
    "    valid_words = [word for word in tokenized_review if word in model.wv.key_to_index]\n",
    "    if valid_words:  # Check if there are any valid words\n",
    "        # Calculate the mean of the word vectors\n",
    "        return np.mean([model.wv[word] for word in valid_words], axis=0)\n",
    "    else:\n",
    "        # Return a zero vector if no valid words are found\n",
    "        return np.zeros(model.vector_size)\n",
    "\n",
    "# Apply the function to each row in the 'reviews' column\n",
    "df['review_vector'] = df['review'].apply(lambda x: get_review_vector(x))"
   ],
   "metadata": {
    "id": "l4KjZpl1TVRm"
   },
   "outputs": [],
   "execution_count": null
  },
  {
   "cell_type": "code",
   "source": [
    "df"
   ],
   "metadata": {
    "colab": {
     "base_uri": "https://localhost:8080/",
     "height": 423
    },
    "id": "98i_3ZZST5Q8",
    "outputId": "07f8af5d-8565-42c9-c1ef-619e1b0d3799"
   },
   "outputs": [],
   "execution_count": null
  },
  {
   "cell_type": "code",
   "source": [
    "# Function to determine if sentiment is positive or negative based on the mean of the vector\n",
    "def determine_sentiment(vector):\n",
    "    # If the mean of the vector is positive, classify as positive sentiment\n",
    "    if np.mean(vector) > 0.05:\n",
    "        return 'positive'\n",
    "    else:\n",
    "        return 'negative'\n",
    "\n",
    "# Apply the sentiment determination function to each vector\n",
    "df['predicted_sentiment'] = df['review_vector'].apply(lambda x: determine_sentiment(x))\n"
   ],
   "metadata": {
    "id": "-8ceh5CkWB0v"
   },
   "outputs": [],
   "execution_count": null
  },
  {
   "cell_type": "code",
   "source": [
    "df"
   ],
   "metadata": {
    "colab": {
     "base_uri": "https://localhost:8080/",
     "height": 597
    },
    "id": "SdzX1WICWdxK",
    "outputId": "dfcf1f62-66e0-4a03-f5be-a721a894a2d4"
   },
   "outputs": [],
   "execution_count": null
  },
  {
   "metadata": {},
   "cell_type": "code",
   "source": "df['sentiment'].value_counts()",
   "outputs": [],
   "execution_count": null
  },
  {
   "cell_type": "code",
   "source": "df['predicted_sentiment'].value_counts()",
   "metadata": {
    "colab": {
     "base_uri": "https://localhost:8080/",
     "height": 178
    },
    "id": "qgCVJIgyWeDp",
    "outputId": "3c643629-c657-43b7-ec4a-9757de9e1286"
   },
   "outputs": [],
   "execution_count": null
  },
  {
   "cell_type": "code",
   "source": [
    "import matplotlib.pyplot as plt\n",
    "import seaborn as sns\n",
    "from sklearn.metrics import confusion_matrix\n",
    "\n",
    "# how can we make the model better? what else would you do?\n",
    "\n",
    "# Get unique labels from the actual and predicted sentiment columns\n",
    "unique_labels = list(set(df['sentiment'].unique()) | set(df['predicted_sentiment'].unique()))\n",
    "\n",
    "# Create confusion matrix using the unique labels\n",
    "conf_matrix = confusion_matrix(df['sentiment'], df['predicted_sentiment'], labels=unique_labels)\n",
    "\n",
    "# Create a heatmap to visualize the confusion matrix\n",
    "plt.figure(figsize=(6, 4))\n",
    "sns.heatmap(conf_matrix, annot=True, fmt='d', cmap='Blues',\n",
    "            xticklabels=unique_labels,  # Use dynamic labels\n",
    "            yticklabels=unique_labels)\n",
    "plt.xlabel('Predicted Sentiment')\n",
    "plt.ylabel('Actual Sentiment')\n",
    "plt.title('Confusion Matrix')\n",
    "plt.show()"
   ],
   "metadata": {
    "colab": {
     "base_uri": "https://localhost:8080/",
     "height": 410
    },
    "id": "N_vdiTX6XiLu",
    "outputId": "e606e70f-809b-43d3-a467-4b9a598f35fb"
   },
   "outputs": [],
   "execution_count": null
  },
  {
   "cell_type": "markdown",
   "source": [
    "# HuggingFace Setup"
   ],
   "metadata": {
    "id": "HEQO5mckHBrX"
   }
  },
  {
   "cell_type": "code",
   "source": [
    "!pip install transformers huggingface_hub\n"
   ],
   "metadata": {
    "id": "OMORNpIoX3mB",
    "colab": {
     "base_uri": "https://localhost:8080/"
    },
    "outputId": "69d056e0-5e84-44c4-d171-68198fbee27a"
   },
   "outputs": [],
   "execution_count": null
  },
  {
   "cell_type": "code",
   "source": [
    "from transformers import pipeline, AutoModelForSequenceClassification, AutoTokenizer\n",
    "from huggingface_hub import login\n",
    "\n",
    "# Authenticate with Hugging Face using the API token\n",
    "# Replace 'your_huggingface_token' with your actual Hugging Face token\n",
    "huggingface_token = ''\n",
    "login(token=huggingface_token)\n",
    "\n",
    "# Define the model and tokenizer you want to use\n",
    "model_name = \"distilbert-base-uncased-finetuned-sst-2-english\"  # Sentiment analysis model\n",
    "\n",
    "# Load the model and tokenizer from the Hugging Face Hub\n",
    "# This will use your authenticated token to access models\n",
    "tokenizer = AutoTokenizer.from_pretrained(model_name)\n",
    "model = AutoModelForSequenceClassification.from_pretrained(model_name)\n",
    "\n",
    "# Create a text classification pipeline\n",
    "classifier = pipeline(\"sentiment-analysis\", model=model, tokenizer=tokenizer)\n",
    "\n",
    "#Test the pipeline with sample texts\n",
    "texts = [\n",
    "    \"I absolutely love the new design of your website!\",\n",
    "    \"The service was really bad and I'm not happy with it.\"\n",
    "]\n",
    "\n",
    "# Perform sentiment analysis\n",
    "results = classifier(texts)\n",
    "\n",
    "# Print out the results\n",
    "for text, result in zip(texts, results):\n",
    "    print(f\"Text: {text}\\nSentiment: {result['label']} (Confidence: {result['score']:.2f})\\n\")\n"
   ],
   "metadata": {
    "colab": {
     "base_uri": "https://localhost:8080/",
     "height": 477,
     "referenced_widgets": [
      "92d6e069404146fe9d15dec36ccbade0",
      "7e21e23ebc0d40d0b6dcb0fc08aa9d21",
      "771bd628fdbc4d16b146dd11e22ddd2d",
      "b9254341867d49f09e9af7d4ccbc40bd",
      "4815f3e2180f4949b23c23743068ab92",
      "3020c35cb60e4b1bbff5951fb046c51f",
      "d6e6114058d34a6aaf9c69944ff1955e",
      "42d47908f1fe48c0bac239c2e8077cce",
      "ea6dfbf35c964581b046d2b7699fd48d",
      "43569f7767664f8d9bde5a9ccce8d63c",
      "899fb0496e144d69b12a67ea95882b62",
      "718688f9319f49e1a90be78f8464ab7a",
      "fc020f37248e4025abfa62bc54d7e0ab",
      "aab93c462b3d4d6fa0cc8b6993774f13",
      "93dc1c09db9642ceb2f6ff5e0bd93e5b",
      "bc8599a257b843468850abb5b5730b6b",
      "36a65e31da364a95a10e2157179e3fa4",
      "f3942b1899c14854ae50f80497d99e52",
      "c3ed3d7cc5cd477ab1b871e553ce91ec",
      "908321d7afca48149460051f9cf7edb5",
      "5773a68cbbd1442fb0a5e56fe293e1e1",
      "27b994f4f41943a98a1ce30e4216f093",
      "49fc5f569a534ef79c39fe18154e4018",
      "02be3d7a2f654d50a477b448b7220faa",
      "37c071938dce4d2d8a11397c3ea0934f",
      "0ed57573202c4307804c838f10aeeca7",
      "20e8ec5b537e45e08711414e2a8de99e",
      "6a013413447c415c9fc9e3b20fbba609",
      "7df79e6ce3c046b1b8a9d8d60a5592c7",
      "4ed226dca42a454aabab355eb9997e63",
      "b5c86112b18c4eacaef28f2b37f573ab",
      "692e8815253b46029b932aacbd71f867",
      "c37f3c0ba3464045a3d60547a8686529",
      "c22e8b20659e440386080d729136b5e2",
      "3607fba36509487d89bd896a7b6a4ccb",
      "c9bbc020508e4b6881f66aafb715c345",
      "0f936c995fd04660ac2a4e0f300e397d",
      "d3a85ef06eb54f88a517bd656aa8cf78",
      "cd656c4aa18347d4bf18581450565ef2",
      "983ca36147ce4323aa07e7623ac5eded",
      "e0b73afcdbbf41d89c7095be41ad9a8f",
      "ef044e741bd24f32a7ee853581634252",
      "426248b65786437eac5a852d94a32d44",
      "6f5746dc94284f77bcfa42f8839ae5eb"
     ]
    },
    "id": "h-MG18phHHui",
    "outputId": "7d855829-746f-4d65-ec8d-cad3ae01ef56"
   },
   "outputs": [],
   "execution_count": null
  },
  {
   "cell_type": "code",
   "source": [],
   "metadata": {
    "id": "5jTFR6aQH8ve"
   },
   "outputs": [],
   "execution_count": null
  }
 ]
}
