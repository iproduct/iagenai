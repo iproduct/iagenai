{
 "cells": [
  {
   "cell_type": "markdown",
   "id": "8214420c-1936-472c-930e-1f4c9efb3809",
   "metadata": {},
   "source": [
    "# GenAI with Python: Agents from scratch"
   ]
  },
  {
   "cell_type": "markdown",
   "id": "53219017-c57b-4ae8-8442-b89f95ff8bdc",
   "metadata": {},
   "source": [
    "###### [Article: TowardsDataScience](https://towardsdatascience.com/genai-with-python-build-agents-from-scratch-complete-tutorial-4fc1e084e2ec)"
   ]
  },
  {
   "cell_type": "markdown",
   "id": "fbd5a8e7-d0ca-4c6c-88b4-1c1e27591b84",
   "metadata": {
    "jp-MarkdownHeadingCollapsed": true
   },
   "source": [
    "### 0 - Setup"
   ]
  },
  {
   "cell_type": "code",
   "id": "10f53cd6-8254-40ff-aca4-ca18a1bc7a8a",
   "metadata": {
    "ExecuteTime": {
     "end_time": "2025-01-09T18:04:34.558505Z",
     "start_time": "2025-01-09T18:04:34.554029Z"
    }
   },
   "source": [
    "#pip install langchain --> 0.2.14\n",
    "#pip install langgraph --> 0.2.19\n",
    "#pip install ollama --> 0.4.5\n",
    "#pip install duckduckgo-search --> 6.2.12\n",
    "#pip install wikipedia --> 1.4.0"
   ],
   "outputs": [],
   "execution_count": 73
  },
  {
   "cell_type": "code",
   "id": "ac37da15-9f5f-46b7-99cb-7bb4301ef088",
   "metadata": {
    "ExecuteTime": {
     "end_time": "2025-01-09T18:04:36.984671Z",
     "start_time": "2025-01-09T18:04:34.601711Z"
    }
   },
   "source": [
    "import ollama\n",
    "\n",
    "llm = \"llama3.1\"\n",
    "q = '''who died on September 9, 2024?'''\n",
    "\n",
    "res = ollama.chat(model=llm, \n",
    "                  messages=[{\"role\":\"system\", \"content\":\"\"},\n",
    "                            {\"role\":\"user\", \"content\":q}])\n",
    "res"
   ],
   "outputs": [
    {
     "data": {
      "text/plain": [
       "ChatResponse(model='llama3.1', created_at='2025-01-09T18:04:36.9810427Z', done=True, done_reason='stop', total_duration=2374922200, load_duration=25474100, prompt_eval_count=21, prompt_eval_duration=286000000, eval_count=79, eval_duration=2059000000, message=Message(role='assistant', content=\"I don't have the ability to predict the future or know specific information about events that haven't yet occurred. I can only provide information up until my training data cutoff in 2022.\\n\\nIt's not possible for me to provide information about deaths that may occur on a specific date (September 9, 2024) as it has not yet happened and is unknown at this time.\", images=None, tool_calls=None))"
      ]
     },
     "execution_count": 74,
     "metadata": {},
     "output_type": "execute_result"
    }
   ],
   "execution_count": 74
  },
  {
   "cell_type": "markdown",
   "id": "65c648ef-bed3-4179-8dcb-d6678abc0faa",
   "metadata": {
    "jp-MarkdownHeadingCollapsed": true
   },
   "source": [
    "### 1 - Tools"
   ]
  },
  {
   "cell_type": "code",
   "id": "f6aa2dbe-0aa0-4d57-964b-b8c7aac331e0",
   "metadata": {
    "ExecuteTime": {
     "end_time": "2025-01-09T18:04:37.736098Z",
     "start_time": "2025-01-09T18:04:37.057738Z"
    }
   },
   "source": [
    "from langchain_core.tools import tool\n",
    "from langchain_community.tools import DuckDuckGoSearchRun\n",
    "\n",
    "@tool(\"tool_browser\")\n",
    "def tool_browser(q:str) -> str:\n",
    "    \"\"\"Search on DuckDuckGo browser by passing the input `q`\"\"\"\n",
    "    return DuckDuckGoSearchRun().run(q)\n",
    "\n",
    "# test\n",
    "print( tool_browser(q) )"
   ],
   "outputs": [
    {
     "name": "stderr",
     "output_type": "stream",
     "text": [
      "D:\\CourseIAGenAI\\git\\iagenai\\fmi-2024-05-nlp-agents-intro\\.venv\\Lib\\site-packages\\langchain_community\\utilities\\duckduckgo_search.py:64: UserWarning: backend='api' is deprecated, using backend='auto'\n",
      "  ddgs_gen = ddgs.text(\n"
     ]
    },
    {
     "name": "stdout",
     "output_type": "stream",
     "text": [
      "Famous deaths in September 2024. Learn about 53 historical figures, notable people and celebrities who died in Sep 2024 like Pete Rose, James Earl Jones and Alberto Fujimori. The following is a list of notable deaths in September 2024. Entries for each day are listed alphabetically by surname. A typical entry lists information in the following sequence: Name, age, country of citizenship at birth, subsequent country of citizenship (if applicable), reason for notability, cause of death (if known), and reference. ... What happened on September 9, 2024. Browse historical events, famous birthdays and notable deaths from Sep 9, 2024 or search by date, day or keyword. Menu. Channels On This Day. Calendar; Search; September 2024. Events; ... Died in 2024 2024 Highlights. About September 9, 2024. Day of the Week: Monday 2024 Carroll Dawson, American basketball coach (Baylor University 1973-77) and executive (GM Houston Rockets 1996-2006), dies at 86; 2024 Cecília Gáspár, Hungarian soccer midfielder and captain (28 caps; TSV Crailsheim, SGS Essen), dies at 39 Legendary actor James Earl Jones died aged 93 years old on September 9, 2024. The actor, best known for the deep baritone voice with which he portrayed characters including Star Wars' Darth Vader and The Lion King's Mufasa, was also the star of films including Field of Dreams and Coming to America.\n"
     ]
    }
   ],
   "execution_count": 75
  },
  {
   "cell_type": "code",
   "id": "95293ae9-3422-4f48-af4c-6eb4be196416",
   "metadata": {
    "ExecuteTime": {
     "end_time": "2025-01-09T18:04:37.821906Z",
     "start_time": "2025-01-09T18:04:37.813634Z"
    }
   },
   "source": [
    "@tool(\"final_answer\", parse_docstring=True)\n",
    "def final_answer(text:str) -> str:\n",
    "    \"\"\"Returns a natural language response to the user by passing the input `text`. \n",
    "    You should provide as much context as possible and specify the source of the information.\n",
    "    \n",
    "    Args:\n",
    "        text: the text to be summarized as final answer\n",
    "   \n",
    "    Returns:\n",
    "        str: the resulting final answer text\n",
    "    \"\"\"\n",
    "    return text\n",
    "\n",
    "# test\n",
    "print( final_answer(\"yes\") )"
   ],
   "outputs": [
    {
     "name": "stdout",
     "output_type": "stream",
     "text": [
      "yes\n"
     ]
    }
   ],
   "execution_count": 76
  },
  {
   "cell_type": "code",
   "id": "79657a90-ef3c-42db-a067-6829018f3f7b",
   "metadata": {
    "ExecuteTime": {
     "end_time": "2025-01-09T18:04:37.862079Z",
     "start_time": "2025-01-09T18:04:37.845174Z"
    }
   },
   "source": [
    "dic_tools = {\"tool_browser\":tool_browser, \n",
    "             \"final_answer\":final_answer}"
   ],
   "outputs": [],
   "execution_count": 77
  },
  {
   "cell_type": "markdown",
   "id": "f182ae77-bed0-4262-b559-3f9c5a4de070",
   "metadata": {
    "jp-MarkdownHeadingCollapsed": true
   },
   "source": [
    "### 2 - Decision Making"
   ]
  },
  {
   "cell_type": "code",
   "id": "952d7dad-b331-4e74-8f2d-6301d0d39f3a",
   "metadata": {
    "ExecuteTime": {
     "end_time": "2025-01-09T18:04:37.936577Z",
     "start_time": "2025-01-09T18:04:37.931762Z"
    }
   },
   "source": [
    "prompt = \"\"\"\n",
    "You know everything, you must answer every question from the user, you can use the list of tools provided to you.\n",
    "Your goal is to provide the user with the best possible answer, including key information about the sources and tools used.\n",
    "\n",
    "Note, when using a tool, you provide the tool name and the arguments to use in JSON format. \n",
    "For each call, you MUST ONLY use one tool AND the response format must ALWAYS be in the pattern:\n",
    "```json\n",
    "{\"name\":\"<tool_name>\", \"parameters\": {\"<tool_input_key>\":<tool_input_value>}}\n",
    "```\n",
    "Remember, do NOT use any tool with the same query more than once.\n",
    "Remember, if the user doesn't ask a specific question, you MUST use the `final_answer` tool directly.\n",
    "\n",
    "Every time the user asks a question, you take note in the memory.\n",
    "Every time you find some information related to the user's question, you take note in the memory.\n",
    "\n",
    "You should aim to collect information from a diverse range of sources before providing the answer to the user. \n",
    "Once you have collected plenty of information to answer the user's question use the `final_answer` tool.\n",
    "\"\"\""
   ],
   "outputs": [],
   "execution_count": 78
  },
  {
   "cell_type": "code",
   "id": "52813d8f-2579-4925-98df-55bfa5df1d53",
   "metadata": {
    "ExecuteTime": {
     "end_time": "2025-01-09T18:04:37.964486Z",
     "start_time": "2025-01-09T18:04:37.959325Z"
    }
   },
   "source": [
    "str_tools = \"\\n\".join([str(n+1)+\". `\"+str(v.name)+\"`: \"+str(v.description) for n,v in enumerate(dic_tools.values())])\n",
    "\n",
    "prompt_tools = f\"You can use the following tools:\\n{str_tools}\"\n",
    "print(prompt_tools)"
   ],
   "outputs": [
    {
     "name": "stdout",
     "output_type": "stream",
     "text": [
      "You can use the following tools:\n",
      "1. `tool_browser`: Search on DuckDuckGo browser by passing the input `q`\n",
      "2. `final_answer`: Returns a natural language response to the user by passing the input `text`. \n",
      "You should provide as much context as possible and specify the source of the information.\n"
     ]
    }
   ],
   "execution_count": 79
  },
  {
   "cell_type": "code",
   "id": "c76fbe59-b967-458f-b8f3-a99b54bf4a0a",
   "metadata": {
    "ExecuteTime": {
     "end_time": "2025-01-09T18:04:39.392278Z",
     "start_time": "2025-01-09T18:04:38.001039Z"
    }
   },
   "source": [
    "# LLM deciding what tool to use\n",
    "from pprint import pprint\n",
    "\n",
    "llm_res = ollama.chat(\n",
    "    model=llm,\n",
    "    messages=[{\"role\":\"system\", \"content\":prompt+\"\\n\"+prompt_tools},\n",
    "              {\"role\":\"user\", \"content\":\"hello\"}\n",
    "             ], format=\"json\")\n",
    "\n",
    "pprint(llm_res)"
   ],
   "outputs": [
    {
     "name": "stdout",
     "output_type": "stream",
     "text": [
      "ChatResponse(model='llama3.1', created_at='2025-01-09T18:04:39.3896934Z', done=True, done_reason='stop', total_duration=1385376300, load_duration=24226600, prompt_eval_count=314, prompt_eval_duration=372000000, eval_count=35, eval_duration=985000000, message=Message(role='assistant', content='{\"name\":\"final_answer\", \"parameters\":{\"text\":\"Hello! I\\'m happy to chat with you. I\\'ll do my best to answer any questions you have.\"}}', images=None, tool_calls=None))\n"
     ]
    }
   ],
   "execution_count": 80
  },
  {
   "cell_type": "code",
   "id": "9e61195b-cd68-4e22-b335-3a88477c8f6e",
   "metadata": {
    "ExecuteTime": {
     "end_time": "2025-01-09T18:04:40.158666Z",
     "start_time": "2025-01-09T18:04:39.456815Z"
    }
   },
   "source": [
    "# LLM deciding what tool to use (output format = json)\n",
    "llm_res = ollama.chat(\n",
    "    model=llm,\n",
    "    messages=[{\"role\":\"system\", \"content\":prompt+\"\\n\"+prompt_tools},\n",
    "              {\"role\":\"user\", \"content\":q}\n",
    "             ], format=\"json\")\n",
    "\n",
    "llm_res[\"message\"][\"content\"]"
   ],
   "outputs": [
    {
     "data": {
      "text/plain": [
       "'{\"name\":\"tool_browser\", \"parameters\": {\"q\":\"September 9, 2024 death\"}}'"
      ]
     },
     "execution_count": 81,
     "metadata": {},
     "output_type": "execute_result"
    }
   ],
   "execution_count": 81
  },
  {
   "cell_type": "code",
   "id": "b97d4e7f-4d9a-439c-a508-9c40cc44a3f3",
   "metadata": {
    "ExecuteTime": {
     "end_time": "2025-01-09T18:04:40.190685Z",
     "start_time": "2025-01-09T18:04:40.173735Z"
    }
   },
   "source": [
    "import json\n",
    "\n",
    "tool_input = json.loads(llm_res[\"message\"][\"content\"])[\"parameters\"][\"q\"]\n",
    "tool_input"
   ],
   "outputs": [
    {
     "data": {
      "text/plain": [
       "'September 9, 2024 death'"
      ]
     },
     "execution_count": 82,
     "metadata": {},
     "output_type": "execute_result"
    }
   ],
   "execution_count": 82
  },
  {
   "cell_type": "code",
   "id": "b37eb027-6fe8-448c-8094-570679c89fa8",
   "metadata": {
    "ExecuteTime": {
     "end_time": "2025-01-09T18:04:43.734691Z",
     "start_time": "2025-01-09T18:04:40.284028Z"
    }
   },
   "source": [
    "# LLM with context\n",
    "context = tool_browser(tool_input)\n",
    "print(\"tool output:\\n\", context)\n",
    "\n",
    "llm_output = ollama.chat(\n",
    "    model=llm,\n",
    "    messages=[{\"role\":\"system\", \"content\":\"Give the most accurate answer using the folling information:\\n\"+context + \n",
    "               \"\\nIf there are more than one items in your answer format them as JSON list: [{answer1},{answer2},{answer3},...]\\n\"},\n",
    "              {\"role\":\"user\", \"content\":q}\n",
    "             ])\n",
    "\n",
    "print(\"\\nllm output:\\n\", llm_output[\"message\"][\"content\"])"
   ],
   "outputs": [
    {
     "name": "stderr",
     "output_type": "stream",
     "text": [
      "D:\\CourseIAGenAI\\git\\iagenai\\fmi-2024-05-nlp-agents-intro\\.venv\\Lib\\site-packages\\langchain_community\\utilities\\duckduckgo_search.py:64: UserWarning: backend='api' is deprecated, using backend='auto'\n",
      "  ddgs_gen = ddgs.text(\n"
     ]
    },
    {
     "name": "stdout",
     "output_type": "stream",
     "text": [
      "tool output:\n",
      " What happened on September 9, 2024. Browse historical events, famous birthdays and notable deaths from Sep 9, 2024 or search by date, day or keyword. Sep 9 Cecília Gáspár, Hungarian soccer midfielder and captain (28 caps; TSV Crailsheim, SGS Essen), dies at 39 James Earl Jones (1931-2024) Sep 9 American Tony, Emmy, Grammy, and Golden Globe winning actor (The Great White Hope; Star Wars - \"voice of Darth Vader\"; Field Of Dreams\"), dies at 93 [1] [2] [3] The following is a list of notable deaths in September 2024. Entries for each day are listed alphabetically by surname. A typical entry lists information in the following sequence: ... [9] Norman Chui, 73, Hong Kong actor (Vengeful Beauty, Heaven Sword and Dragon Sabre, Hong Kong Godfather), esophageal cancer. Read on to remember the life and work of the celebrities who have died in 2024, including Beverly Hills, 90210 star Shannen Doherty, ... died on Monday Sept. 9 at 93. The actor, ... Born Jan. 17, 1931 | Died Sept. 9, 2024 James Earl Jones debuted in the movie \"Dr. Strangelove\" in 1964, and went on to appear in \"Coming To America\" in 1988, and \"Field of Dreams\" in 1989. Jones ...\n",
      "\n",
      "llm output:\n",
      " [{\"name\": \"James Earl Jones\", \"age\": 93, \"cause of death\": Not specified}, {\"name\": \"Cecília Gáspár\", \"age\": 39, \"cause of death\": Not specified}, {\"name\": \"Norman Chui\", \"age\": 73, \"cause of death\": Esophageal cancer}]\n"
     ]
    }
   ],
   "execution_count": 83
  },
  {
   "cell_type": "markdown",
   "id": "abc0ff2b-28cf-43f2-beda-cd620c4f534a",
   "metadata": {
    "jp-MarkdownHeadingCollapsed": true
   },
   "source": [
    "### 3 - Agent Structure"
   ]
  },
  {
   "cell_type": "markdown",
   "id": "46a2a13d-72eb-4fcb-a925-2326aed74869",
   "metadata": {},
   "source": [
    "##### Data Structure"
   ]
  },
  {
   "cell_type": "code",
   "id": "fe47f093-1152-46a9-98c1-6bf60a725603",
   "metadata": {
    "ExecuteTime": {
     "end_time": "2025-01-09T18:04:43.761724Z",
     "start_time": "2025-01-09T18:04:43.748840Z"
    }
   },
   "source": [
    "from pydantic import BaseModel #this is the standard class\n",
    "\n",
    "# Taking for example the last LLM response, I want this structure:\n",
    "# {tool_name: 'tool_browser', \n",
    "#  tool_input: {'q':'September 9 2024 deaths'}, \n",
    "#  tool_output: str( tool_browser({'q':'September 9 2024 deaths'})) }\n",
    "\n",
    "class AgentRes(BaseModel):\n",
    "    tool_name: str  #<--must be a string = 'tool_browser'\n",
    "    tool_input: dict #<--must be a dictionary = {'q':'September 9 2024 deaths'}\n",
    "    tool_output: str | None = None #can be a string or None, default = None\n",
    "    \n",
    "    @classmethod\n",
    "    def from_llm(cls, res:dict): #<--return the class itself\n",
    "        try:\n",
    "            out = json.loads(res[\"message\"][\"content\"])\n",
    "            return cls(tool_name=out[\"name\"], tool_input=out[\"parameters\"])\n",
    "        except Exception as e:\n",
    "            print(f\"Error from Ollama:\\n{res}\\n\")\n",
    "            raise e\n",
    "\n",
    "# test\n",
    "agent_res = AgentRes.from_llm(llm_res)\n",
    "print(\"from\\n\", llm_res[\"message\"][\"content\"], \"\\nto\")\n",
    "agent_res"
   ],
   "outputs": [
    {
     "name": "stdout",
     "output_type": "stream",
     "text": [
      "from\n",
      " {\"name\":\"tool_browser\", \"parameters\": {\"q\":\"September 9, 2024 death\"}} \n",
      "to\n"
     ]
    },
    {
     "data": {
      "text/plain": [
       "AgentRes(tool_name='tool_browser', tool_input={'q': 'September 9, 2024 death'}, tool_output=None)"
      ]
     },
     "execution_count": 84,
     "metadata": {},
     "output_type": "execute_result"
    }
   ],
   "execution_count": 84
  },
  {
   "cell_type": "code",
   "id": "cb5339f4-4a1e-454b-b764-a2e0346e3ef4",
   "metadata": {
    "ExecuteTime": {
     "end_time": "2025-01-09T18:04:44.619415Z",
     "start_time": "2025-01-09T18:04:43.817859Z"
    }
   },
   "source": [
    "# test the tool output\n",
    "AgentRes(tool_name=\"tool_browser\", \n",
    "         tool_input={'q':'September 9 2024 deaths'}, \n",
    "         tool_output=str( tool_browser({'q':'September 9 2024 deaths'})) )"
   ],
   "outputs": [
    {
     "name": "stderr",
     "output_type": "stream",
     "text": [
      "D:\\CourseIAGenAI\\git\\iagenai\\fmi-2024-05-nlp-agents-intro\\.venv\\Lib\\site-packages\\langchain_community\\utilities\\duckduckgo_search.py:64: UserWarning: backend='api' is deprecated, using backend='auto'\n",
      "  ddgs_gen = ddgs.text(\n"
     ]
    },
    {
     "data": {
      "text/plain": [
       "AgentRes(tool_name='tool_browser', tool_input={'q': 'September 9 2024 deaths'}, tool_output='Famous deaths in September 2024. Learn about 53 historical figures, notable people and celebrities who died in Sep 2024 like Pete Rose, James Earl Jones and Alberto Fujimori. ... (1931-2024) Sep 9 American Tony, Emmy, Grammy, and Golden Globe winning actor (The Great White Hope; Star Wars - \"voice of Darth Vader\"; Field Of Dreams\"), ... Famous deaths for the 9th of September. See which celebrities, historical figures, scientists and criminals died throughout history on September 9. Menu. Channels On This Day. Calendar; ... 2024 Carroll Dawson, American basketball coach (Baylor University 1973-77) and executive (GM Houston Rockets 1996-2006), dies at 86; What happened on September 9, 2024. Browse historical events, famous birthdays and notable deaths from Sep 9, 2024 or search by date, day or keyword. The following is a list of notable deaths in September 2024. Entries for each day are listed alphabetically by surname. A typical entry lists information in the following sequence: Name, age, country of citizenship at birth, subsequent country of citizenship (if applicable), reason for notability, cause of death (if known), and reference. September 2024 1 Abel Alonso, 89, Spanish-Chilean ... Search in the United States of people who died on September 9, 2024 obituaries and condolences. Find an obituary, get service details, leave condolence messages or send flowers or gifts in memory of a loved one.')"
      ]
     },
     "execution_count": 85,
     "metadata": {},
     "output_type": "execute_result"
    }
   ],
   "execution_count": 85
  },
  {
   "cell_type": "markdown",
   "id": "f89d37c6-a49f-47e4-9e83-89e0a1e7b111",
   "metadata": {},
   "source": [
    "##### Memory System"
   ]
  },
  {
   "cell_type": "code",
   "id": "05a313a5-eab2-4bfc-a96d-7fd0cd0cd870",
   "metadata": {
    "ExecuteTime": {
     "end_time": "2025-01-09T18:04:44.689537Z",
     "start_time": "2025-01-09T18:04:44.680226Z"
    }
   },
   "source": [
    "'''\n",
    "Messages in Memory will have this structure:\n",
    "[{'role':'assistant', 'content':'{\"name\":\"final_answer\", \"parameters\":{\"text\":\"How can I assist you today?\"}}'},\n",
    " {'role':'user', 'content':None}]\n",
    "'''\n",
    "\n",
    "def save_memory(lst_res:list[AgentRes], user_q:str) -> list:\n",
    "    ## create\n",
    "    memory = []\n",
    "    for res in [res for res in lst_res if res.tool_output is not None]:\n",
    "        memory.extend([\n",
    "            ### assistant message\n",
    "            {\"role\":\"assistant\", \"content\":json.dumps({\"name\":res.tool_name, \"parameters\":res.tool_input})},\n",
    "            ### user message\n",
    "            {\"role\":\"user\", \"content\":res.tool_output}\n",
    "        ])\n",
    "    \n",
    "    ## add a reminder of the original goal\n",
    "    if memory:\n",
    "        memory += [{\"role\":\"user\", \"content\":(f'''\n",
    "                This is just a reminder that my original query was `{user_q}`.'''+\n",
    "                '''Only answer to the original query, and nothing else, but use the information I gave you. \n",
    "                If there are more than one items in your answer format them as JSON list: [{answer1},{answer2},{answer3},...{answerN}] when you use the `final_answer` tool.\n",
    "                ''')}]\n",
    "    return memory\n",
    "\n",
    "# test\n",
    "save_memory(lst_res=[agent_res], user_q=q)"
   ],
   "outputs": [
    {
     "data": {
      "text/plain": [
       "[]"
      ]
     },
     "execution_count": 86,
     "metadata": {},
     "output_type": "execute_result"
    }
   ],
   "execution_count": 86
  },
  {
   "cell_type": "code",
   "id": "8587b83a-c1aa-4b78-a23a-ba1db31571b6",
   "metadata": {
    "ExecuteTime": {
     "end_time": "2025-01-09T18:04:44.729939Z",
     "start_time": "2025-01-09T18:04:44.712108Z"
    }
   },
   "source": [
    "chat_history = [{\"role\": \"user\", \"content\": \"hi there, how are you?\"},\n",
    "                {\"role\": \"assistant\", \"content\": \"I'm good, thanks!\"},\n",
    "                {\"role\": \"user\", \"content\": \"I have a question\"},\n",
    "                {\"role\": \"assistant\", \"content\": \"tell me\"}]"
   ],
   "outputs": [],
   "execution_count": 87
  },
  {
   "cell_type": "code",
   "id": "623dcfac-fde3-41a2-bc74-9aa47d1d1b51",
   "metadata": {
    "ExecuteTime": {
     "end_time": "2025-01-09T18:04:46.071704Z",
     "start_time": "2025-01-09T18:04:44.781040Z"
    }
   },
   "source": [
    "def run_agent(prompt:str, dic_tools:dict, user_q:str, chat_history:list[dict], lst_res:list[AgentRes]) -> AgentRes:\n",
    "    ## start memory\n",
    "    memory = save_memory(lst_res=lst_res, user_q=user_q)\n",
    "    \n",
    "    ## track used tools\n",
    "    if memory:\n",
    "        tools_used = [res.tool_name for res in lst_res]\n",
    "        if len(tools_used) >= len(dic_tools.keys()):\n",
    "            memory[-1][\"content\"] = \"You must now use the `final_answer` tool.\"\n",
    "\n",
    "    ## prompt tools\n",
    "    str_tools = \"\\n\".join([str(n+1)+\". `\"+str(v.name)+\"`: \"+str(v.description) for n,v in enumerate(dic_tools.values())])\n",
    "    prompt_tools = f\"You can use the following tools:\\n{str_tools}\"\n",
    "        \n",
    "    ## messages\n",
    "    messages = [{\"role\":\"system\", \"content\":prompt+\"\\n\"+prompt_tools},\n",
    "                *chat_history,\n",
    "                {\"role\":\"user\", \"content\":user_q},\n",
    "                *memory]\n",
    "    # pprint(messages) #<--print to see prompt + tools + chat_history\n",
    "    \n",
    "    ## output\n",
    "    llm_res = ollama.chat(model=llm, messages=messages, format=\"json\")\n",
    "    return AgentRes.from_llm(llm_res)\n",
    "\n",
    "# test\n",
    "agent_res = run_agent(prompt=prompt, dic_tools=dic_tools, user_q=q, chat_history=chat_history, lst_res=[])\n",
    "print(\"\\nagent_res:\", agent_res)"
   ],
   "outputs": [
    {
     "name": "stdout",
     "output_type": "stream",
     "text": [
      "\n",
      "agent_res: tool_name='tool_browser' tool_input={'q': 'September 9 2024 death reported'} tool_output=None\n"
     ]
    }
   ],
   "execution_count": 88
  },
  {
   "metadata": {},
   "cell_type": "markdown",
   "source": "##### Run the Agent",
   "id": "22fc2702-61d5-4ed5-b958-8d0c29645c18"
  },
  {
   "cell_type": "markdown",
   "id": "d9ab77b7-8380-4b4c-9914-c34c0404798f",
   "metadata": {
    "jp-MarkdownHeadingCollapsed": true
   },
   "source": [
    "### 4 - Graph Workflow"
   ]
  },
  {
   "cell_type": "markdown",
   "id": "79e9aad9-b664-4cc1-8085-26364bf041a1",
   "metadata": {},
   "source": [
    "##### State"
   ]
  },
  {
   "cell_type": "code",
   "id": "fd64eaa3-6bc7-41e0-86a3-6061ba24b468",
   "metadata": {
    "ExecuteTime": {
     "end_time": "2025-01-09T18:04:46.153131Z",
     "start_time": "2025-01-09T18:04:46.146437Z"
    }
   },
   "source": [
    "import typing\n",
    "\n",
    "class State(typing.TypedDict):\n",
    "    user_q: str\n",
    "    chat_history: list \n",
    "    lst_res: list[AgentRes]\n",
    "    output: dict\n",
    "\n",
    "# test\n",
    "state = State({\"user_q\":q, \"chat_history\":chat_history, \"lst_res\":[agent_res], \"output\":{}})\n",
    "state"
   ],
   "outputs": [
    {
     "data": {
      "text/plain": [
       "{'user_q': 'who died on September 9, 2024?',\n",
       " 'chat_history': [{'role': 'user', 'content': 'hi there, how are you?'},\n",
       "  {'role': 'assistant', 'content': \"I'm good, thanks!\"},\n",
       "  {'role': 'user', 'content': 'I have a question'},\n",
       "  {'role': 'assistant', 'content': 'tell me'}],\n",
       " 'lst_res': [AgentRes(tool_name='tool_browser', tool_input={'q': 'September 9 2024 death reported'}, tool_output=None)],\n",
       " 'output': {}}"
      ]
     },
     "execution_count": 89,
     "metadata": {},
     "output_type": "execute_result"
    }
   ],
   "execution_count": 89
  },
  {
   "cell_type": "markdown",
   "id": "8d0581b8-ca39-4e08-b279-f69b9fdedb2c",
   "metadata": {},
   "source": [
    "##### Nodes"
   ]
  },
  {
   "cell_type": "code",
   "id": "982a35b4-2523-44b7-99e8-8537a19ce0f5",
   "metadata": {
    "ExecuteTime": {
     "end_time": "2025-01-09T18:04:46.824796Z",
     "start_time": "2025-01-09T18:04:46.199833Z"
    }
   },
   "source": [
    "# Agent\n",
    "def node_agent(state):\n",
    "    print(\"--- node_agent ---\")\n",
    "    agent_res = run_agent(prompt=prompt, \n",
    "                          dic_tools={k:v for k,v in dic_tools.items() if k in [\"tool_browser\",\"final_answer\"]},\n",
    "                          user_q=state[\"user_q\"], \n",
    "                          chat_history=state[\"chat_history\"], \n",
    "                          lst_res=state[\"lst_res\"])\n",
    "    print(agent_res)\n",
    "    return {\"lst_res\":[agent_res]} #<--must return a list of agent_res\n",
    "\n",
    "# test\n",
    "node_agent(state)"
   ],
   "outputs": [
    {
     "name": "stdout",
     "output_type": "stream",
     "text": [
      "--- node_agent ---\n",
      "tool_name='tool_browser' tool_input={'q': 'September 9 2024 death'} tool_output=None\n"
     ]
    },
    {
     "data": {
      "text/plain": [
       "{'lst_res': [AgentRes(tool_name='tool_browser', tool_input={'q': 'September 9 2024 death'}, tool_output=None)]}"
      ]
     },
     "execution_count": 90,
     "metadata": {},
     "output_type": "execute_result"
    }
   ],
   "execution_count": 90
  },
  {
   "cell_type": "code",
   "id": "7d66fa3e-7de0-4ea7-90e7-26665cb9b3df",
   "metadata": {
    "ExecuteTime": {
     "end_time": "2025-01-09T18:04:47.798008Z",
     "start_time": "2025-01-09T18:04:46.907038Z"
    }
   },
   "source": [
    "# Tools\n",
    "def node_tool(state):\n",
    "    print(\"--- node_tool ---\")\n",
    "    res = state[\"lst_res\"][-1]\n",
    "    agent_res = AgentRes(tool_name=res.tool_name, \n",
    "                         tool_input=res.tool_input, \n",
    "                         tool_output=str(dic_tools[res.tool_name](res.tool_input)) )\n",
    "    print(f\"{res.tool_name}(input={res.tool_input}, output={agent_res.tool_output})\")\n",
    "    return {\"output\":agent_res} if res.tool_name == \"final_answer\" else {\"lst_res\":[agent_res]}\n",
    "\n",
    "# test\n",
    "node_tool(state)"
   ],
   "outputs": [
    {
     "name": "stdout",
     "output_type": "stream",
     "text": [
      "--- node_tool ---\n"
     ]
    },
    {
     "name": "stderr",
     "output_type": "stream",
     "text": [
      "D:\\CourseIAGenAI\\git\\iagenai\\fmi-2024-05-nlp-agents-intro\\.venv\\Lib\\site-packages\\langchain_community\\utilities\\duckduckgo_search.py:64: UserWarning: backend='api' is deprecated, using backend='auto'\n",
      "  ddgs_gen = ddgs.text(\n"
     ]
    },
    {
     "name": "stdout",
     "output_type": "stream",
     "text": [
      "tool_browser(input={'q': 'September 9 2024 death reported'}, output=September 9, 2024. 21-year old Zachary Bourassa, who was a goaltender playing in a Dek Hockey Tournament at Martin-Bergeron park near Centre Sportif Alphonse-Desjardins in Trois-Rivieres [Quebec]. According to recent reports, Bourassa went into cardiac arrest, which ultimately resulted in him sadly passing away. This was later confirmed by his ... Search in the United States of people who died on September 9, 2024 obituaries and condolences. Find an obituary, get service details, leave condolence messages or send flowers or gifts in memory of a loved one. ... Search obituaries and death notices from , brought to you by Echovita.com. Discover detailed obituaries, access complete funeral ... Famous deaths in September 2024. Learn about 53 historical figures, notable people and celebrities who died in Sep 2024 like Pete Rose, James Earl Jones and Alberto Fujimori. ... (1931-2024) Sep 9 American Tony, Emmy, Grammy, and Golden Globe winning actor (The Great White Hope; Star Wars - \"voice of Darth Vader\"; Field Of Dreams\"), ... September 9, 2024. Speedway, IN - Toby was born at Riley Children's Hospital on October 17th, 2023 to his parents Evelyn and Dillon Olejnik. ... September 6, 2024. No cause of death reported. Link. Alvin Blevins, infant. September 8, 2024. Savannah, Georgia - Adams announces the passing of Infant Baby Alvin who transitioned on Sunday, August ... What happened on September 9, 2024. Browse historical events, famous birthdays and notable deaths from Sep 9, 2024 or search by date, day or keyword.)\n"
     ]
    },
    {
     "data": {
      "text/plain": [
       "{'lst_res': [AgentRes(tool_name='tool_browser', tool_input={'q': 'September 9 2024 death reported'}, tool_output='September 9, 2024. 21-year old Zachary Bourassa, who was a goaltender playing in a Dek Hockey Tournament at Martin-Bergeron park near Centre Sportif Alphonse-Desjardins in Trois-Rivieres [Quebec]. According to recent reports, Bourassa went into cardiac arrest, which ultimately resulted in him sadly passing away. This was later confirmed by his ... Search in the United States of people who died on September 9, 2024 obituaries and condolences. Find an obituary, get service details, leave condolence messages or send flowers or gifts in memory of a loved one. ... Search obituaries and death notices from , brought to you by Echovita.com. Discover detailed obituaries, access complete funeral ... Famous deaths in September 2024. Learn about 53 historical figures, notable people and celebrities who died in Sep 2024 like Pete Rose, James Earl Jones and Alberto Fujimori. ... (1931-2024) Sep 9 American Tony, Emmy, Grammy, and Golden Globe winning actor (The Great White Hope; Star Wars - \"voice of Darth Vader\"; Field Of Dreams\"), ... September 9, 2024. Speedway, IN - Toby was born at Riley Children\\'s Hospital on October 17th, 2023 to his parents Evelyn and Dillon Olejnik. ... September 6, 2024. No cause of death reported. Link. Alvin Blevins, infant. September 8, 2024. Savannah, Georgia - Adams announces the passing of Infant Baby Alvin who transitioned on Sunday, August ... What happened on September 9, 2024. Browse historical events, famous birthdays and notable deaths from Sep 9, 2024 or search by date, day or keyword.')]}"
      ]
     },
     "execution_count": 91,
     "metadata": {},
     "output_type": "execute_result"
    }
   ],
   "execution_count": 91
  },
  {
   "cell_type": "markdown",
   "id": "f0b55681-db5b-4650-955a-875d1c7da163",
   "metadata": {},
   "source": [
    "##### Edges"
   ]
  },
  {
   "cell_type": "code",
   "id": "fe58b028-e548-430c-a009-608b144aae72",
   "metadata": {
    "ExecuteTime": {
     "end_time": "2025-01-09T18:04:47.844869Z",
     "start_time": "2025-01-09T18:04:47.838731Z"
    }
   },
   "source": [
    "def conditional_edges(state):\n",
    "    print(\"--- conditional_edges ---\")\n",
    "    last_res = state[\"lst_res\"][-1]\n",
    "    next_node = last_res.tool_name if isinstance(state[\"lst_res\"], list) else \"final_answer\"\n",
    "    print(\"next_node:\", next_node)\n",
    "    return next_node #<--must return the next node to go\n",
    "\n",
    "# test\n",
    "conditional_edges(state)"
   ],
   "outputs": [
    {
     "name": "stdout",
     "output_type": "stream",
     "text": [
      "--- conditional_edges ---\n",
      "next_node: tool_browser\n"
     ]
    },
    {
     "data": {
      "text/plain": [
       "'tool_browser'"
      ]
     },
     "execution_count": 92,
     "metadata": {},
     "output_type": "execute_result"
    }
   ],
   "execution_count": 92
  },
  {
   "cell_type": "markdown",
   "id": "6cb86f8a-f7c6-41d5-b314-c07c7b385ba9",
   "metadata": {},
   "source": [
    "##### Graph"
   ]
  },
  {
   "cell_type": "code",
   "id": "3559fc30-33ce-466a-88be-ebe85985084b",
   "metadata": {
    "ExecuteTime": {
     "end_time": "2025-01-09T18:04:47.966259Z",
     "start_time": "2025-01-09T18:04:47.948924Z"
    }
   },
   "source": [
    "from langgraph.graph import StateGraph, END\n",
    "\n",
    "## start the graph\n",
    "workflow = StateGraph(State)\n",
    "\n",
    "## add Agent node\n",
    "workflow.add_node(node=\"Agent\", action=node_agent) \n",
    "workflow.set_entry_point(key=\"Agent\")  #<--user query\n",
    "\n",
    "## add Tools nodes\n",
    "for k in dic_tools.keys():\n",
    "    workflow.add_node(node=k, action=node_tool)\n",
    "\n",
    "## conditional_edges from Agent\n",
    "workflow.add_conditional_edges(source=\"Agent\", path=conditional_edges)\n",
    "\n",
    "## normal_edges to Agent\n",
    "for k in dic_tools.keys():\n",
    "    if k != \"final_answer\":\n",
    "        workflow.add_edge(start_key=k, end_key=\"Agent\")\n",
    "\n",
    "## end the graph\n",
    "workflow.add_edge(start_key=\"final_answer\", end_key=END)\n",
    "g = workflow.compile()"
   ],
   "outputs": [],
   "execution_count": 93
  },
  {
   "cell_type": "code",
   "id": "5ccd3876-579f-463c-8a8f-29baea3c5574",
   "metadata": {
    "ExecuteTime": {
     "end_time": "2025-01-09T18:04:48.146916Z",
     "start_time": "2025-01-09T18:04:48.050700Z"
    }
   },
   "source": [
    "from IPython.display import Image, display\n",
    "from langchain_core.runnables.graph import MermaidDrawMethod\n",
    "\n",
    "display(Image(\n",
    "    g.get_graph().draw_mermaid_png(draw_method=MermaidDrawMethod.API)\n",
    "))"
   ],
   "outputs": [
    {
     "data": {
      "image/png": "[encoded data removed]",
      "text/plain": [
       "<IPython.core.display.Image object>"
      ]
     },
     "metadata": {},
     "output_type": "display_data"
    }
   ],
   "execution_count": 94
  },
  {
   "cell_type": "markdown",
   "id": "1daf810a-4da2-46a3-91b5-87693c58c658",
   "metadata": {},
   "source": [
    "##### Run"
   ]
  },
  {
   "cell_type": "code",
   "id": "20367e09-9a6a-4005-96dd-d1064376efd8",
   "metadata": {
    "ExecuteTime": {
     "end_time": "2025-01-09T18:04:48.176191Z",
     "start_time": "2025-01-09T18:04:48.172758Z"
    }
   },
   "source": [
    "## input initial state\n",
    "initial_state = {'user_q':q,\n",
    "                 'chat_history':chat_history, \n",
    "                 'lst_res':[],\n",
    "                 'output':{} }"
   ],
   "outputs": [],
   "execution_count": 95
  },
  {
   "cell_type": "code",
   "id": "b38fc540-3b6f-44bf-aa08-652ae56ddeb1",
   "metadata": {
    "ExecuteTime": {
     "end_time": "2025-01-09T18:04:52.669827Z",
     "start_time": "2025-01-09T18:04:48.218847Z"
    }
   },
   "source": [
    "out = g.invoke(input=initial_state)\n",
    "agent_out = out['output'].tool_output\n",
    "\n",
    "print(\"----\")\n",
    "agent_out"
   ],
   "outputs": [
    {
     "name": "stdout",
     "output_type": "stream",
     "text": [
      "--- node_agent ---\n",
      "tool_name='tool_browser' tool_input={'q': 'September 9 2024 death news'} tool_output=None\n",
      "--- conditional_edges ---\n",
      "next_node: tool_browser\n",
      "--- node_tool ---\n"
     ]
    },
    {
     "name": "stderr",
     "output_type": "stream",
     "text": [
      "D:\\CourseIAGenAI\\git\\iagenai\\fmi-2024-05-nlp-agents-intro\\.venv\\Lib\\site-packages\\langchain_community\\utilities\\duckduckgo_search.py:64: UserWarning: backend='api' is deprecated, using backend='auto'\n",
      "  ddgs_gen = ddgs.text(\n"
     ]
    },
    {
     "name": "stdout",
     "output_type": "stream",
     "text": [
      "tool_browser(input={'q': 'September 9 2024 death news'}, output=Sep 9 Cecília Gáspár, Hungarian soccer midfielder and captain (28 caps; TSV Crailsheim, SGS Essen), dies at 39 James Earl Jones (1931-2024) Sep 9 American Tony, Emmy, Grammy, and Golden Globe winning actor (The Great White Hope; Star Wars - \"voice of Darth Vader\"; Field Of Dreams\"), dies at 93 [1] [2] [3] What happened on September 9, 2024. Browse historical events, famous birthdays and notable deaths from Sep 9, 2024 or search by date, day or keyword. Menu. Channels On This Day. Calendar; ... Died in 2024 2024 Highlights. About September 9, 2024. Day of the Week: Monday How Long Ago? 3 months and 27 days Leap Year: Yes. Generation: Generation Alpha James Earl Jones, legendary actor who was the voice of Darth Vader and Mufasa, died September 9, 2024 at his home in Dutchess County, New York at the age of 93. Search in the United States of people who died on September 9, 2024 obituaries and condolences. Find an obituary, get service details, leave condolence messages or send flowers or gifts in memory of a loved one. Published September 9, 2024 6:41PM (EDT) James Earl Jones accepts the Special Tony Award for Lifetime Achievement in the Theatre onstage during the 2017 Tony Awards at Radio City Music Hall on ...)\n",
      "--- node_agent ---\n",
      "tool_name='final_answer' tool_input={'text': 'On September 9, 2024, two notable individuals passed away: Cecília Gáspár, a Hungarian soccer midfielder and captain, at the age of 39, and James Earl Jones, an American actor who was the voice of Darth Vader and Mufasa, at the age of 93.'} tool_output=None\n",
      "--- conditional_edges ---\n",
      "next_node: final_answer\n",
      "--- node_tool ---\n",
      "final_answer(input={'text': 'On September 9, 2024, two notable individuals passed away: Cecília Gáspár, a Hungarian soccer midfielder and captain, at the age of 39, and James Earl Jones, an American actor who was the voice of Darth Vader and Mufasa, at the age of 93.'}, output=On September 9, 2024, two notable individuals passed away: Cecília Gáspár, a Hungarian soccer midfielder and captain, at the age of 39, and James Earl Jones, an American actor who was the voice of Darth Vader and Mufasa, at the age of 93.)\n",
      "----\n"
     ]
    },
    {
     "data": {
      "text/plain": [
       "'On September 9, 2024, two notable individuals passed away: Cecília Gáspár, a Hungarian soccer midfielder and captain, at the age of 39, and James Earl Jones, an American actor who was the voice of Darth Vader and Mufasa, at the age of 93.'"
      ]
     },
     "execution_count": 96,
     "metadata": {},
     "output_type": "execute_result"
    }
   ],
   "execution_count": 96
  },
  {
   "cell_type": "code",
   "id": "8dd7ff20-c631-4848-ab01-ab316b7fe555",
   "metadata": {
    "ExecuteTime": {
     "end_time": "2025-01-09T18:04:59.499078Z",
     "start_time": "2025-01-09T18:04:52.782356Z"
    }
   },
   "source": [
    "steps = g.stream(input=initial_state) \n",
    "for n,step in enumerate(steps):\n",
    "    print(\"--- step\", n, \"---\")\n",
    "    print(step)"
   ],
   "outputs": [
    {
     "name": "stdout",
     "output_type": "stream",
     "text": [
      "--- node_agent ---\n",
      "tool_name='tool_browser' tool_input={'q': 'September 9 2024 death date'} tool_output=None\n",
      "--- conditional_edges ---\n",
      "next_node: tool_browser\n",
      "--- step 0 ---\n",
      "{'Agent': {'lst_res': [AgentRes(tool_name='tool_browser', tool_input={'q': 'September 9 2024 death date'}, tool_output=None)]}}\n",
      "--- node_tool ---\n"
     ]
    },
    {
     "name": "stderr",
     "output_type": "stream",
     "text": [
      "D:\\CourseIAGenAI\\git\\iagenai\\fmi-2024-05-nlp-agents-intro\\.venv\\Lib\\site-packages\\langchain_community\\utilities\\duckduckgo_search.py:64: UserWarning: backend='api' is deprecated, using backend='auto'\n",
      "  ddgs_gen = ddgs.text(\n"
     ]
    },
    {
     "name": "stdout",
     "output_type": "stream",
     "text": [
      "tool_browser(input={'q': 'September 9 2024 death date'}, output=Famous deaths in September 2024. Learn about 53 historical figures, notable people and celebrities who died in Sep 2024 like Pete Rose, James Earl Jones and Alberto Fujimori. ... (1931-2024) Sep 9 American Tony, Emmy, Grammy, and Golden Globe winning actor ... Famous People by Cause of Death. Assassination; Car Crash; Hanging; Killed in Action ... What happened on September 9, 2024. Browse historical events, famous birthdays and notable deaths from Sep 9, 2024 or search by date, day or keyword. The following is a list of notable deaths in September 2024. Entries for each day are listed alphabetically by surname. A typical entry lists information in the following sequence: ... [645] (death announced on this date) Jacobo Bucaram, 77, Ecuadorian agronomic engineer and politician, deputy (1988-1994, 1996-1998). Search in the United States of people who died on September 9, 2024 obituaries and condolences. Find an obituary, get service details, leave condolence messages or send flowers or gifts in memory of a loved one. ... Search obituaries and death notices from , brought to you by Echovita.com. Discover detailed obituaries, access complete funeral ... See which celebrities, historical figures, scientists and criminals died throughout history on September 9. Menu. Channels On This Day. Calendar; Search; September 9. Events; Birthdays; ... (signed death warrant of King Charles I), dies imprisoned at Chepstow Castle at about 78; 1683 ... 2024 Cecília Gáspár, Hungarian soccer midfielder and ...)\n",
      "--- step 1 ---\n",
      "{'tool_browser': {'lst_res': [AgentRes(tool_name='tool_browser', tool_input={'q': 'September 9 2024 death date'}, tool_output='Famous deaths in September 2024. Learn about 53 historical figures, notable people and celebrities who died in Sep 2024 like Pete Rose, James Earl Jones and Alberto Fujimori. ... (1931-2024) Sep 9 American Tony, Emmy, Grammy, and Golden Globe winning actor ... Famous People by Cause of Death. Assassination; Car Crash; Hanging; Killed in Action ... What happened on September 9, 2024. Browse historical events, famous birthdays and notable deaths from Sep 9, 2024 or search by date, day or keyword. The following is a list of notable deaths in September 2024. Entries for each day are listed alphabetically by surname. A typical entry lists information in the following sequence: ... [645] (death announced on this date) Jacobo Bucaram, 77, Ecuadorian agronomic engineer and politician, deputy (1988-1994, 1996-1998). Search in the United States of people who died on September 9, 2024 obituaries and condolences. Find an obituary, get service details, leave condolence messages or send flowers or gifts in memory of a loved one. ... Search obituaries and death notices from , brought to you by Echovita.com. Discover detailed obituaries, access complete funeral ... See which celebrities, historical figures, scientists and criminals died throughout history on September 9. Menu. Channels On This Day. Calendar; Search; September 9. Events; Birthdays; ... (signed death warrant of King Charles I), dies imprisoned at Chepstow Castle at about 78; 1683 ... 2024 Cecília Gáspár, Hungarian soccer midfielder and ...')]}}\n",
      "--- node_agent ---\n",
      "tool_name='final_answer' tool_input={'text': \"According to various sources, including Echovita.com and other online obituary platforms, there are multiple individuals who have died on September 9, 2024. Some of them include:\\n\\n1. (1931-2024) American Tony, Emmy, Grammy, and Golden Globe winning actor, Pete Rose's passing was not confirmed, however, James Earl Jones and Alberto Fujimori were found to have passed away in the same time frame.\\n2. Jacobo Bucaram, 77, Ecuadorian agronomic engineer and politician, deputy (1988-1994, 1996-1998).\"} tool_output=None\n",
      "--- conditional_edges ---\n",
      "next_node: final_answer\n",
      "--- step 2 ---\n",
      "{'Agent': {'lst_res': [AgentRes(tool_name='final_answer', tool_input={'text': \"According to various sources, including Echovita.com and other online obituary platforms, there are multiple individuals who have died on September 9, 2024. Some of them include:\\n\\n1. (1931-2024) American Tony, Emmy, Grammy, and Golden Globe winning actor, Pete Rose's passing was not confirmed, however, James Earl Jones and Alberto Fujimori were found to have passed away in the same time frame.\\n2. Jacobo Bucaram, 77, Ecuadorian agronomic engineer and politician, deputy (1988-1994, 1996-1998).\"}, tool_output=None)]}}\n",
      "--- node_tool ---\n",
      "final_answer(input={'text': \"According to various sources, including Echovita.com and other online obituary platforms, there are multiple individuals who have died on September 9, 2024. Some of them include:\\n\\n1. (1931-2024) American Tony, Emmy, Grammy, and Golden Globe winning actor, Pete Rose's passing was not confirmed, however, James Earl Jones and Alberto Fujimori were found to have passed away in the same time frame.\\n2. Jacobo Bucaram, 77, Ecuadorian agronomic engineer and politician, deputy (1988-1994, 1996-1998).\"}, output=According to various sources, including Echovita.com and other online obituary platforms, there are multiple individuals who have died on September 9, 2024. Some of them include:\n",
      "\n",
      "1. (1931-2024) American Tony, Emmy, Grammy, and Golden Globe winning actor, Pete Rose's passing was not confirmed, however, James Earl Jones and Alberto Fujimori were found to have passed away in the same time frame.\n",
      "2. Jacobo Bucaram, 77, Ecuadorian agronomic engineer and politician, deputy (1988-1994, 1996-1998).)\n",
      "--- step 3 ---\n",
      "{'final_answer': {'output': AgentRes(tool_name='final_answer', tool_input={'text': \"According to various sources, including Echovita.com and other online obituary platforms, there are multiple individuals who have died on September 9, 2024. Some of them include:\\n\\n1. (1931-2024) American Tony, Emmy, Grammy, and Golden Globe winning actor, Pete Rose's passing was not confirmed, however, James Earl Jones and Alberto Fujimori were found to have passed away in the same time frame.\\n2. Jacobo Bucaram, 77, Ecuadorian agronomic engineer and politician, deputy (1988-1994, 1996-1998).\"}, tool_output=\"According to various sources, including Echovita.com and other online obituary platforms, there are multiple individuals who have died on September 9, 2024. Some of them include:\\n\\n1. (1931-2024) American Tony, Emmy, Grammy, and Golden Globe winning actor, Pete Rose's passing was not confirmed, however, James Earl Jones and Alberto Fujimori were found to have passed away in the same time frame.\\n2. Jacobo Bucaram, 77, Ecuadorian agronomic engineer and politician, deputy (1988-1994, 1996-1998).\")}}\n"
     ]
    }
   ],
   "execution_count": 97
  },
  {
   "cell_type": "markdown",
   "id": "b21cb36f-0fb8-4c2c-adf4-d1818cfd8c36",
   "metadata": {
    "jp-MarkdownHeadingCollapsed": true
   },
   "source": [
    "### 5 - Multi-Agent & Human-in-the-Loop"
   ]
  },
  {
   "cell_type": "markdown",
   "id": "4bf46ba7-e343-4639-89cc-adab77ffb0d0",
   "metadata": {},
   "source": [
    "##### Second Agent"
   ]
  },
  {
   "cell_type": "code",
   "id": "a36fd052-bc1c-40f6-9935-b1e1e8554634",
   "metadata": {
    "ExecuteTime": {
     "end_time": "2025-01-09T18:04:59.517517Z",
     "start_time": "2025-01-09T18:04:59.507795Z"
    }
   },
   "source": [
    "agent_out"
   ],
   "outputs": [
    {
     "data": {
      "text/plain": [
       "'On September 9, 2024, two notable individuals passed away: Cecília Gáspár, a Hungarian soccer midfielder and captain, at the age of 39, and James Earl Jones, an American actor who was the voice of Darth Vader and Mufasa, at the age of 93.'"
      ]
     },
     "execution_count": 98,
     "metadata": {},
     "output_type": "execute_result"
    }
   ],
   "execution_count": 98
  },
  {
   "cell_type": "code",
   "id": "e2644f03-f1f6-459d-bc39-6b83399afb3d",
   "metadata": {
    "ExecuteTime": {
     "end_time": "2025-01-09T18:13:04.031512Z",
     "start_time": "2025-01-09T18:13:03.520592Z"
    }
   },
   "source": [
    "from langchain_community.tools import WikipediaQueryRun\n",
    "from langchain_community.utilities import WikipediaAPIWrapper\n",
    "\n",
    "@tool(\"tool_wikipedia\")\n",
    "def tool_wikipedia(q:str) -> str:\n",
    "    \"\"\"Search on Wikipedia by passing the input `q`.\n",
    "       The input `q` must be short keywords, not a long text\"\"\"\n",
    "    return WikipediaQueryRun(api_wrapper=WikipediaAPIWrapper()).run(q)\n",
    "\n",
    "# test\n",
    "print( tool_wikipedia(agent_out) )\n",
    "# print( tool_wikipedia(\"James Earl Jones actor\") )"
   ],
   "outputs": [
    {
     "name": "stdout",
     "output_type": "stream",
     "text": [
      "No good Wikipedia Search Result was found\n"
     ]
    }
   ],
   "execution_count": 109
  },
  {
   "cell_type": "code",
   "id": "403ce9ce-61fd-4107-9d20-c5ce7c2a5465",
   "metadata": {
    "ExecuteTime": {
     "end_time": "2025-01-09T18:13:09.427917Z",
     "start_time": "2025-01-09T18:13:09.417902Z"
    }
   },
   "source": [
    "dic_tools = {\"tool_browser\":tool_browser,\n",
    "             \"final_answer\":final_answer,\n",
    "             \"tool_wikipedia\":tool_wikipedia}"
   ],
   "outputs": [],
   "execution_count": 110
  },
  {
   "cell_type": "code",
   "id": "b6c5228b-2e0e-462b-9623-2925e404904f",
   "metadata": {
    "ExecuteTime": {
     "end_time": "2025-01-09T18:05:02.608472Z",
     "start_time": "2025-01-09T18:05:02.604939Z"
    }
   },
   "source": [
    "prompt_2 = \"\"\"\n",
    "Your goal is to use the `tool_wikipedia` ONLY ONCE to enrich the information already available.\n",
    "Note, when using a tool, you provide the tool name and the arguments to use in JSON format. \n",
    "For each call, you MUST ONLY use one tool AND the response format must ALWAYS be in the pattern:\n",
    "```json\n",
    "{\"name\":\"<tool_name>\", \"parameters\": {\"<tool_input_key>\":<tool_input_value>}}\n",
    "```\n",
    "First you must use the `tool_wikipedia`, then elaborate the information to answer the user's question with `final_answer` tool.\n",
    "\"\"\""
   ],
   "outputs": [],
   "execution_count": 101
  },
  {
   "cell_type": "code",
   "id": "5a7d02e3-0643-4f52-904b-ab0d7fdb7bfe",
   "metadata": {
    "ExecuteTime": {
     "end_time": "2025-01-09T18:13:12.105708Z",
     "start_time": "2025-01-09T18:13:12.100378Z"
    }
   },
   "source": [
    "def node_agent_2(state):\n",
    "    print(\"--- node_agent 2 ---\")\n",
    "    agent_res = run_agent(prompt=prompt_2, \n",
    "                          dic_tools={k:v for k,v in dic_tools.items() if k in [\"tool_wikipedia\",\"final_answer\"]},\n",
    "                          user_q=state[\"output\"].tool_output, #<--changed user_q to the last output\n",
    "                          chat_history=state[\"chat_history\"], \n",
    "                          lst_res=state[\"lst_res\"])\n",
    "    print(agent_res)\n",
    "    return {\"lst_res\":[agent_res]} #<--must return the list of agent_res"
   ],
   "outputs": [],
   "execution_count": 111
  },
  {
   "cell_type": "markdown",
   "id": "9db696b2-2531-4c84-8f44-821fdf034d4c",
   "metadata": {},
   "source": [
    "##### Human in the Loop"
   ]
  },
  {
   "cell_type": "code",
   "id": "65ed8e7f-ac50-406c-9f45-fd8e806cdcfe",
   "metadata": {
    "ExecuteTime": {
     "end_time": "2025-01-09T18:13:17.338331Z",
     "start_time": "2025-01-09T18:13:14.805289Z"
    }
   },
   "source": [
    "# Node\n",
    "def human_node(state):\n",
    "    pass\n",
    "\n",
    "# Conditional Edges\n",
    "def human_edges(state):\n",
    "    print(\"--- human ---\")\n",
    "    user_feedback = input(\"Should I continue? [Yes/No] --> \")\n",
    "    next_node = \"Agent2\" if user_feedback.lower()[0] == \"y\" else END\n",
    "    print(\"next_node:\", next_node)\n",
    "    return next_node #<--must return the next node to go\n",
    "\n",
    "# test\n",
    "human_edges(state)"
   ],
   "outputs": [
    {
     "name": "stdout",
     "output_type": "stream",
     "text": [
      "--- human ---\n",
      "next_node: Agent2\n"
     ]
    },
    {
     "data": {
      "text/plain": [
       "'Agent2'"
      ]
     },
     "execution_count": 112,
     "metadata": {},
     "output_type": "execute_result"
    }
   ],
   "execution_count": 112
  },
  {
   "cell_type": "markdown",
   "id": "741831c2-a4b9-403b-98f0-dc95b29d7656",
   "metadata": {},
   "source": [
    "##### New Graph"
   ]
  },
  {
   "cell_type": "code",
   "id": "4fe7b498-4908-44dc-b765-7dbcd52b9eeb",
   "metadata": {
    "ExecuteTime": {
     "end_time": "2025-01-09T18:13:20.929920Z",
     "start_time": "2025-01-09T18:13:20.814345Z"
    }
   },
   "source": [
    "## start the graph\n",
    "workflow = StateGraph(State)\n",
    "\n",
    "########################## Agent 1 ##########################\n",
    "## add Agent node\n",
    "workflow.add_node(node=\"Agent1\", action=node_agent) \n",
    "workflow.set_entry_point(key=\"Agent1\") #<--user query\n",
    "\n",
    "## add Tools nodes\n",
    "workflow.add_node(node=\"tool_browser\", action=node_tool)\n",
    "workflow.add_node(node=\"final_answer\", action=node_tool)\n",
    "\n",
    "## normal_edges to Agent\n",
    "workflow.add_edge(start_key=\"tool_browser\", end_key=\"Agent1\")\n",
    "\n",
    "## conditional_edges from Agent\n",
    "workflow.add_conditional_edges(source=\"Agent1\", path=conditional_edges)\n",
    "\n",
    "########################## Human ##########################\n",
    "## add Human node\n",
    "workflow.add_node(node=\"Human\", action=human_node)\n",
    "\n",
    "## conditional_edges from Human\n",
    "workflow.add_conditional_edges(source=\"final_answer\", path=human_edges)\n",
    "\n",
    "########################## Agent 2 ##########################\n",
    "## add Agent node\n",
    "workflow.add_node(node=\"Agent2\", action=node_agent_2) \n",
    "\n",
    "## add Tools nodes\n",
    "workflow.add_node(node=\"tool_wikipedia\", action=node_tool)\n",
    "\n",
    "## normal_edges to Agent\n",
    "workflow.add_edge(start_key=\"tool_wikipedia\", end_key=\"Agent2\")\n",
    "\n",
    "## conditional_edges from Agent\n",
    "workflow.add_conditional_edges(source=\"Agent2\", path=conditional_edges)\n",
    "\n",
    "########################## End ##########################\n",
    "## end the graph\n",
    "g2 = workflow.compile()\n",
    "\n",
    "## plot\n",
    "display(Image(\n",
    "    g2.get_graph().draw_mermaid_png(draw_method=MermaidDrawMethod.API)\n",
    "))"
   ],
   "outputs": [
    {
     "data": {
      "image/png": "[encoded data removed]",
      "text/plain": [
       "<IPython.core.display.Image object>"
      ]
     },
     "metadata": {},
     "output_type": "display_data"
    }
   ],
   "execution_count": 113
  },
  {
   "cell_type": "code",
   "id": "6fbad9a7-0d34-4029-a0c7-fd3fe6a0dc28",
   "metadata": {
    "ExecuteTime": {
     "end_time": "2025-01-09T18:05:16.768207Z",
     "start_time": "2025-01-09T18:05:16.748309Z"
    }
   },
   "source": [
    "initial_state"
   ],
   "outputs": [
    {
     "data": {
      "text/plain": [
       "{'user_q': 'who died on September 9, 2024?',\n",
       " 'chat_history': [{'role': 'user', 'content': 'hi there, how are you?'},\n",
       "  {'role': 'assistant', 'content': \"I'm good, thanks!\"},\n",
       "  {'role': 'user', 'content': 'I have a question'},\n",
       "  {'role': 'assistant', 'content': 'tell me'}],\n",
       " 'lst_res': [],\n",
       " 'output': {}}"
      ]
     },
     "execution_count": 105,
     "metadata": {},
     "output_type": "execute_result"
    }
   ],
   "execution_count": 105
  },
  {
   "cell_type": "code",
   "id": "fc72cf35-a9ff-4f09-801f-3db39c00536e",
   "metadata": {
    "ExecuteTime": {
     "end_time": "2025-01-09T18:13:59.274691Z",
     "start_time": "2025-01-09T18:13:25.320942Z"
    }
   },
   "source": [
    "out_2 = g2.invoke(input=initial_state)\n",
    "agent_out_2 = out_2['output'].tool_output\n",
    "\n",
    "print(\"----\")\n",
    "agent_out_2"
   ],
   "outputs": [
    {
     "name": "stdout",
     "output_type": "stream",
     "text": [
      "--- node_agent ---\n",
      "tool_name='tool_browser' tool_input={'q': 'September 9 2024 deaths'} tool_output=None\n",
      "--- conditional_edges ---\n",
      "next_node: tool_browser\n",
      "--- node_tool ---\n"
     ]
    },
    {
     "name": "stderr",
     "output_type": "stream",
     "text": [
      "D:\\CourseIAGenAI\\git\\iagenai\\fmi-2024-05-nlp-agents-intro\\.venv\\Lib\\site-packages\\langchain_community\\utilities\\duckduckgo_search.py:64: UserWarning: backend='api' is deprecated, using backend='auto'\n",
      "  ddgs_gen = ddgs.text(\n"
     ]
    },
    {
     "name": "stdout",
     "output_type": "stream",
     "text": [
      "tool_browser(input={'q': 'September 9 2024 deaths'}, output=Famous deaths in September 2024. Learn about 53 historical figures, notable people and celebrities who died in Sep 2024 like Pete Rose, James Earl Jones and Alberto Fujimori. ... (1931-2024) Sep 9 American Tony, Emmy, Grammy, and Golden Globe winning actor (The Great White Hope; Star Wars - \"voice of Darth Vader\"; Field Of Dreams\"), ... What happened on September 9, 2024. Browse historical events, famous birthdays and notable deaths from Sep 9, 2024 or search by date, day or keyword. Famous deaths for the 9th of September. See which celebrities, historical figures, scientists and criminals died throughout history on September 9. Menu. Channels On This Day. Calendar; ... 2024 Carroll Dawson, American basketball coach (Baylor University 1973-77) and executive (GM Houston Rockets 1996-2006), dies at 86; The following is a list of notable deaths in September 2024. Entries for each day are listed alphabetically by surname. A typical entry lists information in the following sequence: ... [9] Norman Chui, 73, Hong Kong actor (Vengeful Beauty, Heaven Sword and Dragon Sabre, Hong Kong Godfather), esophageal cancer. Search in the United States of people who died on September 9, 2024 obituaries and condolences. Find an obituary, get service details, leave condolence messages or send flowers or gifts in memory of a loved one.)\n",
      "--- node_agent ---\n",
      "tool_name='final_answer' tool_input={'text': \"According to various sources, including a website that lists notable deaths in September 2024, Tony Award-winning actor (The Great White Hope; Star Wars - 'voice of Darth Vader'; Field Of Dreams) and others died on September 9, 2024. The list includes Pete Rose, James Earl Jones, Alberto Fujimori, Carroll Dawson (basketball coach), and Norman Chui (Hong Kong actor).\"} tool_output=None\n",
      "--- conditional_edges ---\n",
      "next_node: final_answer\n",
      "--- node_tool ---\n",
      "final_answer(input={'text': \"According to various sources, including a website that lists notable deaths in September 2024, Tony Award-winning actor (The Great White Hope; Star Wars - 'voice of Darth Vader'; Field Of Dreams) and others died on September 9, 2024. The list includes Pete Rose, James Earl Jones, Alberto Fujimori, Carroll Dawson (basketball coach), and Norman Chui (Hong Kong actor).\"}, output=According to various sources, including a website that lists notable deaths in September 2024, Tony Award-winning actor (The Great White Hope; Star Wars - 'voice of Darth Vader'; Field Of Dreams) and others died on September 9, 2024. The list includes Pete Rose, James Earl Jones, Alberto Fujimori, Carroll Dawson (basketball coach), and Norman Chui (Hong Kong actor).)\n",
      "--- human ---\n",
      "next_node: Agent2\n",
      "--- node_agent 2 ---\n",
      "tool_name='tool_wikipedia' tool_input={'q': 'Tony Award-winning actor The Great White Hope Star Wars voice of Darth Vader Field Of Dreams'} tool_output=None\n",
      "--- conditional_edges ---\n",
      "next_node: tool_wikipedia\n",
      "--- node_tool ---\n",
      "tool_wikipedia(input={'q': 'Tony Award-winning actor The Great White Hope Star Wars voice of Darth Vader Field Of Dreams'}, output=Page: James Earl Jones\n",
      "Summary: James Earl Jones (January 17, 1931 – September 9, 2024) was an American actor. A pioneer for black actors in the entertainment industry, he is known for his extensive and acclaimed roles on stage and screen. Jones is one of the few performers to achieve the EGOT (Emmy, Grammy, Oscar, and Tony). He was inducted into the American Theater Hall of Fame in 1985, and was honored with the National Medal of Arts in 1992, the Kennedy Center Honor in 2002, the Screen Actors Guild Life Achievement Award in 2009, and the Academy Honorary Award in 2011.\n",
      "Born in Arkabutla, Mississippi, Jones had a stutter from childhood. He said that poetry and acting helped him overcome the challenges of his disability. A pre-med major in college, he served as an officer in the U.S. Army during the Korean War before pursuing a career in acting. His deep voice was praised as a \"stirring basso profondo that has lent gravel and gravitas\" to his projects. Jones made his Broadway debut in the play Sunrise at Campobello (1957). He then gained prominence for acting in numerous productions with Shakespeare in the Park including Othello, Hamlet, Coriolanus, and King Lear. He worked steadily in theater, winning the Tony Award for Best Actor in a Play for his role as a boxer in The Great White Hope (1968), which he reprised in the 1970 film adaptation, earning him Academy Award and Golden Globe nominations.\n",
      "Jones won his second Tony Award for Best Actor in a Play for his role as a working class father in August Wilson's Fences (1987). He was a Tony Award nominee for his roles as the husband in Ernest Thompson's On Golden Pond (2005) about an aging couple, and as a former president in the Gore Vidal play The Best Man (2012). His other Broadway performances included Cat on a Hot Tin Roof (2008), Driving Miss Daisy (2010–2011), You Can't Take It with You (2014), and The Gin Game (2015–2016). He received a Special Tony Award for Lifetime Achievement in 2017.\n",
      "Jones made his film debut in Stanley Kubrick's Dr. Strangelove (1964). He received a Golden Globe Award nomination for Claudine (1974). He gained international fame for his voice role as Darth Vader in the Star Wars franchise, beginning with the original 1977 film. Jones's other notable films include The Man (1972), Conan the Barbarian (1982), Matewan (1987), Coming to America (1988), Field of Dreams (1989), Best of the Best (1989), The Hunt for Red October (1990), Sneakers (1992), The Sandlot (1993), The Lion King (1994), and Cry, the Beloved Country (1995). On television, he received eight Primetime Emmy Award nominations winning twice for his roles in thriller film Heat Wave (1990) and the crime series Gabriel's Fire (1991). He also acted in Roots (1977), Jesus of Nazareth (1977), Picket Fences (1994), Homicide: Life on the Street (1997), and Everwood (2004).\n",
      "\n",
      "Page: The Empire Strikes Back\n",
      "Summary: The Empire Strikes Back (also known as Star Wars: Episode V – The Empire Strikes Back) is a 1980 American epic space opera film directed by Irvin Kershner from a screenplay by Leigh Brackett and Lawrence Kasdan, based on a story by George Lucas. The sequel to Star Wars (1977), it is the second film in the Star Wars film series and the fifth chronological chapter of the \"Skywalker Saga\". Set three years after the events of Star Wars, the film recounts the battle between the malevolent Galactic Empire, led by the Emperor, and the Rebel Alliance, led by Luke Skywalker and Princess Leia. As the Empire goes on the offensive, Luke trains to master the Force so he can confront the Emperor's powerful disciple, Darth Vader. The ensemble cast includes Mark Hamill, Harrison Ford, Carrie Fisher, Billy Dee Williams, Anthony Daniels, David Prowse, Kenny Baker, Peter Mayhew, and Frank Oz.\n",
      "Following the success of Star Wars, Lucas hired Brackett to write the sequel. After she died in 1978, he outlined the whole Star Wars saga and wrote the next draft himself, before hiring Raiders of the Lost Ark (1981) )\n",
      "--- node_agent 2 ---\n",
      "tool_name='final_answer' tool_input={'text': \"According to various sources, including a website that lists notable deaths in September 2024, Tony Award-winning actor (The Great White Hope; Star Wars - 'voice of Darth Vader'; Field Of Dreams) and others died on September 9, 2024. The list includes Pete Rose, James Earl Jones, Alberto Fujimori, Carroll Dawson (basketball coach), and Norman Chui (Hong Kong actor). This is consistent with information found on Wikipedia about the death of James Earl Jones, a renowned American actor who passed away on September 9, 2024.\"} tool_output=None\n",
      "--- conditional_edges ---\n",
      "next_node: final_answer\n",
      "--- node_tool ---\n",
      "final_answer(input={'text': \"According to various sources, including a website that lists notable deaths in September 2024, Tony Award-winning actor (The Great White Hope; Star Wars - 'voice of Darth Vader'; Field Of Dreams) and others died on September 9, 2024. The list includes Pete Rose, James Earl Jones, Alberto Fujimori, Carroll Dawson (basketball coach), and Norman Chui (Hong Kong actor). This is consistent with information found on Wikipedia about the death of James Earl Jones, a renowned American actor who passed away on September 9, 2024.\"}, output=According to various sources, including a website that lists notable deaths in September 2024, Tony Award-winning actor (The Great White Hope; Star Wars - 'voice of Darth Vader'; Field Of Dreams) and others died on September 9, 2024. The list includes Pete Rose, James Earl Jones, Alberto Fujimori, Carroll Dawson (basketball coach), and Norman Chui (Hong Kong actor). This is consistent with information found on Wikipedia about the death of James Earl Jones, a renowned American actor who passed away on September 9, 2024.)\n",
      "--- human ---\n",
      "next_node: Agent2\n",
      "--- node_agent 2 ---\n",
      "tool_name='tool_wikipedia' tool_input={'q': 'James Earl Jones death date'} tool_output=None\n",
      "--- conditional_edges ---\n",
      "next_node: tool_wikipedia\n",
      "--- node_tool ---\n",
      "tool_wikipedia(input={'q': 'James Earl Jones death date'}, output=Page: James Earl Jones\n",
      "Summary: James Earl Jones (January 17, 1931 – September 9, 2024) was an American actor. A pioneer for black actors in the entertainment industry, he is known for his extensive and acclaimed roles on stage and screen. Jones is one of the few performers to achieve the EGOT (Emmy, Grammy, Oscar, and Tony). He was inducted into the American Theater Hall of Fame in 1985, and was honored with the National Medal of Arts in 1992, the Kennedy Center Honor in 2002, the Screen Actors Guild Life Achievement Award in 2009, and the Academy Honorary Award in 2011.\n",
      "Born in Arkabutla, Mississippi, Jones had a stutter from childhood. He said that poetry and acting helped him overcome the challenges of his disability. A pre-med major in college, he served as an officer in the U.S. Army during the Korean War before pursuing a career in acting. His deep voice was praised as a \"stirring basso profondo that has lent gravel and gravitas\" to his projects. Jones made his Broadway debut in the play Sunrise at Campobello (1957). He then gained prominence for acting in numerous productions with Shakespeare in the Park including Othello, Hamlet, Coriolanus, and King Lear. He worked steadily in theater, winning the Tony Award for Best Actor in a Play for his role as a boxer in The Great White Hope (1968), which he reprised in the 1970 film adaptation, earning him Academy Award and Golden Globe nominations.\n",
      "Jones won his second Tony Award for Best Actor in a Play for his role as a working class father in August Wilson's Fences (1987). He was a Tony Award nominee for his roles as the husband in Ernest Thompson's On Golden Pond (2005) about an aging couple, and as a former president in the Gore Vidal play The Best Man (2012). His other Broadway performances included Cat on a Hot Tin Roof (2008), Driving Miss Daisy (2010–2011), You Can't Take It with You (2014), and The Gin Game (2015–2016). He received a Special Tony Award for Lifetime Achievement in 2017.\n",
      "Jones made his film debut in Stanley Kubrick's Dr. Strangelove (1964). He received a Golden Globe Award nomination for Claudine (1974). He gained international fame for his voice role as Darth Vader in the Star Wars franchise, beginning with the original 1977 film. Jones's other notable films include The Man (1972), Conan the Barbarian (1982), Matewan (1987), Coming to America (1988), Field of Dreams (1989), Best of the Best (1989), The Hunt for Red October (1990), Sneakers (1992), The Sandlot (1993), The Lion King (1994), and Cry, the Beloved Country (1995). On television, he received eight Primetime Emmy Award nominations winning twice for his roles in thriller film Heat Wave (1990) and the crime series Gabriel's Fire (1991). He also acted in Roots (1977), Jesus of Nazareth (1977), Picket Fences (1994), Homicide: Life on the Street (1997), and Everwood (2004).\n",
      "\n",
      "Page: James Earl Jones on screen and stage\n",
      "Summary: American actor James Earl Jones had an extensive career in various film, television, and theater. He started out in film by appearing in the 1964 political satire film Dr. Strangelove as Lt. Lothar Zogg. He then went on to star in the 1970 film The Great White Hope as Jack Jefferson, a role he first played in the Broadway production of the same name. The film role earned him two Golden Globe nominations, one for Best Actor and winning one for New Star of the Year. He also received an Academy Award nomination for Best Actor. His other work in the 1970s included playing the title character in Malcolm X (1972), Johnny Williams in The River Niger (1976), Nick Debrett in Swashbuckler (1976), Malcolm X again in The Greatest (1977), and The Bushido Blade with Richard Boone (1979).\n",
      "Jones had notably voiced the antagonist Darth Vader in the Star Wars franchise, first in the original trilogy films—Star Wars (1977), The Empire Strikes Back (1980), Return of the Jedi (1983) then again in the third installment of the prequel trilogy, Revenge of the Sith, first installment of the Star Wars)\n",
      "--- node_agent 2 ---\n",
      "tool_name='final_answer' tool_input={'text': \"According to various sources, including a website that lists notable deaths in September 2024, Tony Award-winning actor (The Great White Hope; Star Wars - 'voice of Darth Vader'; Field Of Dreams) and others died on September 9, 2024. The list includes Pete Rose, James Earl Jones, Alberto Fujimori, Carroll Dawson (basketball coach), and Norman Chui (Hong Kong actor). This is consistent with information found on Wikipedia about the death of James Earl Jones, a renowned American actor who passed away on September 9, 2024.\"} tool_output=None\n",
      "--- conditional_edges ---\n",
      "next_node: final_answer\n",
      "--- node_tool ---\n",
      "final_answer(input={'text': \"According to various sources, including a website that lists notable deaths in September 2024, Tony Award-winning actor (The Great White Hope; Star Wars - 'voice of Darth Vader'; Field Of Dreams) and others died on September 9, 2024. The list includes Pete Rose, James Earl Jones, Alberto Fujimori, Carroll Dawson (basketball coach), and Norman Chui (Hong Kong actor). This is consistent with information found on Wikipedia about the death of James Earl Jones, a renowned American actor who passed away on September 9, 2024.\"}, output=According to various sources, including a website that lists notable deaths in September 2024, Tony Award-winning actor (The Great White Hope; Star Wars - 'voice of Darth Vader'; Field Of Dreams) and others died on September 9, 2024. The list includes Pete Rose, James Earl Jones, Alberto Fujimori, Carroll Dawson (basketball coach), and Norman Chui (Hong Kong actor). This is consistent with information found on Wikipedia about the death of James Earl Jones, a renowned American actor who passed away on September 9, 2024.)\n",
      "--- human ---\n",
      "next_node: __end__\n",
      "----\n"
     ]
    },
    {
     "data": {
      "text/plain": [
       "\"According to various sources, including a website that lists notable deaths in September 2024, Tony Award-winning actor (The Great White Hope; Star Wars - 'voice of Darth Vader'; Field Of Dreams) and others died on September 9, 2024. The list includes Pete Rose, James Earl Jones, Alberto Fujimori, Carroll Dawson (basketball coach), and Norman Chui (Hong Kong actor). This is consistent with information found on Wikipedia about the death of James Earl Jones, a renowned American actor who passed away on September 9, 2024.\""
      ]
     },
     "execution_count": 114,
     "metadata": {},
     "output_type": "execute_result"
    }
   ],
   "execution_count": 114
  }
 ],
 "metadata": {
  "kernelspec": {
   "display_name": "Python 3 (ipykernel)",
   "language": "python",
   "name": "python3"
  },
  "language_info": {
   "codemirror_mode": {
    "name": "ipython",
    "version": 3
   },
   "file_extension": ".py",
   "mimetype": "text/x-python",
   "name": "python",
   "nbconvert_exporter": "python",
   "pygments_lexer": "ipython3",
   "version": "3.11.0"
  }
 },
 "nbformat": 4,
 "nbformat_minor": 5
}
