{
 "cells": [
  {
   "cell_type": "markdown",
   "id": "a352230a-f5ee-4740-adc5-c4981291a029",
   "metadata": {},
   "source": [
    "# GenAI with Python: Coding Agents"
   ]
  },
  {
   "cell_type": "markdown",
   "id": "0a2f492c-c9a7-436e-871d-6722242797ed",
   "metadata": {},
   "source": [
    "###### [Article: TowardsDataScience](https://towardsdatascience.com/genai-with-python-coding-agents-765406d26584)"
   ]
  },
  {
   "cell_type": "markdown",
   "id": "dc8e876d-4e3e-4466-a89a-b424408f3765",
   "metadata": {},
   "source": [
    "### 0 - Setup"
   ]
  },
  {
   "cell_type": "markdown",
   "id": "70d766b6-667e-4d51-9424-da34d6a1bda7",
   "metadata": {},
   "source": [
    "##### Data"
   ]
  },
  {
   "cell_type": "code",
   "id": "0b37694f-333a-46fe-9497-20ae82d5b200",
   "metadata": {},
   "source": [
    "import pandas as pd\n",
    "from jupyterlab.semver import regexp\n",
    "from litellm import api_base\n",
    "from litellm.utils import executor\n",
    "\n",
    "dtf = pd.read_csv(\"data_titanic.csv\")\n",
    "dtf.head(3)"
   ],
   "outputs": [],
   "execution_count": null
  },
  {
   "cell_type": "code",
   "id": "386aa86f-dbc4-43ee-98c6-3f93e817ca2e",
   "metadata": {},
   "source": [
    "print(\"How many people in dataset? -->\", len(dtf))\n",
    "print(\"How many people survived? -->\", len(dtf[dtf[\"Survived\"]==1]))\n",
    "print(\"How many people died? -->\", len(dtf[dtf[\"Survived\"]==0]))"
   ],
   "outputs": [],
   "execution_count": null
  },
  {
   "cell_type": "markdown",
   "id": "a47f65f1-46e0-4edf-92dc-96123c8ff06e",
   "metadata": {},
   "source": [
    "##### LLM"
   ]
  },
  {
   "cell_type": "code",
   "id": "016f6191-755e-483d-aa92-d7cd2cd3146b",
   "metadata": {},
   "source": [
    "from langchain_ollama import OllamaLLM #0.2.12\n",
    "import regex as re\n",
    "from crewai import LLM\n",
    "\n",
    "\n",
    "# LLM\n",
    "llm = OllamaLLM(model=\"codestral\", verbose=True)\n",
    "# llm = OllamaLLM(model=\"qwen2.5\", verbose=True)\n",
    "crewai_llm = LLM(model=\"ollama/qwen2.5\")\n",
    "\n",
    "res = llm.invoke(input=['''Answer short with single number: Do you know 'Titanic' dataset from Kaggle? If yes, tell me how many people survived - column [\"Survived\"]==1?''']);\n",
    "print(\"\\n\",res)\n",
    "p = re.compile(r'^.*(?:.*surviv.*)?\\s(\\d+)[*\\s]*(?:\\w*\\s*)*\\\"?surviv.*$', re.IGNORECASE & re.MULTILINE)\n",
    "survived = p.findall(res)\n",
    "print(survived)"
   ],
   "outputs": [],
   "execution_count": null
  },
  {
   "cell_type": "markdown",
   "id": "ebae08d6-1c22-4a51-a933-405ea35c6ad4",
   "metadata": {},
   "source": [
    "##### DB"
   ]
  },
  {
   "cell_type": "code",
   "id": "726cf893-7605-443c-8d75-11c9e2e19fa2",
   "metadata": {},
   "source": [
    "import sqlite3\n",
    "\n",
    "dtf.to_sql(index=False, name=\"titanic\", con=sqlite3.connect(\"database.db\"), if_exists=\"replace\")"
   ],
   "outputs": [],
   "execution_count": null
  },
  {
   "cell_type": "code",
   "id": "3864c620-cc56-41df-8129-dc97c56f0d46",
   "metadata": {},
   "source": [
    "from langchain_community.utilities.sql_database import SQLDatabase\n",
    "\n",
    "db = SQLDatabase.from_uri(\"sqlite:///database.db\")"
   ],
   "outputs": [],
   "execution_count": null
  },
  {
   "cell_type": "markdown",
   "id": "13bf428e-687c-4eee-b4f1-1d9db6ab1429",
   "metadata": {
    "jp-MarkdownHeadingCollapsed": true
   },
   "source": [
    "### 1 - SQL Agent"
   ]
  },
  {
   "cell_type": "markdown",
   "id": "683eb6fb-2754-4bd6-9bb0-58d3e928afbc",
   "metadata": {},
   "source": [
    "##### Tools"
   ]
  },
  {
   "cell_type": "code",
   "id": "083d3f5f-5c4d-4187-b6ff-63d4e91594a9",
   "metadata": {},
   "source": [
    "## DB Connection\n",
    "from crewai_tools import tool #0.8.3\n",
    "from langchain_community.tools import ListSQLDatabaseTool, InfoSQLDatabaseTool, QuerySQLDatabaseTool\n",
    "\n",
    "@tool(\"tool_tables\")\n",
    "def tool_tables() -> str:\n",
    "    \"\"\"Get all the tables in the database\"\"\"\n",
    "    return ListSQLDatabaseTool(db=db).invoke(\"\")\n",
    "\n",
    "@tool(\"tool_schema\")\n",
    "def tool_schema(tables: str) -> str:\n",
    "    \"\"\"Get table schema. Example Input: table1, table2, table3\"\"\"\n",
    "    tool = InfoSQLDatabaseTool(db=db)\n",
    "    return tool.invoke(tables)\n",
    "\n",
    "@tool(\"tool_query\")\n",
    "def tool_query(sql: str) -> str:\n",
    "    \"\"\"Execute a SQL query\"\"\"\n",
    "    return QuerySQLDatabaseTool(db=db).invoke(sql)\n",
    "\n",
    "print(\"--- Get Tables ---\")\n",
    "print( tool_tables.run() )\n",
    "\n",
    "print(\"\\n--- Get Schema ---\")\n",
    "print( tool_schema.run( tables=tool_tables.run() ) )\n",
    "\n",
    "print(\"\\n--- SQL Query ---\")\n",
    "print( tool_query.run(f\"SELECT * FROM {tool_tables.run()} LIMIT 3\") )"
   ],
   "outputs": [],
   "execution_count": null
  },
  {
   "cell_type": "code",
   "id": "6a161d84-0238-4350-94fe-897def79d4e5",
   "metadata": {},
   "source": [
    "## LLM Checking SQL\n",
    "from langchain_community.tools.sql_database.tool import QuerySQLCheckerTool\n",
    "\n",
    "@tool(\"tool_check\")\n",
    "def tool_check(sql: str) -> str:\n",
    "    \"\"\"\n",
    "    Before executing a query, always use this tool to review the SQL query \n",
    "    and correct the code if necessary.\n",
    "    \"\"\"\n",
    "    return QuerySQLCheckerTool(db=db, llm=llm).invoke({\"query\":sql})\n",
    "\n",
    "tool_check.run(f\"SELECT * FROM {tool_tables.run()} LIMIT 3 WHRE id=5\").split('\\n')[0]"
   ],
   "outputs": [],
   "execution_count": null
  },
  {
   "cell_type": "markdown",
   "id": "26d33ea5-1b4c-457d-b51b-60bce93dacc1",
   "metadata": {},
   "source": "#### Agent"
  },
  {
   "cell_type": "code",
   "id": "835bf37b-146a-49d9-989b-09802a8e4aff",
   "metadata": {},
   "source": [
    "import crewai #0.86.0\n",
    "\n",
    "prompt = '''Extract data with SQL query to answer {user_input}'''\n",
    "\n",
    "## Agent\n",
    "agent_sql = crewai.Agent(\n",
    "    role=\"Database Engineer\",\n",
    "    goal=prompt,\n",
    "    backstory='''\n",
    "        You are an experienced database engineer that creates and optimize efficient SQL queries.\n",
    "        Use the `tool_tables` to find tables.\n",
    "        Use the `tool_schema` to get the metadata for the tables.\n",
    "        Use the `tool_check` to review your queries before executing.\n",
    "        Use the `tool_query` to execute SQL queries.\n",
    "     ''',\n",
    "    tools=[tool_tables, tool_schema, tool_query, tool_check], \n",
    "    max_iter=10,\n",
    "    llm=crewai_llm,\n",
    "    allow_delegation=False, \n",
    "    verbose=True)\n",
    "\n",
    "## Task\n",
    "task_sql = crewai.Task(\n",
    "    description=prompt,\n",
    "    agent=agent_sql,\n",
    "    expected_output='''Output of the query'''\n",
    ")"
   ],
   "outputs": [],
   "execution_count": null
  },
  {
   "cell_type": "markdown",
   "id": "eeec31e3-ef5d-4dd6-a5e2-640df375573f",
   "metadata": {},
   "source": "#### Test single Agent"
  },
  {
   "cell_type": "code",
   "id": "ef519d9f-4551-4cce-93bc-c018b9f0c0e6",
   "metadata": {},
   "source": [
    "crew = crewai.Crew(agents=[agent_sql], tasks=[task_sql], verbose=False)\n",
    "res = crew.kickoff(inputs={\"user_input\":\"how many people died?\"})\n",
    "print(\"\\nResponse:\\n\", res)"
   ],
   "outputs": [],
   "execution_count": null
  },
  {
   "cell_type": "markdown",
   "id": "3ec402fa-3c2d-419b-83e0-1e1848ed409f",
   "metadata": {
    "jp-MarkdownHeadingCollapsed": true
   },
   "source": [
    "### 2 - Python Agent"
   ]
  },
  {
   "cell_type": "markdown",
   "id": "aa92db4e-8000-4083-a484-6693c7abf67d",
   "metadata": {},
   "source": [
    "##### Tools"
   ]
  },
  {
   "cell_type": "code",
   "id": "46ffdb71-2c82-4db1-9ec1-14579fe4804c",
   "metadata": {},
   "source": [
    "from langchain_experimental.utilities import PythonREPL\n",
    "from langchain_core.tools import Tool\n",
    "\n",
    "tool_pycode = Tool(name=\"tool_pycode\",\n",
    "    description='''\n",
    "    A Python shell. Use this to execute python commands. Input should be a valid python command. \n",
    "    If you want to see the output of a value, you should print it out with `print(...)`.\n",
    "    ''',\n",
    "    func=PythonREPL().run)\n",
    "\n",
    "result = tool_pycode.run(\"import numpy as np; print(np.sum([1,2]))\")\n",
    "print(f'\\n{result}')"
   ],
   "outputs": [],
   "execution_count": null
  },
  {
   "cell_type": "code",
   "id": "4ef82ed3-0fed-4325-9be5-7cbf33a7098b",
   "metadata": {},
   "source": [
    "## LLM Checking Python\n",
    "\n",
    "@tool(\"tool_eval\")\n",
    "def tool_eval(code: str) -> str:\n",
    "    \"\"\"\n",
    "    Before executing Python code, always use this tool to evaluate code and correct the code if necessary.\n",
    "    Example: `import numpy as np print(np.sum([1,2]))` would give an error, \n",
    "    so you must change it to `import numpy as np; print(np.sum([1,2]))`\n",
    "    \"\"\"\n",
    "    res = llm.invoke(input=['''review the following python code and correct it if you find errors.\n",
    "    You must return very short answer in json format {\"answer\":<answer>, \"code\":<corrected code>}:\\n''' + code]).split(\"\\n\")\n",
    "    return res\n",
    "\n",
    "print( tool_eval.run(\"print(Res:')\") )"
   ],
   "outputs": [],
   "execution_count": null
  },
  {
   "cell_type": "markdown",
   "id": "f005f751-36cd-450a-a08a-3068f89f595b",
   "metadata": {},
   "source": [
    "##### Agent"
   ]
  },
  {
   "cell_type": "code",
   "id": "d9ff6ba2-9afa-4ede-b9be-c4fa467ecb6b",
   "metadata": {},
   "source": [
    "prompt = '''You analyze the data received from the database engineer to answer {user_input}'''\n",
    "# crewai_llm = LLM(\n",
    "#     model=\"ollama/deepseek-coder-v2\"\n",
    "# )\n",
    "## Agent\n",
    "agent_py = crewai.Agent(\n",
    "    role=\"Data Analyst\",\n",
    "    goal=prompt,\n",
    "    backstory='''\n",
    "        You are an experienced data anlyst that analyzes datasets using Python.\n",
    "        You have attention to detail and always produce very clear and detailed results.\n",
    "        First generate Python code you need to analyze the data.\n",
    "        Then use the `tool_eval` to check your code.\n",
    "        Finally use `tool_pycode` to execute the code and return the output.\n",
    "    ''',\n",
    "    tools=[tool_eval, tool_pycode],\n",
    "    max_iter=10,\n",
    "    llm=crewai_llm,\n",
    "    allow_delegation=False, verbose=True)\n",
    "\n",
    "## Task\n",
    "task_py = crewai.Task(\n",
    "    description=prompt,\n",
    "    agent=agent_py,\n",
    "    context=[task_sql],\n",
    "    expected_output='''Output of Python code''')"
   ],
   "outputs": [],
   "execution_count": null
  },
  {
   "cell_type": "markdown",
   "id": "6d3ac7fe-58af-4921-91db-33b67f18aa8a",
   "metadata": {},
   "source": [
    "##### Test single Agent"
   ]
  },
  {
   "cell_type": "code",
   "id": "bdb4dc0e-69f2-4e8b-9916-b9d821c36464",
   "metadata": {},
   "source": [
    "import os\n",
    "os.environ['LITELLM_LOG'] = 'DEBUG' # litellm.set_verbose=True\n",
    "crew = crewai.Crew(agents=[agent_py], tasks=[task_py], verbose=True)\n",
    "res = crew.kickoff(inputs={\"user_input\": f\"how many people died in this dataset? {dtf.to_string()}\"})"
   ],
   "outputs": [],
   "execution_count": null
  },
  {
   "cell_type": "markdown",
   "id": "de599ada-2adf-4866-8e4a-b45607102f21",
   "metadata": {
    "jp-MarkdownHeadingCollapsed": true
   },
   "source": [
    "### 3 - HTML Agent"
   ]
  },
  {
   "cell_type": "markdown",
   "id": "b72fa1aa-cf6c-4820-a34c-f73abb9431ce",
   "metadata": {},
   "source": [
    "##### Tools"
   ]
  },
  {
   "cell_type": "code",
   "id": "00763aed-6221-4aeb-8cb8-94782cc31831",
   "metadata": {},
   "source": [
    "#no need"
   ],
   "outputs": [],
   "execution_count": null
  },
  {
   "cell_type": "markdown",
   "id": "783a1012-5747-49d2-8408-8be7dfe6055f",
   "metadata": {},
   "source": [
    "##### Agent"
   ]
  },
  {
   "cell_type": "code",
   "id": "5f30aa11-8544-4ad5-9bdd-173aac329f28",
   "metadata": {},
   "source": [
    "prompt = '''You write executive summary reports based on the work of the data analyst to answer {user_input}'''\n",
    "\n",
    "## Agent\n",
    "agent_html = crewai.Agent(\n",
    "    role=\"Web Developer\",\n",
    "    goal=prompt,\n",
    "    backstory='''\n",
    "        You are an experienced web developer that writes beautiful reports using HTML and CSS.\n",
    "        You always summarize texts into bullet points containing the most important details.\n",
    "        At the end add an interactive button with JavaScript so the user can approve the report,\n",
    "        and if the user clicks the button, show a pop-up text.\n",
    "     ''',\n",
    "    #tools=[], \n",
    "    max_iter=10,\n",
    "    llm=crewai_llm,\n",
    "    allow_delegation=False, verbose=True)\n",
    "\n",
    "## Task\n",
    "task_html = crewai.Task(\n",
    "    description=prompt,\n",
    "    agent=agent_html,\n",
    "    context=[task_py],\n",
    "    expected_output='''HTML code''')"
   ],
   "outputs": [],
   "execution_count": null
  },
  {
   "cell_type": "markdown",
   "id": "fe64baef-2b81-4e27-bc02-d751765d9c90",
   "metadata": {},
   "source": [
    "##### Test single Agent"
   ]
  },
  {
   "cell_type": "code",
   "id": "4c78968c-f675-4c1f-84e9-3845e8f5bdee",
   "metadata": {},
   "source": [
    "crew = crewai.Crew(agents=[agent_html], tasks=[task_html], verbose=False)\n",
    "res = crew.kickoff(inputs={\"user_input\": \"Number of people survived: 342\"})\n",
    "print(\"\\n---Res---\\n\", res)"
   ],
   "outputs": [],
   "execution_count": null
  },
  {
   "cell_type": "markdown",
   "id": "06848b63-2fe1-4fca-b612-95b241e7c73e",
   "metadata": {},
   "source": [
    "### 4 - Multiple Agents"
   ]
  },
  {
   "cell_type": "code",
   "id": "f7b34afb-438d-4cef-b0f2-0df6583aa21f",
   "metadata": {},
   "source": [
    "crew = crewai.Crew(agents=[agent_sql, agent_py, agent_html], \n",
    "                   tasks=[task_sql, task_py, task_html], \n",
    "                   process=crewai.Process.sequential,\n",
    "                   verbose=True)\n",
    "\n",
    "res = crew.kickoff(inputs={\"user_input\":\"how many people died?\"})\n",
    "\n",
    "print(\"\\n---Res---\\n\", res)"
   ],
   "outputs": [],
   "execution_count": null
  },
  {
   "cell_type": "markdown",
   "id": "9242aab5-f17c-45ea-b6bd-8c78a1c214bc",
   "metadata": {},
   "source": [
    "### 5 - Machine Learning"
   ]
  },
  {
   "cell_type": "code",
   "id": "fdb4d07a-4380-41f2-8800-d2359857e284",
   "metadata": {},
   "source": [
    "from langchain_experimental.agents.agent_toolkits import create_pandas_dataframe_agent\n",
    "\n",
    "agent = create_pandas_dataframe_agent(llm=llm, df=dtf, verbose=True, allow_dangerous_code=True,\n",
    "                                      agent_executor_kwargs={'handle_parsing_errors': True})\n",
    "agent.invoke(\"how many people died?\")\n",
    "\n",
    "agent.invoke('''\n",
    "        You are an experienced data scientist that does machine learning using Python and sckit-learn.\n",
    "        Take the dataframe and split into train set and test set. \n",
    "        Then train a simple classification to predict the column `Survived`.\n",
    "        Then use the score to evaluate the model predictions.''')"
   ],
   "outputs": [],
   "execution_count": null
  },
  {
   "cell_type": "code",
   "id": "a5031399-f3fd-4e3b-985c-53cb2beedf00",
   "metadata": {},
   "source": [],
   "outputs": [],
   "execution_count": null
  }
 ],
 "metadata": {
  "kernelspec": {
   "display_name": "Python 3 (ipykernel)",
   "language": "python",
   "name": "python3"
  },
  "language_info": {
   "codemirror_mode": {
    "name": "ipython",
    "version": 3
   },
   "file_extension": ".py",
   "mimetype": "text/x-python",
   "name": "python",
   "nbconvert_exporter": "python",
   "pygments_lexer": "ipython3",
   "version": "3.11.0"
  }
 },
 "nbformat": 4,
 "nbformat_minor": 5
}
