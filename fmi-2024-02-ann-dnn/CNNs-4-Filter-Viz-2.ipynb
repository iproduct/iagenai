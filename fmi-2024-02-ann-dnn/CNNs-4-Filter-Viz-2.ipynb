{
 "cells": [
  {
   "cell_type": "markdown",
   "metadata": {
    "collapsed": true
   },
   "source": [
    "## <small>\n",
    "Copyright (c) 2017-21 Andrew Glassner\n",
    "\n",
    "Permission is hereby granted, free of charge, to any person obtaining a copy of this software and associated documentation files (the \"Software\"), to deal in the Software without restriction, including without limitation the rights to use, copy, modify, merge, publish, distribute, sublicense, and/or sell copies of the Software, and to permit persons to whom the Software is furnished to do so, subject to the following conditions:\n",
    "\n",
    "The above copyright notice and this permission notice shall be included in all copies or substantial portions of the Software.\n",
    "\n",
    "THE SOFTWARE IS PROVIDED \"AS IS\", WITHOUT WARRANTY OF ANY KIND, EXPRESS OR IMPLIED, INCLUDING BUT NOT LIMITED TO THE WARRANTIES OF MERCHANTABILITY, FITNESS FOR A PARTICULAR PURPOSE AND NONINFRINGEMENT. IN NO EVENT SHALL THE AUTHORS OR COPYRIGHT HOLDERS BE LIABLE FOR ANY CLAIM, DAMAGES OR OTHER LIABILITY, WHETHER IN AN ACTION OF CONTRACT, TORT OR OTHERWISE, ARISING FROM, OUT OF OR IN CONNECTION WITH THE SOFTWARE OR THE USE OR OTHER DEALINGS IN THE SOFTWARE.\n",
    "</small>\n",
    "\n",
    "\n",
    "\n",
    "# Deep Learning: A Visual Approach\n",
    "## by Andrew Glassner, https://glassner.com\n",
    "### Order: https://nostarch.com/deep-learning-visual-approach\n",
    "### GitHub: https://github.com/blueberrymusic\n",
    "------\n",
    "\n",
    "### What's in this notebook\n",
    "\n",
    "This notebook is provided as a “behind-the-scenes” look at code used to make some of the figures in this chapter. It is cleaned up a bit from the original code that I hacked together, and is only lightly commented. I wrote the code to be easy to interpret and understand, even for those who are new to Python. I tried never to be clever or even more efficient at the cost of being harder to understand. The code is in Python3, using the versions of libraries as of April 2021. \n",
    "\n",
    "This notebook may contain additional code to create models and images not in the book. That material is included here to demonstrate additional techniques.\n",
    "\n",
    "Note that I've included the output cells in this saved notebook, but Jupyter doesn't save the variables or data that were used to generate them. To recreate any cell's output, evaluate all the cells from the start up to that cell. A convenient way to experiment is to first choose \"Restart & Run All\" from the Kernel menu, so that everything's been defined and is up to date. Then you can experiment using the variables, data, functions, and other stuff defined in this notebook."
   ]
  },
  {
   "cell_type": "markdown",
   "metadata": {},
   "source": [
    "## Chapter 17: Convnets in Practice - Notebook 4: Filter Visualization 2"
   ]
  },
  {
   "cell_type": "markdown",
   "metadata": {
    "collapsed": true
   },
   "source": [
    "Activation code based on https://github.com/fchollet/deep-learning-with-python-notebooks"
   ]
  },
  {
   "cell_type": "code",
   "metadata": {},
   "source": [
    "import keras\n",
    "from keras.api.applications import VGG16\n",
    "from keras.api.preprocessing import image\n",
    "from keras import models\n",
    "from keras import backend as K_backend\n",
    "import numpy as np\n",
    "import math\n",
    "import matplotlib.pyplot as plt\n",
    "\n",
    "# Just in case the Keras defaults aren't as we expect\n",
    "K_backend.set_image_data_format('channels_last')"
   ],
   "outputs": [],
   "execution_count": null
  },
  {
   "cell_type": "code",
   "metadata": {},
   "source": [
    "# Workaround for Keras issues on Mac computers (you can comment this\n",
    "# out if you're not on a Mac, or not having problems)\n",
    "import os\n",
    "os.environ['KMP_DUPLICATE_LIB_OK']='True'"
   ],
   "outputs": [],
   "execution_count": null
  },
  {
   "cell_type": "code",
   "metadata": {},
   "source": [
    "# Make a File_Helper for saving and loading files.\n",
    "\n",
    "save_files = False\n",
    "\n",
    "import os, sys, inspect\n",
    "current_dir = os.path.dirname(os.path.abspath(inspect.getfile(inspect.currentframe())))\n",
    "sys.path.insert(0, os.path.dirname(current_dir)) # path to parent dir\n",
    "from DLBasics_Utilities import File_Helper\n",
    "file_helper = File_Helper(save_files)"
   ],
   "outputs": [],
   "execution_count": null
  },
  {
   "cell_type": "code",
   "metadata": {},
   "source": [
    "def get_VGG16():\n",
    "    model = VGG16(weights='imagenet', include_top=False)\n",
    "    return model\n",
    "\n",
    "model = get_VGG16()\n",
    "model.summary()"
   ],
   "outputs": [],
   "execution_count": null
  },
  {
   "cell_type": "code",
   "metadata": {},
   "source": [
    "# Get the input image, in this case a duck, and prepare it for the network\n",
    "duck_path = file_helper.get_input_file_path('duck-268105_640.jpg')\n",
    "img = image.load_img(duck_path, target_size=(224, 224))\n",
    "img_tensor = image.img_to_array(img)\n",
    "img_tensor /= 255\n",
    "img_tensor = np.expand_dims(img_tensor, axis=0)\n",
    "plt.imshow(img_tensor[0])\n",
    "plt.xticks([],[])\n",
    "plt.yticks([],[])\n",
    "file_helper.save_figure('filter-responses-input')\n",
    "plt.show()"
   ],
   "outputs": [],
   "execution_count": null
  },
  {
   "cell_type": "code",
   "metadata": {},
   "source": [
    "# Get the output of every layer\n",
    "layer_outputs = [layer.output for layer in model.layers]\n",
    "\n",
    "# Creates a model that will return these outputs, given the model input:\n",
    "activation_model = models.Model(inputs=model.input, outputs=layer_outputs)\n",
    "\n",
    "# A list of Numpy arrays, one array per layer activation\n",
    "activations = activation_model.predict(img_tensor)"
   ],
   "outputs": [],
   "execution_count": null
  },
  {
   "cell_type": "code",
   "metadata": {},
   "source": [
    "# This image might have a very wide range of values, so center them\n",
    "# and scale by the standard deviation so that we see most of the values\n",
    "def prep_image_for_display(input_image):\n",
    "    image = np.copy(input_image)\n",
    "    image -= image.mean()\n",
    "    image /= (image.std() + 1e-5)\n",
    "    image *= 64\n",
    "    image += 128\n",
    "    image = np.clip(image, 0, 255).astype('uint8')\n",
    "    return image"
   ],
   "outputs": [],
   "execution_count": null
  },
  {
   "cell_type": "code",
   "metadata": {},
   "source": [
    "def show_activations(activations, activation_index, num_rows, num_cols, title):\n",
    "    display_res = activations[activation_index][0].shape[1] # assume these are squares\n",
    "    gap = max(1, int(.05 * display_res))\n",
    "    grid = np.zeros(((display_res*num_rows)+(gap*(num_rows-1)), \n",
    "                     (display_res*num_cols)+(gap*(num_cols-1))))\n",
    "\n",
    "    for y in range(num_rows):\n",
    "        for x in range(num_cols):\n",
    "            index = (y * num_cols) + x\n",
    "            response = activations[activation_index][0, :, :, index]\n",
    "            response = prep_image_for_display(response)\n",
    "            h_start = x*(gap+display_res)\n",
    "            v_start = y*(gap+display_res)\n",
    "            grid[v_start : v_start+display_res, h_start : h_start+display_res] = response\n",
    "    \n",
    "    plt.figure(figsize=(num_cols, num_rows))\n",
    "    plt.imshow(grid, interpolation='nearest', cmap='inferno')\n",
    "    plt.title(title, fontsize=14, y=1.03)\n",
    "    plt.tick_params(labelbottom='off', labelleft='off') \n",
    "    file_helper.save_figure('responses-'+title)\n",
    "    plt.show()"
   ],
   "outputs": [],
   "execution_count": null
  },
  {
   "cell_type": "code",
   "metadata": {},
   "source": [
    "img = prep_image_for_display(activations[1][0, :, :, 0])\n",
    "fig = plt.figure()\n",
    "im = plt.imshow(img, cmap='inferno')\n",
    "ax = fig.gca()\n",
    "fig.colorbar(im, ax=ax)\n",
    "plt.tick_params(labelbottom='off', labelleft='off') \n",
    "file_helper.save_figure('response-block1_conv1_filter0')\n",
    "plt.show()"
   ],
   "outputs": [],
   "execution_count": null
  },
  {
   "cell_type": "code",
   "metadata": {},
   "source": [
    "plt.figure(figsize=(12,6))\n",
    "selects = [0, 6, 8, 9, 16, 19, 22, 29]\n",
    "for i in range(8):\n",
    "    plt.subplot(2, 4, i+1)\n",
    "    img = prep_image_for_display(activations[1][0, :, :, selects[i]])\n",
    "    plt.imshow(img, cmap='inferno')\n",
    "    plt.tick_params(labelbottom='off', labelleft='off') \n",
    "plt.tight_layout()\n",
    "file_helper.save_figure('response-block1_conv1_filter-selections')\n",
    "plt.show()"
   ],
   "outputs": [],
   "execution_count": null
  },
  {
   "cell_type": "code",
   "metadata": {},
   "source": [
    "activation_sets = [\n",
    "    [1, 4, 8, \"block1_conv1\"],\n",
    "    [2, 4, 8, \"block1_conv2\"],\n",
    "    [4, 4, 8, \"block2_conv1\"],\n",
    "    [5, 4, 8, \"block2_conv2\"],\n",
    "    [7, 4, 8, \"block3_conv1\"],\n",
    "    [8, 4, 8, \"block3_conv2\"],\n",
    "    [9, 4, 8, \"block3_conv3\"],\n",
    "    [11, 4, 8, \"block4_conv1\"],\n",
    "    [12, 4, 8, \"block4_conv2\"],\n",
    "    [12, 4, 8, \"block4_conv3\"],\n",
    "    [15, 4, 8, \"block5_conv1\"],\n",
    "    [16, 4, 8, \"block5_conv2\"],\n",
    "    [17, 4, 8, \"block5_conv3\"],\n",
    "    ]\n",
    "    \n",
    "for aset in activation_sets:\n",
    "    show_activations(activations, aset[0], aset[1], aset[2], aset[3])"
   ],
   "outputs": [],
   "execution_count": null
  },
  {
   "cell_type": "code",
   "metadata": {},
   "source": [],
   "outputs": [],
   "execution_count": null
  }
 ],
 "metadata": {
  "kernelspec": {
   "display_name": "Python 3",
   "language": "python",
   "name": "python3"
  },
  "language_info": {
   "codemirror_mode": {
    "name": "ipython",
    "version": 3
   },
   "file_extension": ".py",
   "mimetype": "text/x-python",
   "name": "python",
   "nbconvert_exporter": "python",
   "pygments_lexer": "ipython3",
   "version": "3.7.10"
  }
 },
 "nbformat": 4,
 "nbformat_minor": 1
}
